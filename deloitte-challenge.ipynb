{
 "cells": [
  {
   "cell_type": "code",
   "execution_count": 129,
   "id": "excited-single",
   "metadata": {},
   "outputs": [
    {
     "data": {
      "application/vnd.jupyter.widget-view+json": {
       "model_id": "1a6e8c2ef91547589cbe3f033cde73fd",
       "version_major": 2,
       "version_minor": 0
      },
      "text/plain": [
       "VBox()"
      ]
     },
     "metadata": {},
     "output_type": "display_data"
    },
    {
     "data": {
      "application/vnd.jupyter.widget-view+json": {
       "model_id": "",
       "version_major": 2,
       "version_minor": 0
      },
      "text/plain": [
       "FloatProgress(value=0.0, bar_style='info', description='Progress:', layout=Layout(height='25px', width='50%'),…"
      ]
     },
     "metadata": {},
     "output_type": "display_data"
    }
   ],
   "source": [
    "import os\n",
    "import pyspark.sql.functions as F\n",
    "import pyspark.sql.types as T\n",
    "from pyspark.sql import SparkSession\n",
    "import json\n",
    "import re\n",
    "import logging\n",
    "from pyspark.sql.window import Window\n",
    "import operator"
   ]
  },
  {
   "cell_type": "code",
   "execution_count": 130,
   "id": "careful-natural",
   "metadata": {},
   "outputs": [
    {
     "data": {
      "application/vnd.jupyter.widget-view+json": {
       "model_id": "fbb7acca5a644199825f8020962f86f6",
       "version_major": 2,
       "version_minor": 0
      },
      "text/plain": [
       "VBox()"
      ]
     },
     "metadata": {},
     "output_type": "display_data"
    },
    {
     "data": {
      "application/vnd.jupyter.widget-view+json": {
       "model_id": "",
       "version_major": 2,
       "version_minor": 0
      },
      "text/plain": [
       "FloatProgress(value=0.0, bar_style='info', description='Progress:', layout=Layout(height='25px', width='50%'),…"
      ]
     },
     "metadata": {},
     "output_type": "display_data"
    }
   ],
   "source": [
    "spark = SparkSession.builder.appName(\"Deloitte Challenge Test\").config(\"spark.jars.packages\",\"org.apache.hadoop:hadoop-aws:2.7.0\").getOrCreate()"
   ]
  },
  {
   "cell_type": "code",
   "execution_count": 131,
   "id": "stainless-playback",
   "metadata": {},
   "outputs": [
    {
     "data": {
      "application/vnd.jupyter.widget-view+json": {
       "model_id": "e6e35ca3c3c845899da3dd4c5161a02c",
       "version_major": 2,
       "version_minor": 0
      },
      "text/plain": [
       "VBox()"
      ]
     },
     "metadata": {},
     "output_type": "display_data"
    },
    {
     "data": {
      "application/vnd.jupyter.widget-view+json": {
       "model_id": "",
       "version_major": 2,
       "version_minor": 0
      },
      "text/plain": [
       "FloatProgress(value=0.0, bar_style='info', description='Progress:', layout=Layout(height='25px', width='50%'),…"
      ]
     },
     "metadata": {},
     "output_type": "display_data"
    }
   ],
   "source": [
    "stations_data = \"s3a://deloitte-ciprian-test/data/source/stations.txt\"\n",
    "trips_data = \"s3a://deloitte-ciprian-test/data/source/trips.txt\""
   ]
  },
  {
   "cell_type": "markdown",
   "id": "headed-ireland",
   "metadata": {},
   "source": [
    "## Read Data From Files"
   ]
  },
  {
   "cell_type": "code",
   "execution_count": 132,
   "id": "variable-aircraft",
   "metadata": {},
   "outputs": [
    {
     "data": {
      "application/vnd.jupyter.widget-view+json": {
       "model_id": "898214ea0f314f0ab12bb6df90e3f11e",
       "version_major": 2,
       "version_minor": 0
      },
      "text/plain": [
       "VBox()"
      ]
     },
     "metadata": {},
     "output_type": "display_data"
    },
    {
     "data": {
      "application/vnd.jupyter.widget-view+json": {
       "model_id": "",
       "version_major": 2,
       "version_minor": 0
      },
      "text/plain": [
       "FloatProgress(value=0.0, bar_style='info', description='Progress:', layout=Layout(height='25px', width='50%'),…"
      ]
     },
     "metadata": {},
     "output_type": "display_data"
    },
    {
     "name": "stdout",
     "output_type": "stream",
     "text": [
      "+--------------------+\n",
      "|               value|\n",
      "+--------------------+\n",
      "|                   {|\n",
      "|\"internal_bus_sta...|\n",
      "|\"public_bus_stati...|\n",
      "|                   }|\n",
      "+--------------------+"
     ]
    }
   ],
   "source": [
    "df_stations = spark.read.text(stations_data)\n",
    "df_stations.show()"
   ]
  },
  {
   "cell_type": "code",
   "execution_count": 133,
   "id": "velvet-catch",
   "metadata": {},
   "outputs": [
    {
     "data": {
      "application/vnd.jupyter.widget-view+json": {
       "model_id": "d9878519f5824679a55fe3ddec43422e",
       "version_major": 2,
       "version_minor": 0
      },
      "text/plain": [
       "VBox()"
      ]
     },
     "metadata": {},
     "output_type": "display_data"
    },
    {
     "data": {
      "application/vnd.jupyter.widget-view+json": {
       "model_id": "",
       "version_major": 2,
       "version_minor": 0
      },
      "text/plain": [
       "FloatProgress(value=0.0, bar_style='info', description='Progress:', layout=Layout(height='25px', width='50%'),…"
      ]
     },
     "metadata": {},
     "output_type": "display_data"
    },
    {
     "name": "stdout",
     "output_type": "stream",
     "text": [
      "+--------------------+\n",
      "|               value|\n",
      "+--------------------+\n",
      "|                   {|\n",
      "|\"ORIGIN\": [\"B\",\"B...|\n",
      "|\"DESTINATION\": [\"...|\n",
      "|\"INTERNAL_BUS_STA...|\n",
      "|\" TRIPTIMES\": [[2...|\n",
      "|                   }|\n",
      "+--------------------+"
     ]
    }
   ],
   "source": [
    "df_trips = spark.read.text(trips_data)\n",
    "df_trips.show()"
   ]
  },
  {
   "cell_type": "markdown",
   "id": "owned-situation",
   "metadata": {},
   "source": [
    "### Because is not possible to parse the data in JSON Format I clean a bit the data before I start to parse it"
   ]
  },
  {
   "cell_type": "code",
   "execution_count": 134,
   "id": "maritime-imperial",
   "metadata": {},
   "outputs": [
    {
     "data": {
      "application/vnd.jupyter.widget-view+json": {
       "model_id": "e5c9274da1a345729bdca082e254994c",
       "version_major": 2,
       "version_minor": 0
      },
      "text/plain": [
       "VBox()"
      ]
     },
     "metadata": {},
     "output_type": "display_data"
    },
    {
     "data": {
      "application/vnd.jupyter.widget-view+json": {
       "model_id": "",
       "version_major": 2,
       "version_minor": 0
      },
      "text/plain": [
       "FloatProgress(value=0.0, bar_style='info', description='Progress:', layout=Layout(height='25px', width='50%'),…"
      ]
     },
     "metadata": {},
     "output_type": "display_data"
    }
   ],
   "source": [
    "df_stations = df_stations.filter(df_stations.value!='{')"
   ]
  },
  {
   "cell_type": "code",
   "execution_count": 135,
   "id": "brazilian-authority",
   "metadata": {},
   "outputs": [
    {
     "data": {
      "application/vnd.jupyter.widget-view+json": {
       "model_id": "764042b921514eb3b2f21e60dc4369e6",
       "version_major": 2,
       "version_minor": 0
      },
      "text/plain": [
       "VBox()"
      ]
     },
     "metadata": {},
     "output_type": "display_data"
    },
    {
     "data": {
      "application/vnd.jupyter.widget-view+json": {
       "model_id": "",
       "version_major": 2,
       "version_minor": 0
      },
      "text/plain": [
       "FloatProgress(value=0.0, bar_style='info', description='Progress:', layout=Layout(height='25px', width='50%'),…"
      ]
     },
     "metadata": {},
     "output_type": "display_data"
    }
   ],
   "source": [
    "df_stations = df_stations.filter(df_stations.value!='}')"
   ]
  },
  {
   "cell_type": "code",
   "execution_count": 136,
   "id": "constitutional-colony",
   "metadata": {},
   "outputs": [
    {
     "data": {
      "application/vnd.jupyter.widget-view+json": {
       "model_id": "899a14e35c4f4d489a245d1e377e54b4",
       "version_major": 2,
       "version_minor": 0
      },
      "text/plain": [
       "VBox()"
      ]
     },
     "metadata": {},
     "output_type": "display_data"
    },
    {
     "data": {
      "application/vnd.jupyter.widget-view+json": {
       "model_id": "",
       "version_major": 2,
       "version_minor": 0
      },
      "text/plain": [
       "FloatProgress(value=0.0, bar_style='info', description='Progress:', layout=Layout(height='25px', width='50%'),…"
      ]
     },
     "metadata": {},
     "output_type": "display_data"
    }
   ],
   "source": [
    "df_trips = df_trips.filter(df_trips.value!='{')"
   ]
  },
  {
   "cell_type": "code",
   "execution_count": 137,
   "id": "sorted-locking",
   "metadata": {},
   "outputs": [
    {
     "data": {
      "application/vnd.jupyter.widget-view+json": {
       "model_id": "134f0784538b42e89ed68f167a756ab2",
       "version_major": 2,
       "version_minor": 0
      },
      "text/plain": [
       "VBox()"
      ]
     },
     "metadata": {},
     "output_type": "display_data"
    },
    {
     "data": {
      "application/vnd.jupyter.widget-view+json": {
       "model_id": "",
       "version_major": 2,
       "version_minor": 0
      },
      "text/plain": [
       "FloatProgress(value=0.0, bar_style='info', description='Progress:', layout=Layout(height='25px', width='50%'),…"
      ]
     },
     "metadata": {},
     "output_type": "display_data"
    }
   ],
   "source": [
    "df_trips = df_trips.filter(df_trips.value!='}')"
   ]
  },
  {
   "cell_type": "markdown",
   "id": "prescription-basis",
   "metadata": {},
   "source": [
    "### I visualize the rows of data I'm going to parse for both stations and trips tables"
   ]
  },
  {
   "cell_type": "code",
   "execution_count": 138,
   "id": "nutritional-probe",
   "metadata": {},
   "outputs": [
    {
     "data": {
      "application/vnd.jupyter.widget-view+json": {
       "model_id": "30d724e0cd694024bf23aefbc220ba3b",
       "version_major": 2,
       "version_minor": 0
      },
      "text/plain": [
       "VBox()"
      ]
     },
     "metadata": {},
     "output_type": "display_data"
    },
    {
     "data": {
      "application/vnd.jupyter.widget-view+json": {
       "model_id": "",
       "version_major": 2,
       "version_minor": 0
      },
      "text/plain": [
       "FloatProgress(value=0.0, bar_style='info', description='Progress:', layout=Layout(height='25px', width='50%'),…"
      ]
     },
     "metadata": {},
     "output_type": "display_data"
    },
    {
     "name": "stdout",
     "output_type": "stream",
     "text": [
      "[Row(value='\"internal_bus_station_id\": [0, 1, 2, 3, 4, 5, 6, 7, 8, 9, 5],'), Row(value='\"public_bus_station\": [\"BAutogara\", \"BVAutogara\", \"SBAutogara\",\"CJAutogara\", \"MMAutogara\",\"ISAutogara\", \"CTAutogara\",\"TMAutogara\", \"BCAutogara\", \"MSAutogara\", \"ISAutogara\"]')]"
     ]
    }
   ],
   "source": [
    "df_stations.head(4)"
   ]
  },
  {
   "cell_type": "code",
   "execution_count": 139,
   "id": "packed-cleveland",
   "metadata": {},
   "outputs": [
    {
     "data": {
      "application/vnd.jupyter.widget-view+json": {
       "model_id": "67a99f90fa0b4ef5bff7eb1941dbbdc8",
       "version_major": 2,
       "version_minor": 0
      },
      "text/plain": [
       "VBox()"
      ]
     },
     "metadata": {},
     "output_type": "display_data"
    },
    {
     "data": {
      "application/vnd.jupyter.widget-view+json": {
       "model_id": "",
       "version_major": 2,
       "version_minor": 0
      },
      "text/plain": [
       "FloatProgress(value=0.0, bar_style='info', description='Progress:', layout=Layout(height='25px', width='50%'),…"
      ]
     },
     "metadata": {},
     "output_type": "display_data"
    },
    {
     "name": "stdout",
     "output_type": "stream",
     "text": [
      "[Row(value='\"ORIGIN\": [\"B\",\"BV\",\"TM\",\"CJ\"],'), Row(value='\"DESTINATION\": [\"MM\",\"IS\",\"CT\",\"BC\"],'), Row(value='\"INTERNAL_BUS_STATION_IDS\": [[0,2,4],[1,8,5],[7,2,6],[3,9,8]],'), Row(value='\" TRIPTIMES\": [[2020-03-01 10:10:00 , 2020-03-01 12:20:10, 2020-03-01 15:10:00],[ 2020-03-01 10:10:00, 2020-03-01 12:20:10, 2020-03-01 15:10:00],[2020-04-01 10:10:00, 2020-04-01 12:20:10, 2020-04-01 15:10:00],[2020-05-01 10:10:00, 2020-05-01 12:20:10, 2020-05-01 15:10:00 ]]')]"
     ]
    }
   ],
   "source": [
    "df_trips.head(4)"
   ]
  },
  {
   "cell_type": "markdown",
   "id": "forward-journal",
   "metadata": {},
   "source": [
    "### Parse the Data in unidimensional Array Format and organize it in a tabular format"
   ]
  },
  {
   "cell_type": "code",
   "execution_count": 140,
   "id": "published-frost",
   "metadata": {},
   "outputs": [
    {
     "data": {
      "application/vnd.jupyter.widget-view+json": {
       "model_id": "d53f061a9554404f9676fcda3a73bacb",
       "version_major": 2,
       "version_minor": 0
      },
      "text/plain": [
       "VBox()"
      ]
     },
     "metadata": {},
     "output_type": "display_data"
    },
    {
     "data": {
      "application/vnd.jupyter.widget-view+json": {
       "model_id": "",
       "version_major": 2,
       "version_minor": 0
      },
      "text/plain": [
       "FloatProgress(value=0.0, bar_style='info', description='Progress:', layout=Layout(height='25px', width='50%'),…"
      ]
     },
     "metadata": {},
     "output_type": "display_data"
    }
   ],
   "source": [
    "def last_index_right_brackets(string):\n",
    "    index_close_array = string.rfind(\"]\")\n",
    "    if index_close_array == len(string)-1:\n",
    "        index_close_array = -1\n",
    "    return index_close_array\n",
    "\n",
    "def convert_to_dict(column): \n",
    "    map_return = {}    \n",
    "    map_kv = column.split(':')\n",
    "    prop = map_kv[0].strip().lower()\n",
    "    prop = prop.replace('\"', '')\n",
    "    val = map_kv[1]\n",
    "    val = val.strip()\n",
    "    \n",
    "    #remove both comma if exists and the close square bracket\n",
    "    index_close_array = last_index_right_brackets(val)\n",
    "    val = val[1:index_close_array]\n",
    "    array_of_arr = val.split(',')\n",
    "    intermediary_array = []\n",
    "    for detail_item in array_of_arr:\n",
    "        detail_item = detail_item.strip()\n",
    "        detail_item = detail_item.replace('\"', '')\n",
    "        intermediary_array.append(detail_item)\n",
    "        val = intermediary_array \n",
    "    map_return[prop] = val\n",
    "    return map_return"
   ]
  },
  {
   "cell_type": "markdown",
   "id": "olympic-suicide",
   "metadata": {},
   "source": [
    "### UDF Function to read single dimensional Arrays"
   ]
  },
  {
   "cell_type": "code",
   "execution_count": 141,
   "id": "moved-index",
   "metadata": {},
   "outputs": [
    {
     "data": {
      "application/vnd.jupyter.widget-view+json": {
       "model_id": "531625de99ab4009a5f801eecf516469",
       "version_major": 2,
       "version_minor": 0
      },
      "text/plain": [
       "VBox()"
      ]
     },
     "metadata": {},
     "output_type": "display_data"
    },
    {
     "data": {
      "application/vnd.jupyter.widget-view+json": {
       "model_id": "",
       "version_major": 2,
       "version_minor": 0
      },
      "text/plain": [
       "FloatProgress(value=0.0, bar_style='info', description='Progress:', layout=Layout(height='25px', width='50%'),…"
      ]
     },
     "metadata": {},
     "output_type": "display_data"
    }
   ],
   "source": [
    "string_to_dict_udf = F.udf(convert_to_dict, T.MapType(T.StringType(), T.ArrayType(T.StringType())))"
   ]
  },
  {
   "cell_type": "markdown",
   "id": "solar-honor",
   "metadata": {},
   "source": [
    "## Load unidimensional arrays first"
   ]
  },
  {
   "cell_type": "markdown",
   "id": "ranking-syndication",
   "metadata": {},
   "source": [
    "### Load Stations data"
   ]
  },
  {
   "cell_type": "code",
   "execution_count": 142,
   "id": "severe-combat",
   "metadata": {},
   "outputs": [
    {
     "data": {
      "application/vnd.jupyter.widget-view+json": {
       "model_id": "6b4101f92e79497bba12798759d6b7c8",
       "version_major": 2,
       "version_minor": 0
      },
      "text/plain": [
       "VBox()"
      ]
     },
     "metadata": {},
     "output_type": "display_data"
    },
    {
     "data": {
      "application/vnd.jupyter.widget-view+json": {
       "model_id": "",
       "version_major": 2,
       "version_minor": 0
      },
      "text/plain": [
       "FloatProgress(value=0.0, bar_style='info', description='Progress:', layout=Layout(height='25px', width='50%'),…"
      ]
     },
     "metadata": {},
     "output_type": "display_data"
    },
    {
     "name": "stdout",
     "output_type": "stream",
     "text": [
      "-RECORD 0----------------------------------------------------------------------------------------------------------------------------------------------------------------------------------------\n",
      " value            | \"internal_bus_station_id\": [0, 1, 2, 3, 4, 5, 6, 7, 8, 9, 5],                                                                                                                \n",
      " dict_from_string | [internal_bus_station_id -> [0, 1, 2, 3, 4, 5, 6, 7, 8, 9, 5]]                                                                                                               \n",
      "-RECORD 1----------------------------------------------------------------------------------------------------------------------------------------------------------------------------------------\n",
      " value            | \"public_bus_station\": [\"BAutogara\", \"BVAutogara\", \"SBAutogara\",\"CJAutogara\", \"MMAutogara\",\"ISAutogara\", \"CTAutogara\",\"TMAutogara\", \"BCAutogara\", \"MSAutogara\", \"ISAutogara\"] \n",
      " dict_from_string | [public_bus_station -> [BAutogara, BVAutogara, SBAutogara, CJAutogara, MMAutogara, ISAutogara, CTAutogara, TMAutogara, BCAutogara, MSAutogara, ISAutogara]]"
     ]
    }
   ],
   "source": [
    "df_stations = df_stations.withColumn(\"dict_from_string\", string_to_dict_udf(F.col(\"value\")))\n",
    "\n",
    "df_stations.show(truncate=False, vertical=True)"
   ]
  },
  {
   "cell_type": "markdown",
   "id": "alleged-michael",
   "metadata": {},
   "source": [
    "### GET the data from the MAP Types and insert as their own rows "
   ]
  },
  {
   "cell_type": "code",
   "execution_count": 143,
   "id": "detected-pennsylvania",
   "metadata": {},
   "outputs": [
    {
     "data": {
      "application/vnd.jupyter.widget-view+json": {
       "model_id": "d4dbe1c82b0b4e8cadd78eac52b8adf9",
       "version_major": 2,
       "version_minor": 0
      },
      "text/plain": [
       "VBox()"
      ]
     },
     "metadata": {},
     "output_type": "display_data"
    },
    {
     "data": {
      "application/vnd.jupyter.widget-view+json": {
       "model_id": "",
       "version_major": 2,
       "version_minor": 0
      },
      "text/plain": [
       "FloatProgress(value=0.0, bar_style='info', description='Progress:', layout=Layout(height='25px', width='50%'),…"
      ]
     },
     "metadata": {},
     "output_type": "display_data"
    }
   ],
   "source": [
    "data_public_bus = df_stations.select(F.explode(F.col(\"dict_from_string\")['public_bus_station']).alias(\"public_bus_station\"))\n",
    "df_ibsi = df_stations.select(F.explode(F.col(\"dict_from_string\")['internal_bus_station_id']).alias(\"internal_bus_station_id\"))"
   ]
  },
  {
   "cell_type": "markdown",
   "id": "impaired-infrared",
   "metadata": {},
   "source": [
    "# Stations Table Initial"
   ]
  },
  {
   "cell_type": "code",
   "execution_count": 144,
   "id": "caroline-replacement",
   "metadata": {},
   "outputs": [
    {
     "data": {
      "application/vnd.jupyter.widget-view+json": {
       "model_id": "ee1a32e818684a64b0798be9e4b3b0fb",
       "version_major": 2,
       "version_minor": 0
      },
      "text/plain": [
       "VBox()"
      ]
     },
     "metadata": {},
     "output_type": "display_data"
    },
    {
     "data": {
      "application/vnd.jupyter.widget-view+json": {
       "model_id": "",
       "version_major": 2,
       "version_minor": 0
      },
      "text/plain": [
       "FloatProgress(value=0.0, bar_style='info', description='Progress:', layout=Layout(height='25px', width='50%'),…"
      ]
     },
     "metadata": {},
     "output_type": "display_data"
    },
    {
     "name": "stdout",
     "output_type": "stream",
     "text": [
      "+---+-----------------------+------------------+\n",
      "|row|internal_bus_station_id|public_bus_station|\n",
      "+---+-----------------------+------------------+\n",
      "|  1|                      7|        TMAutogara|\n",
      "|  2|                      3|        CJAutogara|\n",
      "|  3|                      8|        BCAutogara|\n",
      "|  4|                      0|         BAutogara|\n",
      "|  5|                      5|        ISAutogara|\n",
      "|  6|                      6|        CTAutogara|\n",
      "|  7|                      9|        MSAutogara|\n",
      "|  8|                      1|        BVAutogara|\n",
      "|  9|                      4|        MMAutogara|\n",
      "| 10|                      2|        SBAutogara|\n",
      "+---+-----------------------+------------------+"
     ]
    }
   ],
   "source": [
    "#maintain the original order from original dataset\n",
    "data_public_bus = data_public_bus.withColumn(\"join_id_bus\", F.monotonically_increasing_id())\n",
    "df_ibsi = df_ibsi.withColumn(\"join_id_ibsi\", F.monotonically_increasing_id())\n",
    "\n",
    "inner_join = data_public_bus.join(df_ibsi,data_public_bus.join_id_bus == df_ibsi.join_id_ibsi, how='inner')\n",
    "\n",
    "station_staging_table = inner_join.select([\"internal_bus_station_id\", \"public_bus_station\"])\n",
    "\n",
    "station_staging_table = station_staging_table.drop_duplicates(subset=['internal_bus_station_id'])\n",
    "\n",
    "station_staging_table = station_staging_table.withColumn(\"default_value\",F.lit(\"ABC\")) #default value only to generate row_number\n",
    "w = Window().partitionBy('default_value').orderBy(F.lit('A'))\n",
    "station_staging_table = station_staging_table.withColumn(\"row\", F.row_number().over(w)).drop(\"default_value\")\n",
    "\n",
    "station_staging_table = station_staging_table.select([\"row\", \"internal_bus_station_id\", \"public_bus_station\"])\n",
    "station_staging_table.show()"
   ]
  },
  {
   "cell_type": "markdown",
   "id": "olympic-import",
   "metadata": {},
   "source": [
    "### Load Trips Table columns origin and destination"
   ]
  },
  {
   "cell_type": "code",
   "execution_count": 145,
   "id": "chief-companion",
   "metadata": {},
   "outputs": [
    {
     "data": {
      "application/vnd.jupyter.widget-view+json": {
       "model_id": "33a3f6f765ad463c8b629f032f5d6817",
       "version_major": 2,
       "version_minor": 0
      },
      "text/plain": [
       "VBox()"
      ]
     },
     "metadata": {},
     "output_type": "display_data"
    },
    {
     "data": {
      "application/vnd.jupyter.widget-view+json": {
       "model_id": "",
       "version_major": 2,
       "version_minor": 0
      },
      "text/plain": [
       "FloatProgress(value=0.0, bar_style='info', description='Progress:', layout=Layout(height='25px', width='50%'),…"
      ]
     },
     "metadata": {},
     "output_type": "display_data"
    },
    {
     "name": "stdout",
     "output_type": "stream",
     "text": [
      "-RECORD 0----------------------------------------------------------------------------------------------------------------------------------------------------------------------------------------------------------------------------------------------------------------------------------------------\n",
      " value            | \"ORIGIN\": [\"B\",\"BV\",\"TM\",\"CJ\"],                                                                                                                                                                                                                                                    \n",
      " dict_from_string | [origin -> [B, BV, TM, CJ]]                                                                                                                                                                                                                                                        \n",
      "-RECORD 1----------------------------------------------------------------------------------------------------------------------------------------------------------------------------------------------------------------------------------------------------------------------------------------------\n",
      " value            | \"DESTINATION\": [\"MM\",\"IS\",\"CT\",\"BC\"],                                                                                                                                                                                                                                              \n",
      " dict_from_string | [destination -> [MM, IS, CT, BC]]                                                                                                                                                                                                                                                  \n",
      "-RECORD 2----------------------------------------------------------------------------------------------------------------------------------------------------------------------------------------------------------------------------------------------------------------------------------------------\n",
      " value            | \"INTERNAL_BUS_STATION_IDS\": [[0,2,4],[1,8,5],[7,2,6],[3,9,8]],                                                                                                                                                                                                                     \n",
      " dict_from_string | [internal_bus_station_ids -> [[0, 2, 4], [1, 8, 5], [7, 2, 6], [3, 9, 8]]]                                                                                                                                                                                                         \n",
      "-RECORD 3----------------------------------------------------------------------------------------------------------------------------------------------------------------------------------------------------------------------------------------------------------------------------------------------\n",
      " value            | \" TRIPTIMES\": [[2020-03-01 10:10:00 , 2020-03-01 12:20:10, 2020-03-01 15:10:00],[ 2020-03-01 10:10:00, 2020-03-01 12:20:10, 2020-03-01 15:10:00],[2020-04-01 10:10:00, 2020-04-01 12:20:10, 2020-04-01 15:10:00],[2020-05-01 10:10:00, 2020-05-01 12:20:10, 2020-05-01 15:10:00 ]] \n",
      " dict_from_string | [ triptimes -> [[2020-03-01 1]]"
     ]
    }
   ],
   "source": [
    "df_trips = df_trips.withColumn(\"dict_from_string\", string_to_dict_udf(F.col(\"value\")))\n",
    "df_trips.show(truncate=False, vertical=True)"
   ]
  },
  {
   "cell_type": "code",
   "execution_count": 146,
   "id": "satisfied-animal",
   "metadata": {},
   "outputs": [
    {
     "data": {
      "application/vnd.jupyter.widget-view+json": {
       "model_id": "d707889f09414f42988dc2ac8fc8b48b",
       "version_major": 2,
       "version_minor": 0
      },
      "text/plain": [
       "VBox()"
      ]
     },
     "metadata": {},
     "output_type": "display_data"
    },
    {
     "data": {
      "application/vnd.jupyter.widget-view+json": {
       "model_id": "",
       "version_major": 2,
       "version_minor": 0
      },
      "text/plain": [
       "FloatProgress(value=0.0, bar_style='info', description='Progress:', layout=Layout(height='25px', width='50%'),…"
      ]
     },
     "metadata": {},
     "output_type": "display_data"
    }
   ],
   "source": [
    "data_origin = df_trips.select(F.explode(F.col(\"dict_from_string\")['origin']).alias(\"origin\"))\n",
    "data_origin = data_origin.withColumn(\"id\", F.monotonically_increasing_id())\n",
    "data_origin = data_origin.select([\"id\", \"origin\"])"
   ]
  },
  {
   "cell_type": "code",
   "execution_count": 147,
   "id": "municipal-phenomenon",
   "metadata": {},
   "outputs": [
    {
     "data": {
      "application/vnd.jupyter.widget-view+json": {
       "model_id": "406bea48d2a348f897306be801964431",
       "version_major": 2,
       "version_minor": 0
      },
      "text/plain": [
       "VBox()"
      ]
     },
     "metadata": {},
     "output_type": "display_data"
    },
    {
     "data": {
      "application/vnd.jupyter.widget-view+json": {
       "model_id": "",
       "version_major": 2,
       "version_minor": 0
      },
      "text/plain": [
       "FloatProgress(value=0.0, bar_style='info', description='Progress:', layout=Layout(height='25px', width='50%'),…"
      ]
     },
     "metadata": {},
     "output_type": "display_data"
    },
    {
     "name": "stdout",
     "output_type": "stream",
     "text": [
      "+---+------+\n",
      "|id |origin|\n",
      "+---+------+\n",
      "|0  |B     |\n",
      "|1  |BV    |\n",
      "|2  |TM    |\n",
      "|3  |CJ    |\n",
      "+---+------+"
     ]
    }
   ],
   "source": [
    "data_origin.show(truncate=False)"
   ]
  },
  {
   "cell_type": "code",
   "execution_count": 148,
   "id": "disciplinary-allowance",
   "metadata": {},
   "outputs": [
    {
     "data": {
      "application/vnd.jupyter.widget-view+json": {
       "model_id": "d39277d62e2345ba9efeb90d79c15c08",
       "version_major": 2,
       "version_minor": 0
      },
      "text/plain": [
       "VBox()"
      ]
     },
     "metadata": {},
     "output_type": "display_data"
    },
    {
     "data": {
      "application/vnd.jupyter.widget-view+json": {
       "model_id": "",
       "version_major": 2,
       "version_minor": 0
      },
      "text/plain": [
       "FloatProgress(value=0.0, bar_style='info', description='Progress:', layout=Layout(height='25px', width='50%'),…"
      ]
     },
     "metadata": {},
     "output_type": "display_data"
    }
   ],
   "source": [
    "data_dest = df_trips.select(F.explode(F.col(\"dict_from_string\")['destination']).alias(\"destination\"))\n",
    "data_dest = data_dest.withColumn(\"id_dest\", F.monotonically_increasing_id())"
   ]
  },
  {
   "cell_type": "code",
   "execution_count": 149,
   "id": "commercial-universe",
   "metadata": {},
   "outputs": [
    {
     "data": {
      "application/vnd.jupyter.widget-view+json": {
       "model_id": "46b6230dac354724b21f6688c720e90f",
       "version_major": 2,
       "version_minor": 0
      },
      "text/plain": [
       "VBox()"
      ]
     },
     "metadata": {},
     "output_type": "display_data"
    },
    {
     "data": {
      "application/vnd.jupyter.widget-view+json": {
       "model_id": "",
       "version_major": 2,
       "version_minor": 0
      },
      "text/plain": [
       "FloatProgress(value=0.0, bar_style='info', description='Progress:', layout=Layout(height='25px', width='50%'),…"
      ]
     },
     "metadata": {},
     "output_type": "display_data"
    },
    {
     "name": "stdout",
     "output_type": "stream",
     "text": [
      "+-----------+-------+\n",
      "|destination|id_dest|\n",
      "+-----------+-------+\n",
      "|         MM|      0|\n",
      "|         IS|      1|\n",
      "|         CT|      2|\n",
      "|         BC|      3|\n",
      "+-----------+-------+"
     ]
    }
   ],
   "source": [
    "data_dest.show()"
   ]
  },
  {
   "cell_type": "markdown",
   "id": "included-viking",
   "metadata": {},
   "source": [
    "### Intermediary Join origin with destination"
   ]
  },
  {
   "cell_type": "code",
   "execution_count": 150,
   "id": "german-poverty",
   "metadata": {},
   "outputs": [
    {
     "data": {
      "application/vnd.jupyter.widget-view+json": {
       "model_id": "77ee8052b59842e492e1f158d9cd35c1",
       "version_major": 2,
       "version_minor": 0
      },
      "text/plain": [
       "VBox()"
      ]
     },
     "metadata": {},
     "output_type": "display_data"
    },
    {
     "data": {
      "application/vnd.jupyter.widget-view+json": {
       "model_id": "",
       "version_major": 2,
       "version_minor": 0
      },
      "text/plain": [
       "FloatProgress(value=0.0, bar_style='info', description='Progress:', layout=Layout(height='25px', width='50%'),…"
      ]
     },
     "metadata": {},
     "output_type": "display_data"
    }
   ],
   "source": [
    "inner_join = data_origin.join(data_dest,data_origin.id == data_dest.id_dest, how='inner')\n",
    "trips_table = inner_join.select(\"id\",  \"origin\", \"destination\")"
   ]
  },
  {
   "cell_type": "code",
   "execution_count": 151,
   "id": "confidential-future",
   "metadata": {},
   "outputs": [
    {
     "data": {
      "application/vnd.jupyter.widget-view+json": {
       "model_id": "3d22b2d5ef3444a3ada6d8e84cc6bfd6",
       "version_major": 2,
       "version_minor": 0
      },
      "text/plain": [
       "VBox()"
      ]
     },
     "metadata": {},
     "output_type": "display_data"
    },
    {
     "data": {
      "application/vnd.jupyter.widget-view+json": {
       "model_id": "",
       "version_major": 2,
       "version_minor": 0
      },
      "text/plain": [
       "FloatProgress(value=0.0, bar_style='info', description='Progress:', layout=Layout(height='25px', width='50%'),…"
      ]
     },
     "metadata": {},
     "output_type": "display_data"
    },
    {
     "name": "stdout",
     "output_type": "stream",
     "text": [
      "+---+------+-----------+\n",
      "| id|origin|destination|\n",
      "+---+------+-----------+\n",
      "|  0|     B|         MM|\n",
      "|  1|    BV|         IS|\n",
      "|  2|    TM|         CT|\n",
      "|  3|    CJ|         BC|\n",
      "+---+------+-----------+"
     ]
    }
   ],
   "source": [
    "trips_table.show()"
   ]
  },
  {
   "cell_type": "markdown",
   "id": "ambient-edition",
   "metadata": {},
   "source": [
    "### Parse the Data in Multidimensional Array Format and organize it in a tabular format"
   ]
  },
  {
   "cell_type": "code",
   "execution_count": 152,
   "id": "outstanding-relations",
   "metadata": {},
   "outputs": [
    {
     "data": {
      "application/vnd.jupyter.widget-view+json": {
       "model_id": "f5314eb999c845c180b7b907c18e9d05",
       "version_major": 2,
       "version_minor": 0
      },
      "text/plain": [
       "VBox()"
      ]
     },
     "metadata": {},
     "output_type": "display_data"
    },
    {
     "data": {
      "application/vnd.jupyter.widget-view+json": {
       "model_id": "",
       "version_major": 2,
       "version_minor": 0
      },
      "text/plain": [
       "FloatProgress(value=0.0, bar_style='info', description='Progress:', layout=Layout(height='25px', width='50%'),…"
      ]
     },
     "metadata": {},
     "output_type": "display_data"
    }
   ],
   "source": [
    "def convert_to_map(column):\n",
    "    map_return = \"\"\n",
    "    start_column_index = column.find(\"[[\")\n",
    "    end_column_index = column.find(\"]]\")\n",
    "    slice_column_string = column[start_column_index : end_column_index]\n",
    "    slice_column_string = slice_column_string.replace(\"[\", \"\")\n",
    "    slice_column_string = slice_column_string.replace(\"]\", \"\")\n",
    "    arr_column_strings = slice_column_string.split(',')\n",
    "    #add variable to identify the trip\n",
    "    trip_index = 0\n",
    "    trip_array = []\n",
    "    trips_dict = {}\n",
    "    counter = 1\n",
    "    for index, item in enumerate(arr_column_strings):\n",
    "        #cleaning dates by spaces and quotes\n",
    "        item = item.strip()\n",
    "        item = item.replace('\"', '')\n",
    "        trip_array.append(item)\n",
    "        if counter%3 == 0:\n",
    "            trips_dict[trip_index] = trip_array\n",
    "            trip_index = trip_index + 1\n",
    "            trip_array = []\n",
    "        counter = counter + 1\n",
    "    return trips_dict\n",
    "            \n",
    "    \n",
    "    \n",
    "string_to_map_udf = F.udf(convert_to_map, T.MapType(T.IntegerType(), T.ArrayType(T.StringType())))"
   ]
  },
  {
   "cell_type": "code",
   "execution_count": 153,
   "id": "supreme-miller",
   "metadata": {},
   "outputs": [
    {
     "data": {
      "application/vnd.jupyter.widget-view+json": {
       "model_id": "1a39411d4a0f42d98653e4d696aa4deb",
       "version_major": 2,
       "version_minor": 0
      },
      "text/plain": [
       "VBox()"
      ]
     },
     "metadata": {},
     "output_type": "display_data"
    },
    {
     "data": {
      "application/vnd.jupyter.widget-view+json": {
       "model_id": "",
       "version_major": 2,
       "version_minor": 0
      },
      "text/plain": [
       "FloatProgress(value=0.0, bar_style='info', description='Progress:', layout=Layout(height='25px', width='50%'),…"
      ]
     },
     "metadata": {},
     "output_type": "display_data"
    }
   ],
   "source": [
    "df_triptimes = df_trips.select('value')\n",
    "# Filter only for triptimes\n",
    "df_triptimes = df_triptimes.filter(F.lower(df_triptimes.value).contains('triptimes'))"
   ]
  },
  {
   "cell_type": "code",
   "execution_count": 154,
   "id": "independent-macedonia",
   "metadata": {},
   "outputs": [
    {
     "data": {
      "application/vnd.jupyter.widget-view+json": {
       "model_id": "abd25158bd014c29b897426f0a383872",
       "version_major": 2,
       "version_minor": 0
      },
      "text/plain": [
       "VBox()"
      ]
     },
     "metadata": {},
     "output_type": "display_data"
    },
    {
     "data": {
      "application/vnd.jupyter.widget-view+json": {
       "model_id": "",
       "version_major": 2,
       "version_minor": 0
      },
      "text/plain": [
       "FloatProgress(value=0.0, bar_style='info', description='Progress:', layout=Layout(height='25px', width='50%'),…"
      ]
     },
     "metadata": {},
     "output_type": "display_data"
    }
   ],
   "source": [
    "df_triptimes = df_triptimes.withColumn(\"map_column\", string_to_map_udf(F.col(\"value\")))"
   ]
  },
  {
   "cell_type": "code",
   "execution_count": 155,
   "id": "accurate-agency",
   "metadata": {},
   "outputs": [
    {
     "data": {
      "application/vnd.jupyter.widget-view+json": {
       "model_id": "0908c5c6e9e1425cbb473a7468083c89",
       "version_major": 2,
       "version_minor": 0
      },
      "text/plain": [
       "VBox()"
      ]
     },
     "metadata": {},
     "output_type": "display_data"
    },
    {
     "data": {
      "application/vnd.jupyter.widget-view+json": {
       "model_id": "",
       "version_major": 2,
       "version_minor": 0
      },
      "text/plain": [
       "FloatProgress(value=0.0, bar_style='info', description='Progress:', layout=Layout(height='25px', width='50%'),…"
      ]
     },
     "metadata": {},
     "output_type": "display_data"
    }
   ],
   "source": [
    "exploded_triptimes = df_triptimes.select(F.explode(F.col(\"map_column\")))\n",
    "exploded_triptimes = exploded_triptimes.select(F.col(\"key\"), F.explode(F.col(\"value\")))\n",
    "exploded_triptimes = exploded_triptimes.withColumn(\"id\", F.monotonically_increasing_id())"
   ]
  },
  {
   "cell_type": "markdown",
   "id": "durable-inside",
   "metadata": {},
   "source": [
    "## TripTimes Dimension table"
   ]
  },
  {
   "cell_type": "code",
   "execution_count": 156,
   "id": "green-passion",
   "metadata": {},
   "outputs": [
    {
     "data": {
      "application/vnd.jupyter.widget-view+json": {
       "model_id": "0e194488dfe046ae84742386f6e4a0a5",
       "version_major": 2,
       "version_minor": 0
      },
      "text/plain": [
       "VBox()"
      ]
     },
     "metadata": {},
     "output_type": "display_data"
    },
    {
     "data": {
      "application/vnd.jupyter.widget-view+json": {
       "model_id": "",
       "version_major": 2,
       "version_minor": 0
      },
      "text/plain": [
       "FloatProgress(value=0.0, bar_style='info', description='Progress:', layout=Layout(height='25px', width='50%'),…"
      ]
     },
     "metadata": {},
     "output_type": "display_data"
    },
    {
     "name": "stdout",
     "output_type": "stream",
     "text": [
      "+---+-------------------+-------+\n",
      "| id|          triptimes|tripkey|\n",
      "+---+-------------------+-------+\n",
      "|  0|2020-03-01 10:10:00|      0|\n",
      "|  1|2020-03-01 12:20:10|      0|\n",
      "|  2|2020-03-01 15:10:00|      0|\n",
      "|  3|2020-03-01 10:10:00|      1|\n",
      "|  4|2020-03-01 12:20:10|      1|\n",
      "|  5|2020-03-01 15:10:00|      1|\n",
      "|  6|2020-04-01 10:10:00|      2|\n",
      "|  7|2020-04-01 12:20:10|      2|\n",
      "|  8|2020-04-01 15:10:00|      2|\n",
      "|  9|2020-05-01 10:10:00|      3|\n",
      "| 10|2020-05-01 12:20:10|      3|\n",
      "| 11|2020-05-01 15:10:00|      3|\n",
      "+---+-------------------+-------+"
     ]
    }
   ],
   "source": [
    "triptimes_table = exploded_triptimes.select(\"id\",  F.col(\"col\").alias(\"triptimes\"), F.col(\"key\").alias(\"tripkey\"))\n",
    "triptimes_table.show()"
   ]
  },
  {
   "cell_type": "code",
   "execution_count": 157,
   "id": "industrial-cancer",
   "metadata": {},
   "outputs": [
    {
     "data": {
      "application/vnd.jupyter.widget-view+json": {
       "model_id": "10686a1d9c8f4c709c342ed12e8d45e3",
       "version_major": 2,
       "version_minor": 0
      },
      "text/plain": [
       "VBox()"
      ]
     },
     "metadata": {},
     "output_type": "display_data"
    },
    {
     "data": {
      "application/vnd.jupyter.widget-view+json": {
       "model_id": "",
       "version_major": 2,
       "version_minor": 0
      },
      "text/plain": [
       "FloatProgress(value=0.0, bar_style='info', description='Progress:', layout=Layout(height='25px', width='50%'),…"
      ]
     },
     "metadata": {},
     "output_type": "display_data"
    }
   ],
   "source": [
    "df_internal_bus_station_ids = df_trips.select('value')\n",
    "\n",
    "df_internal_bus_station_ids = df_internal_bus_station_ids.filter(F.lower(df_internal_bus_station_ids.value).contains('internal_bus_station_ids'))"
   ]
  },
  {
   "cell_type": "code",
   "execution_count": 158,
   "id": "political-trainer",
   "metadata": {},
   "outputs": [
    {
     "data": {
      "application/vnd.jupyter.widget-view+json": {
       "model_id": "663e0b060cf44b3080783d1ab2093ca1",
       "version_major": 2,
       "version_minor": 0
      },
      "text/plain": [
       "VBox()"
      ]
     },
     "metadata": {},
     "output_type": "display_data"
    },
    {
     "data": {
      "application/vnd.jupyter.widget-view+json": {
       "model_id": "",
       "version_major": 2,
       "version_minor": 0
      },
      "text/plain": [
       "FloatProgress(value=0.0, bar_style='info', description='Progress:', layout=Layout(height='25px', width='50%'),…"
      ]
     },
     "metadata": {},
     "output_type": "display_data"
    }
   ],
   "source": [
    "df_internal_bus_station_ids = df_internal_bus_station_ids.withColumn(\"map_column\", string_to_map_udf(F.col(\"value\")))"
   ]
  },
  {
   "cell_type": "code",
   "execution_count": 159,
   "id": "weighted-fluid",
   "metadata": {},
   "outputs": [
    {
     "data": {
      "application/vnd.jupyter.widget-view+json": {
       "model_id": "d901d00658b84cf6a8182e2746c2cb8b",
       "version_major": 2,
       "version_minor": 0
      },
      "text/plain": [
       "VBox()"
      ]
     },
     "metadata": {},
     "output_type": "display_data"
    },
    {
     "data": {
      "application/vnd.jupyter.widget-view+json": {
       "model_id": "",
       "version_major": 2,
       "version_minor": 0
      },
      "text/plain": [
       "FloatProgress(value=0.0, bar_style='info', description='Progress:', layout=Layout(height='25px', width='50%'),…"
      ]
     },
     "metadata": {},
     "output_type": "display_data"
    },
    {
     "name": "stdout",
     "output_type": "stream",
     "text": [
      "+--------------------------------------------------------------+----------------------------------------------------------------+\n",
      "|value                                                         |map_column                                                      |\n",
      "+--------------------------------------------------------------+----------------------------------------------------------------+\n",
      "|\"INTERNAL_BUS_STATION_IDS\": [[0,2,4],[1,8,5],[7,2,6],[3,9,8]],|[0 -> [0, 2, 4], 1 -> [1, 8, 5], 2 -> [7, 2, 6], 3 -> [3, 9, 8]]|\n",
      "+--------------------------------------------------------------+----------------------------------------------------------------+"
     ]
    }
   ],
   "source": [
    "df_internal_bus_station_ids.show(truncate=False)"
   ]
  },
  {
   "cell_type": "code",
   "execution_count": 160,
   "id": "norman-malaysia",
   "metadata": {},
   "outputs": [
    {
     "data": {
      "application/vnd.jupyter.widget-view+json": {
       "model_id": "1af884b7d4f84f06b4dee61d2ef35b0a",
       "version_major": 2,
       "version_minor": 0
      },
      "text/plain": [
       "VBox()"
      ]
     },
     "metadata": {},
     "output_type": "display_data"
    },
    {
     "data": {
      "application/vnd.jupyter.widget-view+json": {
       "model_id": "",
       "version_major": 2,
       "version_minor": 0
      },
      "text/plain": [
       "FloatProgress(value=0.0, bar_style='info', description='Progress:', layout=Layout(height='25px', width='50%'),…"
      ]
     },
     "metadata": {},
     "output_type": "display_data"
    },
    {
     "name": "stdout",
     "output_type": "stream",
     "text": [
      "+---+---+---+\n",
      "|key|col|id |\n",
      "+---+---+---+\n",
      "|0  |0  |0  |\n",
      "|0  |2  |1  |\n",
      "|0  |4  |2  |\n",
      "|1  |1  |3  |\n",
      "|1  |8  |4  |\n",
      "|1  |5  |5  |\n",
      "|2  |7  |6  |\n",
      "|2  |2  |7  |\n",
      "|2  |6  |8  |\n",
      "|3  |3  |9  |\n",
      "|3  |9  |10 |\n",
      "|3  |8  |11 |\n",
      "+---+---+---+"
     ]
    }
   ],
   "source": [
    "exploded_internal_bus_station_ids = df_internal_bus_station_ids.select(F.explode(F.col(\"map_column\")))\n",
    "exploded_internal_bus_station_ids = exploded_internal_bus_station_ids.select(F.col(\"key\"), F.explode(F.col(\"value\")))\n",
    "exploded_internal_bus_station_ids = exploded_internal_bus_station_ids.withColumn(\"id\", F.monotonically_increasing_id())\n",
    "exploded_internal_bus_station_ids.show(truncate=False)"
   ]
  },
  {
   "cell_type": "markdown",
   "id": "surrounded-exercise",
   "metadata": {},
   "source": [
    "## Bus Stations Dimension table"
   ]
  },
  {
   "cell_type": "code",
   "execution_count": 161,
   "id": "optimum-creator",
   "metadata": {},
   "outputs": [
    {
     "data": {
      "application/vnd.jupyter.widget-view+json": {
       "model_id": "5e3bb6ede96342d09819cde7ca75ddeb",
       "version_major": 2,
       "version_minor": 0
      },
      "text/plain": [
       "VBox()"
      ]
     },
     "metadata": {},
     "output_type": "display_data"
    },
    {
     "data": {
      "application/vnd.jupyter.widget-view+json": {
       "model_id": "",
       "version_major": 2,
       "version_minor": 0
      },
      "text/plain": [
       "FloatProgress(value=0.0, bar_style='info', description='Progress:', layout=Layout(height='25px', width='50%'),…"
      ]
     },
     "metadata": {},
     "output_type": "display_data"
    },
    {
     "name": "stdout",
     "output_type": "stream",
     "text": [
      "+---+-------+------------+------------------+\n",
      "| id|tripkey|bus_stations|public_bus_station|\n",
      "+---+-------+------------+------------------+\n",
      "|  0|      0|           0|         BAutogara|\n",
      "|  2|      0|           4|        MMAutogara|\n",
      "|  1|      0|           2|        SBAutogara|\n",
      "|  3|      1|           1|        BVAutogara|\n",
      "|  5|      1|           5|        ISAutogara|\n",
      "|  4|      1|           8|        BCAutogara|\n",
      "|  6|      2|           7|        TMAutogara|\n",
      "|  7|      2|           2|        SBAutogara|\n",
      "|  8|      2|           6|        CTAutogara|\n",
      "|  9|      3|           3|        CJAutogara|\n",
      "| 10|      3|           9|        MSAutogara|\n",
      "| 11|      3|           8|        BCAutogara|\n",
      "+---+-------+------------+------------------+"
     ]
    }
   ],
   "source": [
    "internal_bus_station_ids = exploded_internal_bus_station_ids.select(\"id\",  F.col(\"col\").alias(\"bus_stations\"), F.col(\"key\").alias(\"tripkey\"))\n",
    "internal_bus_station_ids = internal_bus_station_ids.join(station_staging_table, internal_bus_station_ids.bus_stations==station_staging_table.internal_bus_station_id, how=\"inner\")\n",
    "internal_bus_station_ids = internal_bus_station_ids.select(\"id\", \"tripkey\", \"bus_stations\", \"public_bus_station\").orderBy(\"tripkey\")\n",
    "internal_bus_station_ids.show()"
   ]
  },
  {
   "cell_type": "markdown",
   "id": "tired-digit",
   "metadata": {},
   "source": [
    "### Transform triptimes column from staging triptimes_table in time format from String and add a new column min"
   ]
  },
  {
   "cell_type": "code",
   "execution_count": 162,
   "id": "union-output",
   "metadata": {},
   "outputs": [
    {
     "data": {
      "application/vnd.jupyter.widget-view+json": {
       "model_id": "4ade1ea0be41436aaad9cecaa5470083",
       "version_major": 2,
       "version_minor": 0
      },
      "text/plain": [
       "VBox()"
      ]
     },
     "metadata": {},
     "output_type": "display_data"
    },
    {
     "data": {
      "application/vnd.jupyter.widget-view+json": {
       "model_id": "",
       "version_major": 2,
       "version_minor": 0
      },
      "text/plain": [
       "FloatProgress(value=0.0, bar_style='info', description='Progress:', layout=Layout(height='25px', width='50%'),…"
      ]
     },
     "metadata": {},
     "output_type": "display_data"
    },
    {
     "name": "stdout",
     "output_type": "stream",
     "text": [
      "+---+-------+-------------------+\n",
      "| id|tripkey|                 dt|\n",
      "+---+-------+-------------------+\n",
      "|  3|      1|2020-03-01 10:10:00|\n",
      "|  0|      0|2020-03-01 10:10:00|\n",
      "|  1|      0|2020-03-01 12:20:10|\n",
      "|  4|      1|2020-03-01 12:20:10|\n",
      "|  2|      0|2020-03-01 15:10:00|\n",
      "|  5|      1|2020-03-01 15:10:00|\n",
      "|  6|      2|2020-04-01 10:10:00|\n",
      "|  7|      2|2020-04-01 12:20:10|\n",
      "|  8|      2|2020-04-01 15:10:00|\n",
      "|  9|      3|2020-05-01 10:10:00|\n",
      "| 10|      3|2020-05-01 12:20:10|\n",
      "| 11|      3|2020-05-01 15:10:00|\n",
      "+---+-------+-------------------+"
     ]
    }
   ],
   "source": [
    "triptimes_table = triptimes_table.select('id', 'tripkey', F.to_timestamp(triptimes_table.triptimes, 'yyyy-MM-dd HH:mm:ss').alias('dt')).orderBy(\"dt\")\n",
    "triptimes_table.show()"
   ]
  },
  {
   "cell_type": "markdown",
   "id": "improved-healing",
   "metadata": {},
   "source": [
    "### Calculate journey time duration"
   ]
  },
  {
   "cell_type": "code",
   "execution_count": 163,
   "id": "discrete-filter",
   "metadata": {},
   "outputs": [
    {
     "data": {
      "application/vnd.jupyter.widget-view+json": {
       "model_id": "6541744027a64aeda0fdf3f1ec282ead",
       "version_major": 2,
       "version_minor": 0
      },
      "text/plain": [
       "VBox()"
      ]
     },
     "metadata": {},
     "output_type": "display_data"
    },
    {
     "data": {
      "application/vnd.jupyter.widget-view+json": {
       "model_id": "",
       "version_major": 2,
       "version_minor": 0
      },
      "text/plain": [
       "FloatProgress(value=0.0, bar_style='info', description='Progress:', layout=Layout(height='25px', width='50%'),…"
      ]
     },
     "metadata": {},
     "output_type": "display_data"
    }
   ],
   "source": [
    "import datetime\n",
    "def calculate_journey_duration(column):\n",
    "    last_date = datetime.datetime.strptime(column[len(column) - 1], '%Y-%m-%d %H:%M:%S')\n",
    "    first_date = datetime.datetime.strptime(column[0], '%Y-%m-%d %H:%M:%S')\n",
    "    dif_result =  last_date - first_date\n",
    "    journey_time_minutes = int(dif_result.seconds / 60)\n",
    "    return journey_time_minutes  \n",
    "    \n",
    "calculate_journey_udf = F.udf(calculate_journey_duration, T.IntegerType())"
   ]
  },
  {
   "cell_type": "code",
   "execution_count": 164,
   "id": "responsible-criterion",
   "metadata": {},
   "outputs": [
    {
     "data": {
      "application/vnd.jupyter.widget-view+json": {
       "model_id": "032cf69845434ebf9a8c93dbb0b8a4b5",
       "version_major": 2,
       "version_minor": 0
      },
      "text/plain": [
       "VBox()"
      ]
     },
     "metadata": {},
     "output_type": "display_data"
    },
    {
     "data": {
      "application/vnd.jupyter.widget-view+json": {
       "model_id": "",
       "version_major": 2,
       "version_minor": 0
      },
      "text/plain": [
       "FloatProgress(value=0.0, bar_style='info', description='Progress:', layout=Layout(height='25px', width='50%'),…"
      ]
     },
     "metadata": {},
     "output_type": "display_data"
    },
    {
     "name": "stdout",
     "output_type": "stream",
     "text": [
      "+---+-------+-------------------+\n",
      "| id|tripkey|                 dt|\n",
      "+---+-------+-------------------+\n",
      "|  3|      1|2020-03-01 10:10:00|\n",
      "|  0|      0|2020-03-01 10:10:00|\n",
      "|  1|      0|2020-03-01 12:20:10|\n",
      "|  4|      1|2020-03-01 12:20:10|\n",
      "|  2|      0|2020-03-01 15:10:00|\n",
      "|  5|      1|2020-03-01 15:10:00|\n",
      "|  6|      2|2020-04-01 10:10:00|\n",
      "|  7|      2|2020-04-01 12:20:10|\n",
      "|  8|      2|2020-04-01 15:10:00|\n",
      "|  9|      3|2020-05-01 10:10:00|\n",
      "| 10|      3|2020-05-01 12:20:10|\n",
      "| 11|      3|2020-05-01 15:10:00|\n",
      "+---+-------+-------------------+"
     ]
    }
   ],
   "source": [
    "triptimes_table.show()"
   ]
  },
  {
   "cell_type": "code",
   "execution_count": 165,
   "id": "given-study",
   "metadata": {},
   "outputs": [
    {
     "data": {
      "application/vnd.jupyter.widget-view+json": {
       "model_id": "c11ad557132344cb83d0a18e37edc99b",
       "version_major": 2,
       "version_minor": 0
      },
      "text/plain": [
       "VBox()"
      ]
     },
     "metadata": {},
     "output_type": "display_data"
    },
    {
     "data": {
      "application/vnd.jupyter.widget-view+json": {
       "model_id": "",
       "version_major": 2,
       "version_minor": 0
      },
      "text/plain": [
       "FloatProgress(value=0.0, bar_style='info', description='Progress:', layout=Layout(height='25px', width='50%'),…"
      ]
     },
     "metadata": {},
     "output_type": "display_data"
    }
   ],
   "source": [
    "def sorter(l):\n",
    "  res = sorted(l, key=operator.itemgetter(0))\n",
    "  return [item[1] for item in res]\n",
    "\n",
    "sort_udf = F.udf(sorter, T.ArrayType(T.StringType()))"
   ]
  },
  {
   "cell_type": "code",
   "execution_count": 166,
   "id": "antique-racing",
   "metadata": {},
   "outputs": [
    {
     "data": {
      "application/vnd.jupyter.widget-view+json": {
       "model_id": "8d8f386e80d84f6b8e05357caae4b163",
       "version_major": 2,
       "version_minor": 0
      },
      "text/plain": [
       "VBox()"
      ]
     },
     "metadata": {},
     "output_type": "display_data"
    },
    {
     "data": {
      "application/vnd.jupyter.widget-view+json": {
       "model_id": "",
       "version_major": 2,
       "version_minor": 0
      },
      "text/plain": [
       "FloatProgress(value=0.0, bar_style='info', description='Progress:', layout=Layout(height='25px', width='50%'),…"
      ]
     },
     "metadata": {},
     "output_type": "display_data"
    },
    {
     "name": "stdout",
     "output_type": "stream",
     "text": [
      "+-------+---------------------------------------------------------------+---+\n",
      "|tripkey|triptimes                                                      |min|\n",
      "+-------+---------------------------------------------------------------+---+\n",
      "|0      |[2020-03-01 10:10:00, 2020-03-01 12:20:10, 2020-03-01 15:10:00]|300|\n",
      "|1      |[2020-03-01 10:10:00, 2020-03-01 12:20:10, 2020-03-01 15:10:00]|300|\n",
      "|2      |[2020-04-01 10:10:00, 2020-04-01 12:20:10, 2020-04-01 15:10:00]|300|\n",
      "|3      |[2020-05-01 10:10:00, 2020-05-01 12:20:10, 2020-05-01 15:10:00]|300|\n",
      "+-------+---------------------------------------------------------------+---+"
     ]
    }
   ],
   "source": [
    "# w = Window.partitionBy('tripkey').orderBy('id')\n",
    "triptimes_table = triptimes_table.withColumn(\"triptimes_str\", F.date_format(F.col(\"dt\"), \"yyyy-MM-dd HH:mm:ss\"))\n",
    "triptimes_table_agg = triptimes_table.groupBy('tripkey').agg(F.collect_list(F.struct(\"id\", \"triptimes_str\")).alias(\"triptimes_unordered\")).orderBy(\"tripkey\")\n",
    "triptimes_table_agg = triptimes_table_agg.withColumn(\"triptimes\", sort_udf(F.col(\"triptimes_unordered\"))).drop(\"triptimes_unordered\")\n",
    "triptimes_table_agg = triptimes_table_agg.withColumn(\"min\", calculate_journey_udf(F.col('triptimes')).cast(\"integer\"))\n",
    "triptimes_table_agg.show(truncate=False)"
   ]
  },
  {
   "cell_type": "markdown",
   "id": "rapid-guest",
   "metadata": {},
   "source": [
    "### Intermediary join origin with destination and duration"
   ]
  },
  {
   "cell_type": "code",
   "execution_count": 167,
   "id": "informal-speech",
   "metadata": {},
   "outputs": [
    {
     "data": {
      "application/vnd.jupyter.widget-view+json": {
       "model_id": "b799b4cb1e9e4f51bf12d6a584af3064",
       "version_major": 2,
       "version_minor": 0
      },
      "text/plain": [
       "VBox()"
      ]
     },
     "metadata": {},
     "output_type": "display_data"
    },
    {
     "data": {
      "application/vnd.jupyter.widget-view+json": {
       "model_id": "",
       "version_major": 2,
       "version_minor": 0
      },
      "text/plain": [
       "FloatProgress(value=0.0, bar_style='info', description='Progress:', layout=Layout(height='25px', width='50%'),…"
      ]
     },
     "metadata": {},
     "output_type": "display_data"
    }
   ],
   "source": [
    "trips_table = trips_table.join(triptimes_table_agg, trips_table.id==triptimes_table_agg.tripkey, how=\"inner\")"
   ]
  },
  {
   "cell_type": "code",
   "execution_count": 168,
   "id": "sporting-triumph",
   "metadata": {},
   "outputs": [
    {
     "data": {
      "application/vnd.jupyter.widget-view+json": {
       "model_id": "85de76c8a49d492eb8a38e0ea3d24e61",
       "version_major": 2,
       "version_minor": 0
      },
      "text/plain": [
       "VBox()"
      ]
     },
     "metadata": {},
     "output_type": "display_data"
    },
    {
     "data": {
      "application/vnd.jupyter.widget-view+json": {
       "model_id": "",
       "version_major": 2,
       "version_minor": 0
      },
      "text/plain": [
       "FloatProgress(value=0.0, bar_style='info', description='Progress:', layout=Layout(height='25px', width='50%'),…"
      ]
     },
     "metadata": {},
     "output_type": "display_data"
    },
    {
     "name": "stdout",
     "output_type": "stream",
     "text": [
      "+---+------+-----------+---+\n",
      "| id|origin|destination|min|\n",
      "+---+------+-----------+---+\n",
      "|  0|     B|         MM|300|\n",
      "|  1|    BV|         IS|300|\n",
      "|  2|    TM|         CT|300|\n",
      "|  3|    CJ|         BC|300|\n",
      "+---+------+-----------+---+"
     ]
    }
   ],
   "source": [
    "trips_table = trips_table.select(\"id\",  \"origin\", \"destination\", \"min\")\n",
    "trips_table.show()"
   ]
  },
  {
   "cell_type": "markdown",
   "id": "female-pleasure",
   "metadata": {},
   "source": [
    "## UDF to accomodate collect_list aggregated columns in the right order "
   ]
  },
  {
   "cell_type": "code",
   "execution_count": 169,
   "id": "hispanic-wilson",
   "metadata": {},
   "outputs": [
    {
     "data": {
      "application/vnd.jupyter.widget-view+json": {
       "model_id": "dd036f3784b84450934719989837e41e",
       "version_major": 2,
       "version_minor": 0
      },
      "text/plain": [
       "VBox()"
      ]
     },
     "metadata": {},
     "output_type": "display_data"
    },
    {
     "data": {
      "application/vnd.jupyter.widget-view+json": {
       "model_id": "",
       "version_major": 2,
       "version_minor": 0
      },
      "text/plain": [
       "FloatProgress(value=0.0, bar_style='info', description='Progress:', layout=Layout(height='25px', width='50%'),…"
      ]
     },
     "metadata": {},
     "output_type": "display_data"
    }
   ],
   "source": [
    "def sorter(l):\n",
    "  res = sorted(l, key=operator.itemgetter(0))\n",
    "  return [item[1] for item in res]\n",
    "\n",
    "sort_udf = F.udf(sorter)"
   ]
  },
  {
   "cell_type": "markdown",
   "id": "solid-madison",
   "metadata": {},
   "source": [
    "# Trips Table Initial"
   ]
  },
  {
   "cell_type": "code",
   "execution_count": 170,
   "id": "fantastic-klein",
   "metadata": {},
   "outputs": [
    {
     "data": {
      "application/vnd.jupyter.widget-view+json": {
       "model_id": "6bf6ca97db474b978a595e0a18c2c308",
       "version_major": 2,
       "version_minor": 0
      },
      "text/plain": [
       "VBox()"
      ]
     },
     "metadata": {},
     "output_type": "display_data"
    },
    {
     "data": {
      "application/vnd.jupyter.widget-view+json": {
       "model_id": "",
       "version_major": 2,
       "version_minor": 0
      },
      "text/plain": [
       "FloatProgress(value=0.0, bar_style='info', description='Progress:', layout=Layout(height='25px', width='50%'),…"
      ]
     },
     "metadata": {},
     "output_type": "display_data"
    },
    {
     "name": "stdout",
     "output_type": "stream",
     "text": [
      "+---+------+-----------+------------+---------------------------------------------------------------+\n",
      "|row|origin|destination|bus_stations|triptimes                                                      |\n",
      "+---+------+-----------+------------+---------------------------------------------------------------+\n",
      "|1  |B     |MM         |[0, 2, 4]   |[2020-03-01 10:10:00, 2020-03-01 12:20:10, 2020-03-01 15:10:00]|\n",
      "|2  |BV    |IS         |[1, 8, 5]   |[2020-03-01 10:10:00, 2020-03-01 12:20:10, 2020-03-01 15:10:00]|\n",
      "|3  |TM    |CT         |[7, 2, 6]   |[2020-04-01 10:10:00, 2020-04-01 12:20:10, 2020-04-01 15:10:00]|\n",
      "|4  |CJ    |BC         |[3, 9, 8]   |[2020-05-01 10:10:00, 2020-05-01 12:20:10, 2020-05-01 15:10:00]|\n",
      "+---+------+-----------+------------+---------------------------------------------------------------+"
     ]
    }
   ],
   "source": [
    "internal_bus_station_ids_agg = internal_bus_station_ids.groupBy('tripkey').agg(F.collect_list(F.struct(\"id\", \"bus_stations\")).alias(\"bus_unordered\")).orderBy(\"tripkey\")\n",
    "internal_bus_station_ids_agg = internal_bus_station_ids_agg.withColumn(\"bus_stations\", sort_udf(F.col(\"bus_unordered\"))).drop(\"bus_unordered\")\n",
    "trips_table_initial = trips_table.join(internal_bus_station_ids_agg.select(\"bus_stations\", \"tripkey\"), internal_bus_station_ids_agg.tripkey==trips_table.id, how=\"inner\").drop(\"tripkey\") \n",
    "\n",
    "trips_table_initial= trips_table_initial.join(triptimes_table_agg, triptimes_table_agg.tripkey==trips_table_initial.id, how=\"inner\")\n",
    "trips_table_initial = trips_table_initial.withColumn(\"default_value\",F.lit(\"ABC\")) #default value only to generate row_number\n",
    "w = Window().partitionBy('default_value').orderBy(F.lit('A'))\n",
    "trips_table_initial = trips_table_initial.withColumn(\"row\", F.row_number().over(w)).drop(\"default_value\")\n",
    "trips_table_initial = trips_table_initial.select(\"row\", \"origin\", \"destination\", \"bus_stations\", \"triptimes\")\n",
    "trips_table_initial.show(truncate=False)"
   ]
  },
  {
   "cell_type": "markdown",
   "id": "republican-payday",
   "metadata": {},
   "source": [
    "# Trips Fact Table"
   ]
  },
  {
   "cell_type": "code",
   "execution_count": 171,
   "id": "modern-swedish",
   "metadata": {},
   "outputs": [
    {
     "data": {
      "application/vnd.jupyter.widget-view+json": {
       "model_id": "aa977d66a5514e2d857d08fee4b7b5d5",
       "version_major": 2,
       "version_minor": 0
      },
      "text/plain": [
       "VBox()"
      ]
     },
     "metadata": {},
     "output_type": "display_data"
    },
    {
     "data": {
      "application/vnd.jupyter.widget-view+json": {
       "model_id": "",
       "version_major": 2,
       "version_minor": 0
      },
      "text/plain": [
       "FloatProgress(value=0.0, bar_style='info', description='Progress:', layout=Layout(height='25px', width='50%'),…"
      ]
     },
     "metadata": {},
     "output_type": "display_data"
    }
   ],
   "source": [
    "internal_bus_station_ids_fact_agg = internal_bus_station_ids.groupBy('tripkey').agg(F.collect_list(F.struct(\"id\", \"public_bus_station\")).alias(\"public_bus_unordered\")).orderBy(\"tripkey\")\n",
    "internal_bus_station_ids_fact_agg = internal_bus_station_ids_fact_agg.withColumn(\"public_bus_station\", sort_udf(F.col(\"public_bus_unordered\"))).drop(\"public_bus_unordered\")\n",
    "trips_table_fact = trips_table.join(internal_bus_station_ids_fact_agg.select(\"public_bus_station\", \"tripkey\"), internal_bus_station_ids_fact_agg.tripkey==trips_table.id, how=\"inner\") \n",
    "trips_table_fact = trips_table_fact.withColumn(\"default_value\",F.lit(\"ABC\")) #default value only to generate row_number\n",
    "w = Window().partitionBy('default_value').orderBy(F.lit('A'))\n",
    "trips_table_fact = trips_table_fact.withColumn(\"row\", F.row_number().over(w)).drop(\"default_value\")\n",
    "trips_table_fact = trips_table_fact.select(\"row\", \"origin\", \"destination\", \"public_bus_station\", F.col(\"min\").alias(\"duration\"))"
   ]
  },
  {
   "cell_type": "code",
   "execution_count": 172,
   "id": "distributed-fifteen",
   "metadata": {},
   "outputs": [
    {
     "data": {
      "application/vnd.jupyter.widget-view+json": {
       "model_id": "b8cdf8234a2e45a7b6e8e458b74611df",
       "version_major": 2,
       "version_minor": 0
      },
      "text/plain": [
       "VBox()"
      ]
     },
     "metadata": {},
     "output_type": "display_data"
    },
    {
     "data": {
      "application/vnd.jupyter.widget-view+json": {
       "model_id": "",
       "version_major": 2,
       "version_minor": 0
      },
      "text/plain": [
       "FloatProgress(value=0.0, bar_style='info', description='Progress:', layout=Layout(height='25px', width='50%'),…"
      ]
     },
     "metadata": {},
     "output_type": "display_data"
    },
    {
     "name": "stdout",
     "output_type": "stream",
     "text": [
      "+---+------+-----------+------------------------------------+--------+\n",
      "|row|origin|destination|public_bus_station                  |duration|\n",
      "+---+------+-----------+------------------------------------+--------+\n",
      "|1  |B     |MM         |[BAutogara, SBAutogara, MMAutogara] |300     |\n",
      "|2  |BV    |IS         |[BVAutogara, BCAutogara, ISAutogara]|300     |\n",
      "|3  |TM    |CT         |[TMAutogara, SBAutogara, CTAutogara]|300     |\n",
      "|4  |CJ    |BC         |[CJAutogara, MSAutogara, BCAutogara]|300     |\n",
      "+---+------+-----------+------------------------------------+--------+"
     ]
    }
   ],
   "source": [
    "trips_table_fact.show(truncate=False)"
   ]
  },
  {
   "cell_type": "markdown",
   "id": "associate-divide",
   "metadata": {},
   "source": [
    "# Conclusions"
   ]
  },
  {
   "cell_type": "markdown",
   "id": "obvious-string",
   "metadata": {},
   "source": [
    "In Conclusion the final table is an OLAP Cube formed by aggregation from duration Fact table on the dimension columns (origin, destination, bus_station names)"
   ]
  },
  {
   "cell_type": "markdown",
   "id": "accepting-malawi",
   "metadata": {},
   "source": [
    "1. Station Dimension Table in tabular format "
   ]
  },
  {
   "cell_type": "code",
   "execution_count": 173,
   "id": "descending-minute",
   "metadata": {},
   "outputs": [
    {
     "data": {
      "application/vnd.jupyter.widget-view+json": {
       "model_id": "926900364d894c0fa3020dca9eef09c6",
       "version_major": 2,
       "version_minor": 0
      },
      "text/plain": [
       "VBox()"
      ]
     },
     "metadata": {},
     "output_type": "display_data"
    },
    {
     "data": {
      "application/vnd.jupyter.widget-view+json": {
       "model_id": "",
       "version_major": 2,
       "version_minor": 0
      },
      "text/plain": [
       "FloatProgress(value=0.0, bar_style='info', description='Progress:', layout=Layout(height='25px', width='50%'),…"
      ]
     },
     "metadata": {},
     "output_type": "display_data"
    },
    {
     "name": "stdout",
     "output_type": "stream",
     "text": [
      "+---+-------+------------+------------------+\n",
      "|id |tripkey|bus_stations|public_bus_station|\n",
      "+---+-------+------------+------------------+\n",
      "|0  |0      |0           |BAutogara         |\n",
      "|2  |0      |4           |MMAutogara        |\n",
      "|1  |0      |2           |SBAutogara        |\n",
      "|5  |1      |5           |ISAutogara        |\n",
      "|4  |1      |8           |BCAutogara        |\n",
      "|3  |1      |1           |BVAutogara        |\n",
      "|8  |2      |6           |CTAutogara        |\n",
      "|6  |2      |7           |TMAutogara        |\n",
      "|7  |2      |2           |SBAutogara        |\n",
      "|11 |3      |8           |BCAutogara        |\n",
      "|9  |3      |3           |CJAutogara        |\n",
      "|10 |3      |9           |MSAutogara        |\n",
      "+---+-------+------------+------------------+"
     ]
    }
   ],
   "source": [
    "internal_bus_station_ids.show(truncate=False)"
   ]
  },
  {
   "cell_type": "markdown",
   "id": "progressive-passage",
   "metadata": {},
   "source": [
    "2. Trips Dimension Tables Origin and Destination"
   ]
  },
  {
   "cell_type": "code",
   "execution_count": 174,
   "id": "acoustic-wisconsin",
   "metadata": {},
   "outputs": [
    {
     "data": {
      "application/vnd.jupyter.widget-view+json": {
       "model_id": "dfbbb692979e4dc59c85fe6df28d517a",
       "version_major": 2,
       "version_minor": 0
      },
      "text/plain": [
       "VBox()"
      ]
     },
     "metadata": {},
     "output_type": "display_data"
    },
    {
     "data": {
      "application/vnd.jupyter.widget-view+json": {
       "model_id": "",
       "version_major": 2,
       "version_minor": 0
      },
      "text/plain": [
       "FloatProgress(value=0.0, bar_style='info', description='Progress:', layout=Layout(height='25px', width='50%'),…"
      ]
     },
     "metadata": {},
     "output_type": "display_data"
    },
    {
     "name": "stdout",
     "output_type": "stream",
     "text": [
      "+---+------+-----------+\n",
      "|id |origin|destination|\n",
      "+---+------+-----------+\n",
      "|0  |B     |MM         |\n",
      "|1  |BV    |IS         |\n",
      "|2  |TM    |CT         |\n",
      "|3  |CJ    |BC         |\n",
      "+---+------+-----------+"
     ]
    }
   ],
   "source": [
    "trips_table.select(\"id\",  \"origin\", \"destination\").show(truncate=False)"
   ]
  },
  {
   "cell_type": "markdown",
   "id": "occupational-begin",
   "metadata": {},
   "source": [
    "3. Trips Dimension Tables Triptimes"
   ]
  },
  {
   "cell_type": "code",
   "execution_count": 175,
   "id": "finite-robinson",
   "metadata": {},
   "outputs": [
    {
     "data": {
      "application/vnd.jupyter.widget-view+json": {
       "model_id": "fc4d87afa5b04d66bc65832876b31a49",
       "version_major": 2,
       "version_minor": 0
      },
      "text/plain": [
       "VBox()"
      ]
     },
     "metadata": {},
     "output_type": "display_data"
    },
    {
     "data": {
      "application/vnd.jupyter.widget-view+json": {
       "model_id": "",
       "version_major": 2,
       "version_minor": 0
      },
      "text/plain": [
       "FloatProgress(value=0.0, bar_style='info', description='Progress:', layout=Layout(height='25px', width='50%'),…"
      ]
     },
     "metadata": {},
     "output_type": "display_data"
    },
    {
     "name": "stdout",
     "output_type": "stream",
     "text": [
      "+---+-------+-------------------+-------------------+\n",
      "| id|tripkey|                 dt|      triptimes_str|\n",
      "+---+-------+-------------------+-------------------+\n",
      "|  3|      1|2020-03-01 10:10:00|2020-03-01 10:10:00|\n",
      "|  0|      0|2020-03-01 10:10:00|2020-03-01 10:10:00|\n",
      "|  1|      0|2020-03-01 12:20:10|2020-03-01 12:20:10|\n",
      "|  4|      1|2020-03-01 12:20:10|2020-03-01 12:20:10|\n",
      "|  2|      0|2020-03-01 15:10:00|2020-03-01 15:10:00|\n",
      "|  5|      1|2020-03-01 15:10:00|2020-03-01 15:10:00|\n",
      "|  6|      2|2020-04-01 10:10:00|2020-04-01 10:10:00|\n",
      "|  7|      2|2020-04-01 12:20:10|2020-04-01 12:20:10|\n",
      "|  8|      2|2020-04-01 15:10:00|2020-04-01 15:10:00|\n",
      "|  9|      3|2020-05-01 10:10:00|2020-05-01 10:10:00|\n",
      "| 10|      3|2020-05-01 12:20:10|2020-05-01 12:20:10|\n",
      "| 11|      3|2020-05-01 15:10:00|2020-05-01 15:10:00|\n",
      "+---+-------+-------------------+-------------------+"
     ]
    }
   ],
   "source": [
    "triptimes_table.show()"
   ]
  },
  {
   "cell_type": "markdown",
   "id": "piano-holocaust",
   "metadata": {},
   "source": [
    "4. Fact Duration Table"
   ]
  },
  {
   "cell_type": "code",
   "execution_count": 176,
   "id": "twenty-champion",
   "metadata": {},
   "outputs": [
    {
     "data": {
      "application/vnd.jupyter.widget-view+json": {
       "model_id": "6a4c2ae617904c288ddb7475966c0948",
       "version_major": 2,
       "version_minor": 0
      },
      "text/plain": [
       "VBox()"
      ]
     },
     "metadata": {},
     "output_type": "display_data"
    },
    {
     "data": {
      "application/vnd.jupyter.widget-view+json": {
       "model_id": "",
       "version_major": 2,
       "version_minor": 0
      },
      "text/plain": [
       "FloatProgress(value=0.0, bar_style='info', description='Progress:', layout=Layout(height='25px', width='50%'),…"
      ]
     },
     "metadata": {},
     "output_type": "display_data"
    },
    {
     "name": "stdout",
     "output_type": "stream",
     "text": [
      "+-------+---------------------------------------------------------------+---+\n",
      "|tripkey|triptimes                                                      |min|\n",
      "+-------+---------------------------------------------------------------+---+\n",
      "|0      |[2020-03-01 10:10:00, 2020-03-01 12:20:10, 2020-03-01 15:10:00]|300|\n",
      "|1      |[2020-03-01 10:10:00, 2020-03-01 12:20:10, 2020-03-01 15:10:00]|300|\n",
      "|2      |[2020-04-01 10:10:00, 2020-04-01 12:20:10, 2020-04-01 15:10:00]|300|\n",
      "|3      |[2020-05-01 10:10:00, 2020-05-01 12:20:10, 2020-05-01 15:10:00]|300|\n",
      "+-------+---------------------------------------------------------------+---+"
     ]
    }
   ],
   "source": [
    "triptimes_table_agg.show(truncate=False)"
   ]
  },
  {
   "cell_type": "markdown",
   "id": "regional-method",
   "metadata": {},
   "source": [
    "5. Initial Table"
   ]
  },
  {
   "cell_type": "code",
   "execution_count": 177,
   "id": "christian-junior",
   "metadata": {},
   "outputs": [
    {
     "data": {
      "application/vnd.jupyter.widget-view+json": {
       "model_id": "764fd1be7fd746a6b62f19d4b288d3e2",
       "version_major": 2,
       "version_minor": 0
      },
      "text/plain": [
       "VBox()"
      ]
     },
     "metadata": {},
     "output_type": "display_data"
    },
    {
     "data": {
      "application/vnd.jupyter.widget-view+json": {
       "model_id": "",
       "version_major": 2,
       "version_minor": 0
      },
      "text/plain": [
       "FloatProgress(value=0.0, bar_style='info', description='Progress:', layout=Layout(height='25px', width='50%'),…"
      ]
     },
     "metadata": {},
     "output_type": "display_data"
    },
    {
     "name": "stdout",
     "output_type": "stream",
     "text": [
      "+---+------+-----------+------------+---------------------------------------------------------------+\n",
      "|row|origin|destination|bus_stations|triptimes                                                      |\n",
      "+---+------+-----------+------------+---------------------------------------------------------------+\n",
      "|1  |B     |MM         |[0, 2, 4]   |[2020-03-01 10:10:00, 2020-03-01 12:20:10, 2020-03-01 15:10:00]|\n",
      "|2  |BV    |IS         |[1, 8, 5]   |[2020-03-01 10:10:00, 2020-03-01 12:20:10, 2020-03-01 15:10:00]|\n",
      "|3  |TM    |CT         |[7, 2, 6]   |[2020-04-01 10:10:00, 2020-04-01 12:20:10, 2020-04-01 15:10:00]|\n",
      "|4  |CJ    |BC         |[3, 9, 8]   |[2020-05-01 10:10:00, 2020-05-01 12:20:10, 2020-05-01 15:10:00]|\n",
      "+---+------+-----------+------------+---------------------------------------------------------------+"
     ]
    }
   ],
   "source": [
    "trips_table_initial.show(truncate=False)"
   ]
  },
  {
   "cell_type": "markdown",
   "id": "brown-garden",
   "metadata": {},
   "source": [
    "6. Final Fact Table aggregated(OLAP Cube) on dimensions"
   ]
  },
  {
   "cell_type": "code",
   "execution_count": 178,
   "id": "primary-ladder",
   "metadata": {},
   "outputs": [
    {
     "data": {
      "application/vnd.jupyter.widget-view+json": {
       "model_id": "6772c83a7dce4a6bbb6c3c48a4c81e0b",
       "version_major": 2,
       "version_minor": 0
      },
      "text/plain": [
       "VBox()"
      ]
     },
     "metadata": {},
     "output_type": "display_data"
    },
    {
     "data": {
      "application/vnd.jupyter.widget-view+json": {
       "model_id": "",
       "version_major": 2,
       "version_minor": 0
      },
      "text/plain": [
       "FloatProgress(value=0.0, bar_style='info', description='Progress:', layout=Layout(height='25px', width='50%'),…"
      ]
     },
     "metadata": {},
     "output_type": "display_data"
    },
    {
     "name": "stdout",
     "output_type": "stream",
     "text": [
      "+---+------+-----------+------------------------------------+--------+\n",
      "|row|origin|destination|public_bus_station                  |duration|\n",
      "+---+------+-----------+------------------------------------+--------+\n",
      "|1  |B     |MM         |[BAutogara, SBAutogara, MMAutogara] |300     |\n",
      "|2  |BV    |IS         |[BVAutogara, BCAutogara, ISAutogara]|300     |\n",
      "|3  |TM    |CT         |[TMAutogara, SBAutogara, CTAutogara]|300     |\n",
      "|4  |CJ    |BC         |[CJAutogara, MSAutogara, BCAutogara]|300     |\n",
      "+---+------+-----------+------------------------------------+--------+"
     ]
    }
   ],
   "source": [
    "trips_table_fact.show(truncate=False)"
   ]
  },
  {
   "cell_type": "code",
   "execution_count": null,
   "id": "eight-thinking",
   "metadata": {},
   "outputs": [],
   "source": []
  }
 ],
 "metadata": {
  "kernelspec": {
   "display_name": "PySpark",
   "language": "",
   "name": "pysparkkernel"
  },
  "language_info": {
   "codemirror_mode": {
    "name": "python",
    "version": 2
   },
   "mimetype": "text/x-python",
   "name": "pyspark",
   "pygments_lexer": "python2"
  }
 },
 "nbformat": 4,
 "nbformat_minor": 5
}
