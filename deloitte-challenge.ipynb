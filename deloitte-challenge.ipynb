{
 "cells": [
  {
   "cell_type": "code",
   "execution_count": 943,
   "id": "wicked-respect",
   "metadata": {},
   "outputs": [
    {
     "data": {
      "application/vnd.jupyter.widget-view+json": {
       "model_id": "f143bda9013d463ba92323bcc31c24d6",
       "version_major": 2,
       "version_minor": 0
      },
      "text/plain": [
       "VBox()"
      ]
     },
     "metadata": {},
     "output_type": "display_data"
    },
    {
     "data": {
      "application/vnd.jupyter.widget-view+json": {
       "model_id": "",
       "version_major": 2,
       "version_minor": 0
      },
      "text/plain": [
       "FloatProgress(value=0.0, bar_style='info', description='Progress:', layout=Layout(height='25px', width='50%'),…"
      ]
     },
     "metadata": {},
     "output_type": "display_data"
    }
   ],
   "source": [
    "import os\n",
    "import pyspark.sql.functions as F\n",
    "import pyspark.sql.types as T\n",
    "from pyspark.sql import SparkSession\n",
    "import json\n",
    "import re\n",
    "import logging\n",
    "from pyspark.sql.window import Window\n",
    "import operator"
   ]
  },
  {
   "cell_type": "code",
   "execution_count": 944,
   "id": "written-infrastructure",
   "metadata": {},
   "outputs": [
    {
     "data": {
      "application/vnd.jupyter.widget-view+json": {
       "model_id": "73ec14be42e3411198832ac60c3d8804",
       "version_major": 2,
       "version_minor": 0
      },
      "text/plain": [
       "VBox()"
      ]
     },
     "metadata": {},
     "output_type": "display_data"
    },
    {
     "data": {
      "application/vnd.jupyter.widget-view+json": {
       "model_id": "",
       "version_major": 2,
       "version_minor": 0
      },
      "text/plain": [
       "FloatProgress(value=0.0, bar_style='info', description='Progress:', layout=Layout(height='25px', width='50%'),…"
      ]
     },
     "metadata": {},
     "output_type": "display_data"
    }
   ],
   "source": [
    "spark = SparkSession.builder.appName(\"Deloitte Challenge Test\").config(\"spark.jars.packages\",\"org.apache.hadoop:hadoop-aws:2.7.0\").getOrCreate()"
   ]
  },
  {
   "cell_type": "code",
   "execution_count": 945,
   "id": "associate-correction",
   "metadata": {},
   "outputs": [
    {
     "data": {
      "application/vnd.jupyter.widget-view+json": {
       "model_id": "c8ac85a77e1c4b8c984c15db78382d27",
       "version_major": 2,
       "version_minor": 0
      },
      "text/plain": [
       "VBox()"
      ]
     },
     "metadata": {},
     "output_type": "display_data"
    },
    {
     "data": {
      "application/vnd.jupyter.widget-view+json": {
       "model_id": "",
       "version_major": 2,
       "version_minor": 0
      },
      "text/plain": [
       "FloatProgress(value=0.0, bar_style='info', description='Progress:', layout=Layout(height='25px', width='50%'),…"
      ]
     },
     "metadata": {},
     "output_type": "display_data"
    }
   ],
   "source": [
    "stations_data = \"s3a://deloitte-ciprian-test/data/source/stations.txt\"\n",
    "trips_data = \"s3a://deloitte-ciprian-test/data/source/trips.txt\""
   ]
  },
  {
   "cell_type": "markdown",
   "id": "guilty-receipt",
   "metadata": {},
   "source": [
    "# Read Data From Files"
   ]
  },
  {
   "cell_type": "code",
   "execution_count": 946,
   "id": "universal-actor",
   "metadata": {},
   "outputs": [
    {
     "data": {
      "application/vnd.jupyter.widget-view+json": {
       "model_id": "e809de7e50fe4ec3afac7f33a5a2971a",
       "version_major": 2,
       "version_minor": 0
      },
      "text/plain": [
       "VBox()"
      ]
     },
     "metadata": {},
     "output_type": "display_data"
    },
    {
     "data": {
      "application/vnd.jupyter.widget-view+json": {
       "model_id": "",
       "version_major": 2,
       "version_minor": 0
      },
      "text/plain": [
       "FloatProgress(value=0.0, bar_style='info', description='Progress:', layout=Layout(height='25px', width='50%'),…"
      ]
     },
     "metadata": {},
     "output_type": "display_data"
    },
    {
     "name": "stdout",
     "output_type": "stream",
     "text": [
      "+--------------------+\n",
      "|               value|\n",
      "+--------------------+\n",
      "|                   {|\n",
      "|\"internal_bus_sta...|\n",
      "|\"public_bus_stati...|\n",
      "|                   }|\n",
      "+--------------------+"
     ]
    }
   ],
   "source": [
    "df_stations = spark.read.text(stations_data)\n",
    "df_stations.show()"
   ]
  },
  {
   "cell_type": "code",
   "execution_count": 947,
   "id": "blocked-mystery",
   "metadata": {},
   "outputs": [
    {
     "data": {
      "application/vnd.jupyter.widget-view+json": {
       "model_id": "8696323767f54628b2a0f1c67127406a",
       "version_major": 2,
       "version_minor": 0
      },
      "text/plain": [
       "VBox()"
      ]
     },
     "metadata": {},
     "output_type": "display_data"
    },
    {
     "data": {
      "application/vnd.jupyter.widget-view+json": {
       "model_id": "",
       "version_major": 2,
       "version_minor": 0
      },
      "text/plain": [
       "FloatProgress(value=0.0, bar_style='info', description='Progress:', layout=Layout(height='25px', width='50%'),…"
      ]
     },
     "metadata": {},
     "output_type": "display_data"
    },
    {
     "name": "stdout",
     "output_type": "stream",
     "text": [
      "+--------------------+\n",
      "|               value|\n",
      "+--------------------+\n",
      "|                   {|\n",
      "|\"ORIGIN\": [\"B\",\"B...|\n",
      "|\"DESTINATION\": [\"...|\n",
      "|\"INTERNAL_BUS_STA...|\n",
      "|\" TRIPTIMES\": [[2...|\n",
      "|                   }|\n",
      "+--------------------+"
     ]
    }
   ],
   "source": [
    "df_trips = spark.read.text(trips_data)\n",
    "df_trips.show()"
   ]
  },
  {
   "cell_type": "markdown",
   "id": "homeless-reducing",
   "metadata": {},
   "source": [
    "### Because is not possible to parse the data in JSON Format I clean a bit the data before I start to parse it"
   ]
  },
  {
   "cell_type": "code",
   "execution_count": 948,
   "id": "interpreted-skirt",
   "metadata": {},
   "outputs": [
    {
     "data": {
      "application/vnd.jupyter.widget-view+json": {
       "model_id": "7021fff443164424a9da94bc48f33229",
       "version_major": 2,
       "version_minor": 0
      },
      "text/plain": [
       "VBox()"
      ]
     },
     "metadata": {},
     "output_type": "display_data"
    },
    {
     "data": {
      "application/vnd.jupyter.widget-view+json": {
       "model_id": "",
       "version_major": 2,
       "version_minor": 0
      },
      "text/plain": [
       "FloatProgress(value=0.0, bar_style='info', description='Progress:', layout=Layout(height='25px', width='50%'),…"
      ]
     },
     "metadata": {},
     "output_type": "display_data"
    }
   ],
   "source": [
    "df_stations = df_stations.filter(df_stations.value!='{')"
   ]
  },
  {
   "cell_type": "code",
   "execution_count": 949,
   "id": "governing-mining",
   "metadata": {},
   "outputs": [
    {
     "data": {
      "application/vnd.jupyter.widget-view+json": {
       "model_id": "695455272c0d4eefafd66cc22a86e055",
       "version_major": 2,
       "version_minor": 0
      },
      "text/plain": [
       "VBox()"
      ]
     },
     "metadata": {},
     "output_type": "display_data"
    },
    {
     "data": {
      "application/vnd.jupyter.widget-view+json": {
       "model_id": "",
       "version_major": 2,
       "version_minor": 0
      },
      "text/plain": [
       "FloatProgress(value=0.0, bar_style='info', description='Progress:', layout=Layout(height='25px', width='50%'),…"
      ]
     },
     "metadata": {},
     "output_type": "display_data"
    }
   ],
   "source": [
    "df_stations = df_stations.filter(df_stations.value!='}')"
   ]
  },
  {
   "cell_type": "code",
   "execution_count": 950,
   "id": "interstate-driver",
   "metadata": {},
   "outputs": [
    {
     "data": {
      "application/vnd.jupyter.widget-view+json": {
       "model_id": "c2d3357a5a984cc58d2d2810444f99bd",
       "version_major": 2,
       "version_minor": 0
      },
      "text/plain": [
       "VBox()"
      ]
     },
     "metadata": {},
     "output_type": "display_data"
    },
    {
     "data": {
      "application/vnd.jupyter.widget-view+json": {
       "model_id": "",
       "version_major": 2,
       "version_minor": 0
      },
      "text/plain": [
       "FloatProgress(value=0.0, bar_style='info', description='Progress:', layout=Layout(height='25px', width='50%'),…"
      ]
     },
     "metadata": {},
     "output_type": "display_data"
    }
   ],
   "source": [
    "df_trips = df_trips.filter(df_trips.value!='{')"
   ]
  },
  {
   "cell_type": "code",
   "execution_count": 951,
   "id": "biblical-writing",
   "metadata": {},
   "outputs": [
    {
     "data": {
      "application/vnd.jupyter.widget-view+json": {
       "model_id": "d39818709ae5423183efb73e858932d3",
       "version_major": 2,
       "version_minor": 0
      },
      "text/plain": [
       "VBox()"
      ]
     },
     "metadata": {},
     "output_type": "display_data"
    },
    {
     "data": {
      "application/vnd.jupyter.widget-view+json": {
       "model_id": "",
       "version_major": 2,
       "version_minor": 0
      },
      "text/plain": [
       "FloatProgress(value=0.0, bar_style='info', description='Progress:', layout=Layout(height='25px', width='50%'),…"
      ]
     },
     "metadata": {},
     "output_type": "display_data"
    }
   ],
   "source": [
    "df_trips = df_trips.filter(df_trips.value!='}')"
   ]
  },
  {
   "cell_type": "markdown",
   "id": "hairy-bread",
   "metadata": {},
   "source": [
    "### I visualize the rows of data I'm going to parse for both stations and trips tables"
   ]
  },
  {
   "cell_type": "code",
   "execution_count": 952,
   "id": "colonial-unemployment",
   "metadata": {},
   "outputs": [
    {
     "data": {
      "application/vnd.jupyter.widget-view+json": {
       "model_id": "3f6f8d790b3d484087694b5f7ef9e8ba",
       "version_major": 2,
       "version_minor": 0
      },
      "text/plain": [
       "VBox()"
      ]
     },
     "metadata": {},
     "output_type": "display_data"
    },
    {
     "data": {
      "application/vnd.jupyter.widget-view+json": {
       "model_id": "",
       "version_major": 2,
       "version_minor": 0
      },
      "text/plain": [
       "FloatProgress(value=0.0, bar_style='info', description='Progress:', layout=Layout(height='25px', width='50%'),…"
      ]
     },
     "metadata": {},
     "output_type": "display_data"
    },
    {
     "name": "stdout",
     "output_type": "stream",
     "text": [
      "[Row(value='\"internal_bus_station_id\": [0, 1, 2, 3, 4, 5, 6, 7, 8, 9, 5],'), Row(value='\"public_bus_station\": [\"BAutogara\", \"BVAutogara\", \"SBAutogara\",\"CJAutogara\", \"MMAutogara\",\"ISAutogara\", \"CTAutogara\",\"TMAutogara\", \"BCAutogara\", \"MSAutogara\", \"ISAutogara\"]')]"
     ]
    }
   ],
   "source": [
    "df_stations.head(4)"
   ]
  },
  {
   "cell_type": "code",
   "execution_count": 953,
   "id": "confidential-combination",
   "metadata": {},
   "outputs": [
    {
     "data": {
      "application/vnd.jupyter.widget-view+json": {
       "model_id": "b0e610c4bf5543f7891ceda4b5bbde37",
       "version_major": 2,
       "version_minor": 0
      },
      "text/plain": [
       "VBox()"
      ]
     },
     "metadata": {},
     "output_type": "display_data"
    },
    {
     "data": {
      "application/vnd.jupyter.widget-view+json": {
       "model_id": "",
       "version_major": 2,
       "version_minor": 0
      },
      "text/plain": [
       "FloatProgress(value=0.0, bar_style='info', description='Progress:', layout=Layout(height='25px', width='50%'),…"
      ]
     },
     "metadata": {},
     "output_type": "display_data"
    },
    {
     "name": "stdout",
     "output_type": "stream",
     "text": [
      "[Row(value='\"ORIGIN\": [\"B\",\"BV\",\"TM\",\"CJ\"],'), Row(value='\"DESTINATION\": [\"MM\",\"IS\",\"CT\",\"BC\"],'), Row(value='\"INTERNAL_BUS_STATION_IDS\": [[0,2,4],[1,8,5],[7,2,6],[3,9,8]],'), Row(value='\" TRIPTIMES\": [[2020-03-01 10:10:00 , 2020-03-01 12:20:10, 2020-03-01 15:10:00],[ 2020-03-01 10:10:00, 2020-03-01 12:20:10, 2020-03-01 15:10:00],[2020-04-01 10:10:00, 2020-04-01 12:20:10, 2020-04-01 15:10:00],[2020-05-01 10:10:00, 2020-05-01 12:20:10, 2020-05-01 15:10:00 ]]')]"
     ]
    }
   ],
   "source": [
    "df_trips.head(4)"
   ]
  },
  {
   "cell_type": "markdown",
   "id": "ahead-argentina",
   "metadata": {},
   "source": [
    "### Parse the Data in unidimensional Array Format and organize it in a tabular format"
   ]
  },
  {
   "cell_type": "code",
   "execution_count": 954,
   "id": "supported-australia",
   "metadata": {},
   "outputs": [
    {
     "data": {
      "application/vnd.jupyter.widget-view+json": {
       "model_id": "273b8f0e4f6e4508b80ec3a4fd5d4a1f",
       "version_major": 2,
       "version_minor": 0
      },
      "text/plain": [
       "VBox()"
      ]
     },
     "metadata": {},
     "output_type": "display_data"
    },
    {
     "data": {
      "application/vnd.jupyter.widget-view+json": {
       "model_id": "",
       "version_major": 2,
       "version_minor": 0
      },
      "text/plain": [
       "FloatProgress(value=0.0, bar_style='info', description='Progress:', layout=Layout(height='25px', width='50%'),…"
      ]
     },
     "metadata": {},
     "output_type": "display_data"
    }
   ],
   "source": [
    "def last_index_right_brackets(string):\n",
    "    index_close_array = string.rfind(\"]\")\n",
    "    if index_close_array == len(string)-1:\n",
    "        index_close_array = -1\n",
    "    return index_close_array\n",
    "\n",
    "def convert_to_dict(column): \n",
    "    map_return = {}    \n",
    "    map_kv = column.split(':')\n",
    "    prop = map_kv[0].strip().lower()\n",
    "    prop = prop.replace('\"', '')\n",
    "    val = map_kv[1]\n",
    "    val = val.strip()\n",
    "    \n",
    "    #remove both comma if exists and the close square bracket\n",
    "    index_close_array = last_index_right_brackets(val)\n",
    "    val = val[1:index_close_array]\n",
    "    array_of_arr = val.split(',')\n",
    "    intermediary_array = []\n",
    "    for detail_item in array_of_arr:\n",
    "        detail_item = detail_item.strip()\n",
    "        detail_item = detail_item.replace('\"', '')\n",
    "        intermediary_array.append(detail_item)\n",
    "        val = intermediary_array \n",
    "    map_return[prop] = val\n",
    "    return map_return"
   ]
  },
  {
   "cell_type": "markdown",
   "id": "organizational-stake",
   "metadata": {},
   "source": [
    "### UDF Function to read single dimensional Arrays"
   ]
  },
  {
   "cell_type": "code",
   "execution_count": 955,
   "id": "baking-potter",
   "metadata": {},
   "outputs": [
    {
     "data": {
      "application/vnd.jupyter.widget-view+json": {
       "model_id": "15a3eee019e2473381689d5d6a5a3ab0",
       "version_major": 2,
       "version_minor": 0
      },
      "text/plain": [
       "VBox()"
      ]
     },
     "metadata": {},
     "output_type": "display_data"
    },
    {
     "data": {
      "application/vnd.jupyter.widget-view+json": {
       "model_id": "",
       "version_major": 2,
       "version_minor": 0
      },
      "text/plain": [
       "FloatProgress(value=0.0, bar_style='info', description='Progress:', layout=Layout(height='25px', width='50%'),…"
      ]
     },
     "metadata": {},
     "output_type": "display_data"
    }
   ],
   "source": [
    "string_to_dict_udf = F.udf(convert_to_dict, T.MapType(T.StringType(), T.ArrayType(T.StringType())))"
   ]
  },
  {
   "cell_type": "markdown",
   "id": "greek-temple",
   "metadata": {},
   "source": [
    "# Load unidimensional arrays first"
   ]
  },
  {
   "cell_type": "markdown",
   "id": "finite-seminar",
   "metadata": {},
   "source": [
    "## Load Stations data"
   ]
  },
  {
   "cell_type": "code",
   "execution_count": 956,
   "id": "alpine-lounge",
   "metadata": {},
   "outputs": [
    {
     "data": {
      "application/vnd.jupyter.widget-view+json": {
       "model_id": "63b6a06dd0a341da81162b31840c3545",
       "version_major": 2,
       "version_minor": 0
      },
      "text/plain": [
       "VBox()"
      ]
     },
     "metadata": {},
     "output_type": "display_data"
    },
    {
     "data": {
      "application/vnd.jupyter.widget-view+json": {
       "model_id": "",
       "version_major": 2,
       "version_minor": 0
      },
      "text/plain": [
       "FloatProgress(value=0.0, bar_style='info', description='Progress:', layout=Layout(height='25px', width='50%'),…"
      ]
     },
     "metadata": {},
     "output_type": "display_data"
    },
    {
     "name": "stdout",
     "output_type": "stream",
     "text": [
      "-RECORD 0----------------------------------------------------------------------------------------------------------------------------------------------------------------------------------------\n",
      " value            | \"internal_bus_station_id\": [0, 1, 2, 3, 4, 5, 6, 7, 8, 9, 5],                                                                                                                \n",
      " dict_from_string | [internal_bus_station_id -> [0, 1, 2, 3, 4, 5, 6, 7, 8, 9, 5]]                                                                                                               \n",
      "-RECORD 1----------------------------------------------------------------------------------------------------------------------------------------------------------------------------------------\n",
      " value            | \"public_bus_station\": [\"BAutogara\", \"BVAutogara\", \"SBAutogara\",\"CJAutogara\", \"MMAutogara\",\"ISAutogara\", \"CTAutogara\",\"TMAutogara\", \"BCAutogara\", \"MSAutogara\", \"ISAutogara\"] \n",
      " dict_from_string | [public_bus_station -> [BAutogara, BVAutogara, SBAutogara, CJAutogara, MMAutogara, ISAutogara, CTAutogara, TMAutogara, BCAutogara, MSAutogara, ISAutogara]]"
     ]
    }
   ],
   "source": [
    "df_stations = df_stations.withColumn(\"dict_from_string\", string_to_dict_udf(F.col(\"value\")))\n",
    "\n",
    "df_stations.show(truncate=False, vertical=True)"
   ]
  },
  {
   "cell_type": "markdown",
   "id": "becoming-grain",
   "metadata": {},
   "source": [
    "## GET the data from the MAP Types and insert as their own rows "
   ]
  },
  {
   "cell_type": "code",
   "execution_count": 957,
   "id": "fatal-chorus",
   "metadata": {},
   "outputs": [
    {
     "data": {
      "application/vnd.jupyter.widget-view+json": {
       "model_id": "244c8783bf3d4e80adaeb15c6f1be75f",
       "version_major": 2,
       "version_minor": 0
      },
      "text/plain": [
       "VBox()"
      ]
     },
     "metadata": {},
     "output_type": "display_data"
    },
    {
     "data": {
      "application/vnd.jupyter.widget-view+json": {
       "model_id": "",
       "version_major": 2,
       "version_minor": 0
      },
      "text/plain": [
       "FloatProgress(value=0.0, bar_style='info', description='Progress:', layout=Layout(height='25px', width='50%'),…"
      ]
     },
     "metadata": {},
     "output_type": "display_data"
    }
   ],
   "source": [
    "data_public_bus = df_stations.select(F.explode(F.col(\"dict_from_string\")['public_bus_station']).alias(\"public_bus_station\"))\n",
    "df_ibsi = df_stations.select(F.explode(F.col(\"dict_from_string\")['internal_bus_station_id']).alias(\"internal_bus_station_id\"))"
   ]
  },
  {
   "cell_type": "markdown",
   "id": "curious-anderson",
   "metadata": {},
   "source": [
    "# Stations Table Initial"
   ]
  },
  {
   "cell_type": "code",
   "execution_count": null,
   "id": "spanish-divorce",
   "metadata": {},
   "outputs": [
    {
     "data": {
      "application/vnd.jupyter.widget-view+json": {
       "model_id": "104c6f6eca8d46938a8758ac0464c54c",
       "version_major": 2,
       "version_minor": 0
      },
      "text/plain": [
       "VBox()"
      ]
     },
     "metadata": {},
     "output_type": "display_data"
    },
    {
     "data": {
      "application/vnd.jupyter.widget-view+json": {
       "model_id": "a8b33cb0a7c54436ab9b5cd6c6f422d8",
       "version_major": 2,
       "version_minor": 0
      },
      "text/plain": [
       "FloatProgress(value=0.0, bar_style='info', description='Progress:', layout=Layout(height='25px', width='50%'),…"
      ]
     },
     "metadata": {},
     "output_type": "display_data"
    }
   ],
   "source": [
    "#maintain the original order from original dataset\n",
    "data_public_bus = data_public_bus.withColumn(\"join_id_bus\", F.monotonically_increasing_id())\n",
    "df_ibsi = df_ibsi.withColumn(\"join_id_ibsi\", F.monotonically_increasing_id())\n",
    "\n",
    "inner_join = data_public_bus.join(df_ibsi,data_public_bus.join_id_bus == df_ibsi.join_id_ibsi, how='inner')\n",
    "\n",
    "station_staging_table = inner_join.select([\"internal_bus_station_id\", \"public_bus_station\"])\n",
    "\n",
    "station_staging_table = station_staging_table.drop_duplicates(subset=['internal_bus_station_id'])\n",
    "\n",
    "station_staging_table = station_staging_table.withColumn(\"default_value\",F.lit(\"ABC\")) #default value only to generate row_number\n",
    "w = Window().partitionBy('default_value').orderBy(F.lit('A'))\n",
    "station_staging_table = station_staging_table.withColumn(\"row\", F.row_number().over(w)).drop(\"default_value\")\n",
    "\n",
    "station_staging_table = station_staging_table.select([\"row\", \"internal_bus_station_id\", \"public_bus_station\"])\n",
    "station_staging_table.show()"
   ]
  },
  {
   "cell_type": "code",
   "execution_count": null,
   "id": "undefined-intention",
   "metadata": {},
   "outputs": [],
   "source": []
  },
  {
   "cell_type": "markdown",
   "id": "based-schema",
   "metadata": {},
   "source": [
    "## Load Trips Table columns origin and destination"
   ]
  },
  {
   "cell_type": "code",
   "execution_count": 959,
   "id": "differential-modern",
   "metadata": {},
   "outputs": [
    {
     "data": {
      "application/vnd.jupyter.widget-view+json": {
       "model_id": "74e933540a3f4f0ca101287ee8e4fdca",
       "version_major": 2,
       "version_minor": 0
      },
      "text/plain": [
       "VBox()"
      ]
     },
     "metadata": {},
     "output_type": "display_data"
    },
    {
     "data": {
      "application/vnd.jupyter.widget-view+json": {
       "model_id": "",
       "version_major": 2,
       "version_minor": 0
      },
      "text/plain": [
       "FloatProgress(value=0.0, bar_style='info', description='Progress:', layout=Layout(height='25px', width='50%'),…"
      ]
     },
     "metadata": {},
     "output_type": "display_data"
    },
    {
     "name": "stdout",
     "output_type": "stream",
     "text": [
      "-RECORD 0----------------------------------------------------------------------------------------------------------------------------------------------------------------------------------------------------------------------------------------------------------------------------------------------\n",
      " value            | \"ORIGIN\": [\"B\",\"BV\",\"TM\",\"CJ\"],                                                                                                                                                                                                                                                    \n",
      " dict_from_string | [origin -> [B, BV, TM, CJ]]                                                                                                                                                                                                                                                        \n",
      "-RECORD 1----------------------------------------------------------------------------------------------------------------------------------------------------------------------------------------------------------------------------------------------------------------------------------------------\n",
      " value            | \"DESTINATION\": [\"MM\",\"IS\",\"CT\",\"BC\"],                                                                                                                                                                                                                                              \n",
      " dict_from_string | [destination -> [MM, IS, CT, BC]]                                                                                                                                                                                                                                                  \n",
      "-RECORD 2----------------------------------------------------------------------------------------------------------------------------------------------------------------------------------------------------------------------------------------------------------------------------------------------\n",
      " value            | \"INTERNAL_BUS_STATION_IDS\": [[0,2,4],[1,8,5],[7,2,6],[3,9,8]],                                                                                                                                                                                                                     \n",
      " dict_from_string | [internal_bus_station_ids -> [[0, 2, 4], [1, 8, 5], [7, 2, 6], [3, 9, 8]]]                                                                                                                                                                                                         \n",
      "-RECORD 3----------------------------------------------------------------------------------------------------------------------------------------------------------------------------------------------------------------------------------------------------------------------------------------------\n",
      " value            | \" TRIPTIMES\": [[2020-03-01 10:10:00 , 2020-03-01 12:20:10, 2020-03-01 15:10:00],[ 2020-03-01 10:10:00, 2020-03-01 12:20:10, 2020-03-01 15:10:00],[2020-04-01 10:10:00, 2020-04-01 12:20:10, 2020-04-01 15:10:00],[2020-05-01 10:10:00, 2020-05-01 12:20:10, 2020-05-01 15:10:00 ]] \n",
      " dict_from_string | [ triptimes -> [[2020-03-01 1]]"
     ]
    }
   ],
   "source": [
    "df_trips = df_trips.withColumn(\"dict_from_string\", string_to_dict_udf(F.col(\"value\")))\n",
    "df_trips.show(truncate=False, vertical=True)"
   ]
  },
  {
   "cell_type": "code",
   "execution_count": 960,
   "id": "talented-offering",
   "metadata": {},
   "outputs": [
    {
     "data": {
      "application/vnd.jupyter.widget-view+json": {
       "model_id": "66d787c12b9b4a3585a2f2769020fd97",
       "version_major": 2,
       "version_minor": 0
      },
      "text/plain": [
       "VBox()"
      ]
     },
     "metadata": {},
     "output_type": "display_data"
    },
    {
     "data": {
      "application/vnd.jupyter.widget-view+json": {
       "model_id": "",
       "version_major": 2,
       "version_minor": 0
      },
      "text/plain": [
       "FloatProgress(value=0.0, bar_style='info', description='Progress:', layout=Layout(height='25px', width='50%'),…"
      ]
     },
     "metadata": {},
     "output_type": "display_data"
    }
   ],
   "source": [
    "data_origin = df_trips.select(F.explode(F.col(\"dict_from_string\")['origin']).alias(\"origin\"))\n",
    "data_origin = data_origin.withColumn(\"id\", F.monotonically_increasing_id())\n",
    "data_origin = data_origin.select([\"id\", \"origin\"])"
   ]
  },
  {
   "cell_type": "code",
   "execution_count": 961,
   "id": "romantic-coalition",
   "metadata": {},
   "outputs": [
    {
     "data": {
      "application/vnd.jupyter.widget-view+json": {
       "model_id": "dfe4377dde6e4ce284e49ea5032661d8",
       "version_major": 2,
       "version_minor": 0
      },
      "text/plain": [
       "VBox()"
      ]
     },
     "metadata": {},
     "output_type": "display_data"
    },
    {
     "data": {
      "application/vnd.jupyter.widget-view+json": {
       "model_id": "",
       "version_major": 2,
       "version_minor": 0
      },
      "text/plain": [
       "FloatProgress(value=0.0, bar_style='info', description='Progress:', layout=Layout(height='25px', width='50%'),…"
      ]
     },
     "metadata": {},
     "output_type": "display_data"
    },
    {
     "name": "stdout",
     "output_type": "stream",
     "text": [
      "+---+------+\n",
      "|id |origin|\n",
      "+---+------+\n",
      "|0  |B     |\n",
      "|1  |BV    |\n",
      "|2  |TM    |\n",
      "|3  |CJ    |\n",
      "+---+------+"
     ]
    }
   ],
   "source": [
    "data_origin.show(truncate=False)"
   ]
  },
  {
   "cell_type": "code",
   "execution_count": 962,
   "id": "crucial-typing",
   "metadata": {},
   "outputs": [
    {
     "data": {
      "application/vnd.jupyter.widget-view+json": {
       "model_id": "b25e5bb564e544a5a3da8624a1fa158a",
       "version_major": 2,
       "version_minor": 0
      },
      "text/plain": [
       "VBox()"
      ]
     },
     "metadata": {},
     "output_type": "display_data"
    },
    {
     "data": {
      "application/vnd.jupyter.widget-view+json": {
       "model_id": "",
       "version_major": 2,
       "version_minor": 0
      },
      "text/plain": [
       "FloatProgress(value=0.0, bar_style='info', description='Progress:', layout=Layout(height='25px', width='50%'),…"
      ]
     },
     "metadata": {},
     "output_type": "display_data"
    }
   ],
   "source": [
    "data_dest = df_trips.select(F.explode(F.col(\"dict_from_string\")['destination']).alias(\"destination\"))\n",
    "data_dest = data_dest.withColumn(\"id_dest\", F.monotonically_increasing_id())"
   ]
  },
  {
   "cell_type": "code",
   "execution_count": 963,
   "id": "lasting-keeping",
   "metadata": {},
   "outputs": [
    {
     "data": {
      "application/vnd.jupyter.widget-view+json": {
       "model_id": "9cc8cf607b394fb5ab8599c2abd7d7ec",
       "version_major": 2,
       "version_minor": 0
      },
      "text/plain": [
       "VBox()"
      ]
     },
     "metadata": {},
     "output_type": "display_data"
    },
    {
     "data": {
      "application/vnd.jupyter.widget-view+json": {
       "model_id": "",
       "version_major": 2,
       "version_minor": 0
      },
      "text/plain": [
       "FloatProgress(value=0.0, bar_style='info', description='Progress:', layout=Layout(height='25px', width='50%'),…"
      ]
     },
     "metadata": {},
     "output_type": "display_data"
    },
    {
     "name": "stdout",
     "output_type": "stream",
     "text": [
      "+-----------+-------+\n",
      "|destination|id_dest|\n",
      "+-----------+-------+\n",
      "|         MM|      0|\n",
      "|         IS|      1|\n",
      "|         CT|      2|\n",
      "|         BC|      3|\n",
      "+-----------+-------+"
     ]
    }
   ],
   "source": [
    "data_dest.show()"
   ]
  },
  {
   "cell_type": "markdown",
   "id": "involved-assault",
   "metadata": {},
   "source": [
    "### Intermediary Join origin with destination"
   ]
  },
  {
   "cell_type": "code",
   "execution_count": 964,
   "id": "respiratory-monthly",
   "metadata": {},
   "outputs": [
    {
     "data": {
      "application/vnd.jupyter.widget-view+json": {
       "model_id": "c7bedc9c96104e9f83f28bef251203a1",
       "version_major": 2,
       "version_minor": 0
      },
      "text/plain": [
       "VBox()"
      ]
     },
     "metadata": {},
     "output_type": "display_data"
    },
    {
     "data": {
      "application/vnd.jupyter.widget-view+json": {
       "model_id": "",
       "version_major": 2,
       "version_minor": 0
      },
      "text/plain": [
       "FloatProgress(value=0.0, bar_style='info', description='Progress:', layout=Layout(height='25px', width='50%'),…"
      ]
     },
     "metadata": {},
     "output_type": "display_data"
    }
   ],
   "source": [
    "inner_join = data_origin.join(data_dest,data_origin.id == data_dest.id_dest, how='inner')\n",
    "trips_table = inner_join.select(\"id\",  \"origin\", \"destination\")"
   ]
  },
  {
   "cell_type": "code",
   "execution_count": 965,
   "id": "impressive-brighton",
   "metadata": {},
   "outputs": [
    {
     "data": {
      "application/vnd.jupyter.widget-view+json": {
       "model_id": "1f7492951d45462da1780570ca4f2324",
       "version_major": 2,
       "version_minor": 0
      },
      "text/plain": [
       "VBox()"
      ]
     },
     "metadata": {},
     "output_type": "display_data"
    },
    {
     "data": {
      "application/vnd.jupyter.widget-view+json": {
       "model_id": "",
       "version_major": 2,
       "version_minor": 0
      },
      "text/plain": [
       "FloatProgress(value=0.0, bar_style='info', description='Progress:', layout=Layout(height='25px', width='50%'),…"
      ]
     },
     "metadata": {},
     "output_type": "display_data"
    },
    {
     "name": "stdout",
     "output_type": "stream",
     "text": [
      "+---+------+-----------+\n",
      "| id|origin|destination|\n",
      "+---+------+-----------+\n",
      "|  0|     B|         MM|\n",
      "|  1|    BV|         IS|\n",
      "|  2|    TM|         CT|\n",
      "|  3|    CJ|         BC|\n",
      "+---+------+-----------+"
     ]
    }
   ],
   "source": [
    "trips_table.show()"
   ]
  },
  {
   "cell_type": "markdown",
   "id": "configured-bikini",
   "metadata": {},
   "source": [
    "### Parse the Data in Multidimensional Array Format and organize it in a tabular format"
   ]
  },
  {
   "cell_type": "code",
   "execution_count": 966,
   "id": "acting-anger",
   "metadata": {},
   "outputs": [
    {
     "data": {
      "application/vnd.jupyter.widget-view+json": {
       "model_id": "88b2e6a752e14ee486588aee8e736a82",
       "version_major": 2,
       "version_minor": 0
      },
      "text/plain": [
       "VBox()"
      ]
     },
     "metadata": {},
     "output_type": "display_data"
    },
    {
     "data": {
      "application/vnd.jupyter.widget-view+json": {
       "model_id": "",
       "version_major": 2,
       "version_minor": 0
      },
      "text/plain": [
       "FloatProgress(value=0.0, bar_style='info', description='Progress:', layout=Layout(height='25px', width='50%'),…"
      ]
     },
     "metadata": {},
     "output_type": "display_data"
    }
   ],
   "source": [
    "def convert_to_map(column):\n",
    "    map_return = \"\"\n",
    "    start_column_index = column.find(\"[[\")\n",
    "    end_column_index = column.find(\"]]\")\n",
    "    slice_column_string = column[start_column_index : end_column_index]\n",
    "    slice_column_string = slice_column_string.replace(\"[\", \"\")\n",
    "    slice_column_string = slice_column_string.replace(\"]\", \"\")\n",
    "    arr_column_strings = slice_column_string.split(',')\n",
    "    #add variable to identify the trip\n",
    "    trip_index = 0\n",
    "    trip_array = []\n",
    "    trips_dict = {}\n",
    "    counter = 1\n",
    "    for index, item in enumerate(arr_column_strings):\n",
    "        #cleaning dates by spaces and quotes\n",
    "        item = item.strip()\n",
    "        item = item.replace('\"', '')\n",
    "        trip_array.append(item)\n",
    "        if counter%3 == 0:\n",
    "            trips_dict[trip_index] = trip_array\n",
    "            trip_index = trip_index + 1\n",
    "            trip_array = []\n",
    "        counter = counter + 1\n",
    "    return trips_dict\n",
    "            \n",
    "    \n",
    "    \n",
    "string_to_map_udf = F.udf(convert_to_map, T.MapType(T.IntegerType(), T.ArrayType(T.StringType())))"
   ]
  },
  {
   "cell_type": "code",
   "execution_count": 967,
   "id": "local-intervention",
   "metadata": {},
   "outputs": [
    {
     "data": {
      "application/vnd.jupyter.widget-view+json": {
       "model_id": "84aac3be050d40a493c5b17ce24a13d7",
       "version_major": 2,
       "version_minor": 0
      },
      "text/plain": [
       "VBox()"
      ]
     },
     "metadata": {},
     "output_type": "display_data"
    },
    {
     "data": {
      "application/vnd.jupyter.widget-view+json": {
       "model_id": "",
       "version_major": 2,
       "version_minor": 0
      },
      "text/plain": [
       "FloatProgress(value=0.0, bar_style='info', description='Progress:', layout=Layout(height='25px', width='50%'),…"
      ]
     },
     "metadata": {},
     "output_type": "display_data"
    }
   ],
   "source": [
    "df_triptimes = df_trips.select('value')\n",
    "# Filter only for triptimes\n",
    "df_triptimes = df_triptimes.filter(F.lower(df_triptimes.value).contains('triptimes'))"
   ]
  },
  {
   "cell_type": "code",
   "execution_count": 968,
   "id": "about-tuesday",
   "metadata": {},
   "outputs": [
    {
     "data": {
      "application/vnd.jupyter.widget-view+json": {
       "model_id": "ba5305730b0040049365f1c008629695",
       "version_major": 2,
       "version_minor": 0
      },
      "text/plain": [
       "VBox()"
      ]
     },
     "metadata": {},
     "output_type": "display_data"
    },
    {
     "data": {
      "application/vnd.jupyter.widget-view+json": {
       "model_id": "",
       "version_major": 2,
       "version_minor": 0
      },
      "text/plain": [
       "FloatProgress(value=0.0, bar_style='info', description='Progress:', layout=Layout(height='25px', width='50%'),…"
      ]
     },
     "metadata": {},
     "output_type": "display_data"
    }
   ],
   "source": [
    "df_triptimes = df_triptimes.withColumn(\"map_column\", string_to_map_udf(F.col(\"value\")))"
   ]
  },
  {
   "cell_type": "code",
   "execution_count": 969,
   "id": "dominant-front",
   "metadata": {},
   "outputs": [
    {
     "data": {
      "application/vnd.jupyter.widget-view+json": {
       "model_id": "3e27f5dc018f4b25b1713a849163192b",
       "version_major": 2,
       "version_minor": 0
      },
      "text/plain": [
       "VBox()"
      ]
     },
     "metadata": {},
     "output_type": "display_data"
    },
    {
     "data": {
      "application/vnd.jupyter.widget-view+json": {
       "model_id": "",
       "version_major": 2,
       "version_minor": 0
      },
      "text/plain": [
       "FloatProgress(value=0.0, bar_style='info', description='Progress:', layout=Layout(height='25px', width='50%'),…"
      ]
     },
     "metadata": {},
     "output_type": "display_data"
    }
   ],
   "source": [
    "exploded_triptimes = df_triptimes.select(F.explode(F.col(\"map_column\")))\n",
    "exploded_triptimes = exploded_triptimes.select(F.col(\"key\"), F.explode(F.col(\"value\")))\n",
    "exploded_triptimes = exploded_triptimes.withColumn(\"id\", F.monotonically_increasing_id())"
   ]
  },
  {
   "cell_type": "markdown",
   "id": "medieval-architecture",
   "metadata": {},
   "source": [
    "## TripTimes Dimension table"
   ]
  },
  {
   "cell_type": "code",
   "execution_count": 970,
   "id": "thorough-contact",
   "metadata": {},
   "outputs": [
    {
     "data": {
      "application/vnd.jupyter.widget-view+json": {
       "model_id": "b7aee7fc9bae42689881ab70ea32aff6",
       "version_major": 2,
       "version_minor": 0
      },
      "text/plain": [
       "VBox()"
      ]
     },
     "metadata": {},
     "output_type": "display_data"
    },
    {
     "data": {
      "application/vnd.jupyter.widget-view+json": {
       "model_id": "",
       "version_major": 2,
       "version_minor": 0
      },
      "text/plain": [
       "FloatProgress(value=0.0, bar_style='info', description='Progress:', layout=Layout(height='25px', width='50%'),…"
      ]
     },
     "metadata": {},
     "output_type": "display_data"
    },
    {
     "name": "stdout",
     "output_type": "stream",
     "text": [
      "+---+-------------------+-------+\n",
      "| id|          triptimes|tripkey|\n",
      "+---+-------------------+-------+\n",
      "|  0|2020-03-01 10:10:00|      0|\n",
      "|  1|2020-03-01 12:20:10|      0|\n",
      "|  2|2020-03-01 15:10:00|      0|\n",
      "|  3|2020-03-01 10:10:00|      1|\n",
      "|  4|2020-03-01 12:20:10|      1|\n",
      "|  5|2020-03-01 15:10:00|      1|\n",
      "|  6|2020-04-01 10:10:00|      2|\n",
      "|  7|2020-04-01 12:20:10|      2|\n",
      "|  8|2020-04-01 15:10:00|      2|\n",
      "|  9|2020-05-01 10:10:00|      3|\n",
      "| 10|2020-05-01 12:20:10|      3|\n",
      "| 11|2020-05-01 15:10:00|      3|\n",
      "+---+-------------------+-------+"
     ]
    }
   ],
   "source": [
    "triptimes_table = exploded_triptimes.select(\"id\",  F.col(\"col\").alias(\"triptimes\"), F.col(\"key\").alias(\"tripkey\"))\n",
    "triptimes_table.show()"
   ]
  },
  {
   "cell_type": "code",
   "execution_count": 971,
   "id": "flying-encounter",
   "metadata": {},
   "outputs": [
    {
     "data": {
      "application/vnd.jupyter.widget-view+json": {
       "model_id": "70f2171a4de64a00af95e7566bce5a64",
       "version_major": 2,
       "version_minor": 0
      },
      "text/plain": [
       "VBox()"
      ]
     },
     "metadata": {},
     "output_type": "display_data"
    },
    {
     "data": {
      "application/vnd.jupyter.widget-view+json": {
       "model_id": "",
       "version_major": 2,
       "version_minor": 0
      },
      "text/plain": [
       "FloatProgress(value=0.0, bar_style='info', description='Progress:', layout=Layout(height='25px', width='50%'),…"
      ]
     },
     "metadata": {},
     "output_type": "display_data"
    }
   ],
   "source": [
    "df_internal_bus_station_ids = df_trips.select('value')\n",
    "\n",
    "df_internal_bus_station_ids = df_internal_bus_station_ids.filter(F.lower(df_internal_bus_station_ids.value).contains('internal_bus_station_ids'))"
   ]
  },
  {
   "cell_type": "code",
   "execution_count": 972,
   "id": "regular-advancement",
   "metadata": {},
   "outputs": [
    {
     "data": {
      "application/vnd.jupyter.widget-view+json": {
       "model_id": "33107e325b644774894c30d1861e3223",
       "version_major": 2,
       "version_minor": 0
      },
      "text/plain": [
       "VBox()"
      ]
     },
     "metadata": {},
     "output_type": "display_data"
    },
    {
     "data": {
      "application/vnd.jupyter.widget-view+json": {
       "model_id": "",
       "version_major": 2,
       "version_minor": 0
      },
      "text/plain": [
       "FloatProgress(value=0.0, bar_style='info', description='Progress:', layout=Layout(height='25px', width='50%'),…"
      ]
     },
     "metadata": {},
     "output_type": "display_data"
    }
   ],
   "source": [
    "df_internal_bus_station_ids = df_internal_bus_station_ids.withColumn(\"map_column\", string_to_map_udf(F.col(\"value\")))"
   ]
  },
  {
   "cell_type": "code",
   "execution_count": 973,
   "id": "surprised-message",
   "metadata": {},
   "outputs": [
    {
     "data": {
      "application/vnd.jupyter.widget-view+json": {
       "model_id": "f4582fb3b6cd48019970e7cfe1292270",
       "version_major": 2,
       "version_minor": 0
      },
      "text/plain": [
       "VBox()"
      ]
     },
     "metadata": {},
     "output_type": "display_data"
    },
    {
     "data": {
      "application/vnd.jupyter.widget-view+json": {
       "model_id": "",
       "version_major": 2,
       "version_minor": 0
      },
      "text/plain": [
       "FloatProgress(value=0.0, bar_style='info', description='Progress:', layout=Layout(height='25px', width='50%'),…"
      ]
     },
     "metadata": {},
     "output_type": "display_data"
    },
    {
     "name": "stdout",
     "output_type": "stream",
     "text": [
      "+--------------------------------------------------------------+----------------------------------------------------------------+\n",
      "|value                                                         |map_column                                                      |\n",
      "+--------------------------------------------------------------+----------------------------------------------------------------+\n",
      "|\"INTERNAL_BUS_STATION_IDS\": [[0,2,4],[1,8,5],[7,2,6],[3,9,8]],|[0 -> [0, 2, 4], 1 -> [1, 8, 5], 2 -> [7, 2, 6], 3 -> [3, 9, 8]]|\n",
      "+--------------------------------------------------------------+----------------------------------------------------------------+"
     ]
    }
   ],
   "source": [
    "df_internal_bus_station_ids.show(truncate=False)"
   ]
  },
  {
   "cell_type": "code",
   "execution_count": 974,
   "id": "institutional-wallet",
   "metadata": {},
   "outputs": [
    {
     "data": {
      "application/vnd.jupyter.widget-view+json": {
       "model_id": "1e95e6d2384d45b6bcb2b85acb30d48e",
       "version_major": 2,
       "version_minor": 0
      },
      "text/plain": [
       "VBox()"
      ]
     },
     "metadata": {},
     "output_type": "display_data"
    },
    {
     "data": {
      "application/vnd.jupyter.widget-view+json": {
       "model_id": "",
       "version_major": 2,
       "version_minor": 0
      },
      "text/plain": [
       "FloatProgress(value=0.0, bar_style='info', description='Progress:', layout=Layout(height='25px', width='50%'),…"
      ]
     },
     "metadata": {},
     "output_type": "display_data"
    },
    {
     "name": "stdout",
     "output_type": "stream",
     "text": [
      "+---+---+---+\n",
      "|key|col|id |\n",
      "+---+---+---+\n",
      "|0  |0  |0  |\n",
      "|0  |2  |1  |\n",
      "|0  |4  |2  |\n",
      "|1  |1  |3  |\n",
      "|1  |8  |4  |\n",
      "|1  |5  |5  |\n",
      "|2  |7  |6  |\n",
      "|2  |2  |7  |\n",
      "|2  |6  |8  |\n",
      "|3  |3  |9  |\n",
      "|3  |9  |10 |\n",
      "|3  |8  |11 |\n",
      "+---+---+---+"
     ]
    }
   ],
   "source": [
    "exploded_internal_bus_station_ids = df_internal_bus_station_ids.select(F.explode(F.col(\"map_column\")))\n",
    "exploded_internal_bus_station_ids = exploded_internal_bus_station_ids.select(F.col(\"key\"), F.explode(F.col(\"value\")))\n",
    "exploded_internal_bus_station_ids = exploded_internal_bus_station_ids.withColumn(\"id\", F.monotonically_increasing_id())\n",
    "exploded_internal_bus_station_ids.show(truncate=False)"
   ]
  },
  {
   "cell_type": "markdown",
   "id": "affiliated-better",
   "metadata": {},
   "source": [
    "## Bus Stations Dimension table"
   ]
  },
  {
   "cell_type": "code",
   "execution_count": 975,
   "id": "historical-waters",
   "metadata": {},
   "outputs": [
    {
     "data": {
      "application/vnd.jupyter.widget-view+json": {
       "model_id": "f97828830e3e4279a43ffc89e72fe639",
       "version_major": 2,
       "version_minor": 0
      },
      "text/plain": [
       "VBox()"
      ]
     },
     "metadata": {},
     "output_type": "display_data"
    },
    {
     "data": {
      "application/vnd.jupyter.widget-view+json": {
       "model_id": "",
       "version_major": 2,
       "version_minor": 0
      },
      "text/plain": [
       "FloatProgress(value=0.0, bar_style='info', description='Progress:', layout=Layout(height='25px', width='50%'),…"
      ]
     },
     "metadata": {},
     "output_type": "display_data"
    },
    {
     "name": "stdout",
     "output_type": "stream",
     "text": [
      "+---+-------+------------+------------------+\n",
      "| id|tripkey|bus_stations|public_bus_station|\n",
      "+---+-------+------------+------------------+\n",
      "|  0|      0|           0|         BAutogara|\n",
      "|  2|      0|           4|        MMAutogara|\n",
      "|  1|      0|           2|        SBAutogara|\n",
      "|  5|      1|           5|        ISAutogara|\n",
      "|  3|      1|           1|        BVAutogara|\n",
      "|  4|      1|           8|        BCAutogara|\n",
      "|  6|      2|           7|        TMAutogara|\n",
      "|  8|      2|           6|        CTAutogara|\n",
      "|  7|      2|           2|        SBAutogara|\n",
      "|  9|      3|           3|        CJAutogara|\n",
      "| 11|      3|           8|        BCAutogara|\n",
      "| 10|      3|           9|        MSAutogara|\n",
      "+---+-------+------------+------------------+"
     ]
    }
   ],
   "source": [
    "internal_bus_station_ids = exploded_internal_bus_station_ids.select(\"id\",  F.col(\"col\").alias(\"bus_stations\"), F.col(\"key\").alias(\"tripkey\"))\n",
    "internal_bus_station_ids = internal_bus_station_ids.join(station_staging_table, internal_bus_station_ids.bus_stations==station_staging_table.internal_bus_station_id, how=\"inner\")\n",
    "internal_bus_station_ids = internal_bus_station_ids.select(\"id\", \"tripkey\", \"bus_stations\", \"public_bus_station\").orderBy(\"tripkey\")\n",
    "internal_bus_station_ids.show()"
   ]
  },
  {
   "cell_type": "markdown",
   "id": "genuine-bottle",
   "metadata": {},
   "source": [
    "## Transform triptimes column from staging triptimes_table in time format from String and add a new column min"
   ]
  },
  {
   "cell_type": "code",
   "execution_count": 976,
   "id": "thrown-hypothesis",
   "metadata": {},
   "outputs": [
    {
     "data": {
      "application/vnd.jupyter.widget-view+json": {
       "model_id": "c9286d6bebc3463b864c3b255e56776e",
       "version_major": 2,
       "version_minor": 0
      },
      "text/plain": [
       "VBox()"
      ]
     },
     "metadata": {},
     "output_type": "display_data"
    },
    {
     "data": {
      "application/vnd.jupyter.widget-view+json": {
       "model_id": "",
       "version_major": 2,
       "version_minor": 0
      },
      "text/plain": [
       "FloatProgress(value=0.0, bar_style='info', description='Progress:', layout=Layout(height='25px', width='50%'),…"
      ]
     },
     "metadata": {},
     "output_type": "display_data"
    },
    {
     "name": "stdout",
     "output_type": "stream",
     "text": [
      "+---+-------+-------------------+\n",
      "| id|tripkey|                 dt|\n",
      "+---+-------+-------------------+\n",
      "|  3|      1|2020-03-01 10:10:00|\n",
      "|  0|      0|2020-03-01 10:10:00|\n",
      "|  1|      0|2020-03-01 12:20:10|\n",
      "|  4|      1|2020-03-01 12:20:10|\n",
      "|  2|      0|2020-03-01 15:10:00|\n",
      "|  5|      1|2020-03-01 15:10:00|\n",
      "|  6|      2|2020-04-01 10:10:00|\n",
      "|  7|      2|2020-04-01 12:20:10|\n",
      "|  8|      2|2020-04-01 15:10:00|\n",
      "|  9|      3|2020-05-01 10:10:00|\n",
      "| 10|      3|2020-05-01 12:20:10|\n",
      "| 11|      3|2020-05-01 15:10:00|\n",
      "+---+-------+-------------------+"
     ]
    }
   ],
   "source": [
    "triptimes_table = triptimes_table.select('id', 'tripkey', F.to_timestamp(triptimes_table.triptimes, 'yyyy-MM-dd HH:mm:ss').alias('dt')).orderBy(\"dt\")\n",
    "triptimes_table.show()"
   ]
  },
  {
   "cell_type": "markdown",
   "id": "persistent-refund",
   "metadata": {},
   "source": [
    "# Calculate journey time duration"
   ]
  },
  {
   "cell_type": "code",
   "execution_count": 977,
   "id": "restricted-craft",
   "metadata": {},
   "outputs": [
    {
     "data": {
      "application/vnd.jupyter.widget-view+json": {
       "model_id": "79fd98e74b9f4edea8b6718e2430d794",
       "version_major": 2,
       "version_minor": 0
      },
      "text/plain": [
       "VBox()"
      ]
     },
     "metadata": {},
     "output_type": "display_data"
    },
    {
     "data": {
      "application/vnd.jupyter.widget-view+json": {
       "model_id": "",
       "version_major": 2,
       "version_minor": 0
      },
      "text/plain": [
       "FloatProgress(value=0.0, bar_style='info', description='Progress:', layout=Layout(height='25px', width='50%'),…"
      ]
     },
     "metadata": {},
     "output_type": "display_data"
    }
   ],
   "source": [
    "def calculate_journey_duration(column):\n",
    "    dif_result =  column[len(column) - 1] - column[0]\n",
    "    journey_time_minutes = int(dif_result.seconds / 60)\n",
    "    return journey_time_minutes  \n",
    "    \n",
    "calculate_journey_udf = F.udf(calculate_journey_duration, T.IntegerType())"
   ]
  },
  {
   "cell_type": "code",
   "execution_count": 978,
   "id": "characteristic-stick",
   "metadata": {},
   "outputs": [
    {
     "data": {
      "application/vnd.jupyter.widget-view+json": {
       "model_id": "4c89ee197f6a4933bd288a33ef4b71b0",
       "version_major": 2,
       "version_minor": 0
      },
      "text/plain": [
       "VBox()"
      ]
     },
     "metadata": {},
     "output_type": "display_data"
    },
    {
     "data": {
      "application/vnd.jupyter.widget-view+json": {
       "model_id": "",
       "version_major": 2,
       "version_minor": 0
      },
      "text/plain": [
       "FloatProgress(value=0.0, bar_style='info', description='Progress:', layout=Layout(height='25px', width='50%'),…"
      ]
     },
     "metadata": {},
     "output_type": "display_data"
    },
    {
     "name": "stdout",
     "output_type": "stream",
     "text": [
      "+---+-------+-------------------+\n",
      "| id|tripkey|                 dt|\n",
      "+---+-------+-------------------+\n",
      "|  3|      1|2020-03-01 10:10:00|\n",
      "|  0|      0|2020-03-01 10:10:00|\n",
      "|  1|      0|2020-03-01 12:20:10|\n",
      "|  4|      1|2020-03-01 12:20:10|\n",
      "|  2|      0|2020-03-01 15:10:00|\n",
      "|  5|      1|2020-03-01 15:10:00|\n",
      "|  6|      2|2020-04-01 10:10:00|\n",
      "|  7|      2|2020-04-01 12:20:10|\n",
      "|  8|      2|2020-04-01 15:10:00|\n",
      "|  9|      3|2020-05-01 10:10:00|\n",
      "| 10|      3|2020-05-01 12:20:10|\n",
      "| 11|      3|2020-05-01 15:10:00|\n",
      "+---+-------+-------------------+"
     ]
    }
   ],
   "source": [
    "triptimes_table.show()"
   ]
  },
  {
   "cell_type": "code",
   "execution_count": 979,
   "id": "extensive-toyota",
   "metadata": {},
   "outputs": [
    {
     "data": {
      "application/vnd.jupyter.widget-view+json": {
       "model_id": "f9c9fad216304c1b8c054dd65d8c2bcf",
       "version_major": 2,
       "version_minor": 0
      },
      "text/plain": [
       "VBox()"
      ]
     },
     "metadata": {},
     "output_type": "display_data"
    },
    {
     "data": {
      "application/vnd.jupyter.widget-view+json": {
       "model_id": "",
       "version_major": 2,
       "version_minor": 0
      },
      "text/plain": [
       "FloatProgress(value=0.0, bar_style='info', description='Progress:', layout=Layout(height='25px', width='50%'),…"
      ]
     },
     "metadata": {},
     "output_type": "display_data"
    }
   ],
   "source": [
    "def sorter(l):\n",
    "  res = sorted(l, key=operator.itemgetter(0))\n",
    "  return [item[1] for item in res]\n",
    "\n",
    "sort_udf = F.udf(sorter, T.ArrayType(T.DateType()))"
   ]
  },
  {
   "cell_type": "code",
   "execution_count": 980,
   "id": "dimensional-knock",
   "metadata": {},
   "outputs": [
    {
     "data": {
      "application/vnd.jupyter.widget-view+json": {
       "model_id": "cfd29c1f566e41eba56bcda9ab9e6196",
       "version_major": 2,
       "version_minor": 0
      },
      "text/plain": [
       "VBox()"
      ]
     },
     "metadata": {},
     "output_type": "display_data"
    },
    {
     "data": {
      "application/vnd.jupyter.widget-view+json": {
       "model_id": "",
       "version_major": 2,
       "version_minor": 0
      },
      "text/plain": [
       "FloatProgress(value=0.0, bar_style='info', description='Progress:', layout=Layout(height='25px', width='50%'),…"
      ]
     },
     "metadata": {},
     "output_type": "display_data"
    },
    {
     "name": "stdout",
     "output_type": "stream",
     "text": [
      "+-------+------------------------------------+---+\n",
      "|tripkey|triptimes                           |min|\n",
      "+-------+------------------------------------+---+\n",
      "|0      |[2020-03-01, 2020-03-01, 2020-03-01]|300|\n",
      "|1      |[2020-03-01, 2020-03-01, 2020-03-01]|300|\n",
      "|2      |[2020-04-01, 2020-04-01, 2020-04-01]|300|\n",
      "|3      |[2020-05-01, 2020-05-01, 2020-05-01]|300|\n",
      "+-------+------------------------------------+---+"
     ]
    }
   ],
   "source": [
    "# w = Window.partitionBy('tripkey').orderBy('id')\n",
    "triptimes_table_agg = triptimes_table.groupBy('tripkey').agg(F.collect_list(F.struct(\"id\", \"dt\")).alias(\"triptimes_unordered\")).orderBy(\"tripkey\")\n",
    "triptimes_table_agg = triptimes_table_agg.withColumn(\"triptimes\", sort_udf(F.col(\"triptimes_unordered\"))).drop(\"triptimes_unordered\")\n",
    "triptimes_table_agg = triptimes_table_agg.withColumn(\"min\", calculate_journey_udf(F.col('triptimes')).cast(\"integer\"))\n",
    "triptimes_table_agg.show(truncate=False)"
   ]
  },
  {
   "cell_type": "markdown",
   "id": "improving-haven",
   "metadata": {},
   "source": [
    "# Intermediary join origin with destination and duration"
   ]
  },
  {
   "cell_type": "code",
   "execution_count": 981,
   "id": "simplified-logging",
   "metadata": {},
   "outputs": [
    {
     "data": {
      "application/vnd.jupyter.widget-view+json": {
       "model_id": "4adee332fa5b409392a65172158fed62",
       "version_major": 2,
       "version_minor": 0
      },
      "text/plain": [
       "VBox()"
      ]
     },
     "metadata": {},
     "output_type": "display_data"
    },
    {
     "data": {
      "application/vnd.jupyter.widget-view+json": {
       "model_id": "",
       "version_major": 2,
       "version_minor": 0
      },
      "text/plain": [
       "FloatProgress(value=0.0, bar_style='info', description='Progress:', layout=Layout(height='25px', width='50%'),…"
      ]
     },
     "metadata": {},
     "output_type": "display_data"
    }
   ],
   "source": [
    "trips_table = trips_table.join(triptimes_table_agg, trips_table.id==triptimes_table_agg.tripkey, how=\"inner\")"
   ]
  },
  {
   "cell_type": "code",
   "execution_count": 982,
   "id": "vocational-slovenia",
   "metadata": {},
   "outputs": [
    {
     "data": {
      "application/vnd.jupyter.widget-view+json": {
       "model_id": "eb629e6acfd54962ae4535448bfd6a70",
       "version_major": 2,
       "version_minor": 0
      },
      "text/plain": [
       "VBox()"
      ]
     },
     "metadata": {},
     "output_type": "display_data"
    },
    {
     "data": {
      "application/vnd.jupyter.widget-view+json": {
       "model_id": "",
       "version_major": 2,
       "version_minor": 0
      },
      "text/plain": [
       "FloatProgress(value=0.0, bar_style='info', description='Progress:', layout=Layout(height='25px', width='50%'),…"
      ]
     },
     "metadata": {},
     "output_type": "display_data"
    },
    {
     "name": "stdout",
     "output_type": "stream",
     "text": [
      "+---+------+-----------+---+\n",
      "| id|origin|destination|min|\n",
      "+---+------+-----------+---+\n",
      "|  0|     B|         MM|300|\n",
      "|  1|    BV|         IS|300|\n",
      "|  2|    TM|         CT|300|\n",
      "|  3|    CJ|         BC|300|\n",
      "+---+------+-----------+---+"
     ]
    }
   ],
   "source": [
    "trips_table = trips_table.select(\"id\",  \"origin\", \"destination\", \"min\")\n",
    "trips_table.show()"
   ]
  },
  {
   "cell_type": "markdown",
   "id": "sixth-longitude",
   "metadata": {},
   "source": [
    "## UDF to accomodate collect_list aggregated columns in the right order "
   ]
  },
  {
   "cell_type": "code",
   "execution_count": 983,
   "id": "found-edgar",
   "metadata": {},
   "outputs": [
    {
     "data": {
      "application/vnd.jupyter.widget-view+json": {
       "model_id": "e045cb389c39474290d7ac4cd02937b0",
       "version_major": 2,
       "version_minor": 0
      },
      "text/plain": [
       "VBox()"
      ]
     },
     "metadata": {},
     "output_type": "display_data"
    },
    {
     "data": {
      "application/vnd.jupyter.widget-view+json": {
       "model_id": "",
       "version_major": 2,
       "version_minor": 0
      },
      "text/plain": [
       "FloatProgress(value=0.0, bar_style='info', description='Progress:', layout=Layout(height='25px', width='50%'),…"
      ]
     },
     "metadata": {},
     "output_type": "display_data"
    }
   ],
   "source": [
    "def sorter(l):\n",
    "  res = sorted(l, key=operator.itemgetter(0))\n",
    "  return [item[1] for item in res]\n",
    "\n",
    "sort_udf = F.udf(sorter)"
   ]
  },
  {
   "cell_type": "markdown",
   "id": "complex-value",
   "metadata": {},
   "source": [
    "# Trips Table Initial"
   ]
  },
  {
   "cell_type": "code",
   "execution_count": 984,
   "id": "isolated-diameter",
   "metadata": {},
   "outputs": [
    {
     "data": {
      "application/vnd.jupyter.widget-view+json": {
       "model_id": "6d87d2b8bd2847d296c9bb4f0c9e0227",
       "version_major": 2,
       "version_minor": 0
      },
      "text/plain": [
       "VBox()"
      ]
     },
     "metadata": {},
     "output_type": "display_data"
    },
    {
     "data": {
      "application/vnd.jupyter.widget-view+json": {
       "model_id": "",
       "version_major": 2,
       "version_minor": 0
      },
      "text/plain": [
       "FloatProgress(value=0.0, bar_style='info', description='Progress:', layout=Layout(height='25px', width='50%'),…"
      ]
     },
     "metadata": {},
     "output_type": "display_data"
    },
    {
     "name": "stdout",
     "output_type": "stream",
     "text": [
      "+---+------+-----------+------------+------------------------------------+\n",
      "|row|origin|destination|bus_stations|triptimes                           |\n",
      "+---+------+-----------+------------+------------------------------------+\n",
      "|1  |B     |MM         |[0, 2, 4]   |[2020-03-01, 2020-03-01, 2020-03-01]|\n",
      "|2  |BV    |IS         |[1, 8, 5]   |[2020-03-01, 2020-03-01, 2020-03-01]|\n",
      "|3  |TM    |CT         |[7, 2, 6]   |[2020-04-01, 2020-04-01, 2020-04-01]|\n",
      "|4  |CJ    |BC         |[3, 9, 8]   |[2020-05-01, 2020-05-01, 2020-05-01]|\n",
      "+---+------+-----------+------------+------------------------------------+"
     ]
    }
   ],
   "source": [
    "trips_table_initial= trips_table.join(internal_bus_station_ids_agg, internal_bus_station_ids_agg.tripkey==trips_table.id, how=\"inner\").drop(\"tripkey\")\n",
    "trips_table_initial= trips_table_initial.join(triptimes_table_agg, triptimes_table_agg.tripkey==trips_table_initial.id, how=\"inner\")\n",
    "trips_table_initial = trips_table_initial.withColumn(\"default_value\",F.lit(\"ABC\")) #default value only to generate row_number\n",
    "w = Window().partitionBy('default_value').orderBy(F.lit('A'))\n",
    "trips_table_initial = trips_table_initial.withColumn(\"row\", F.row_number().over(w)).drop(\"default_value\")\n",
    "trips_table_initial = trips_table_initial.select(\"row\", \"origin\", \"destination\", \"bus_stations\", \"triptimes\")\n",
    "trips_table_initial.show(truncate=False)"
   ]
  },
  {
   "cell_type": "markdown",
   "id": "novel-tender",
   "metadata": {},
   "source": [
    "# Trips Fact Table"
   ]
  },
  {
   "cell_type": "code",
   "execution_count": 985,
   "id": "buried-proceeding",
   "metadata": {},
   "outputs": [
    {
     "data": {
      "application/vnd.jupyter.widget-view+json": {
       "model_id": "961fc1dec1cf4adeb5acf95238004c73",
       "version_major": 2,
       "version_minor": 0
      },
      "text/plain": [
       "VBox()"
      ]
     },
     "metadata": {},
     "output_type": "display_data"
    },
    {
     "data": {
      "application/vnd.jupyter.widget-view+json": {
       "model_id": "",
       "version_major": 2,
       "version_minor": 0
      },
      "text/plain": [
       "FloatProgress(value=0.0, bar_style='info', description='Progress:', layout=Layout(height='25px', width='50%'),…"
      ]
     },
     "metadata": {},
     "output_type": "display_data"
    }
   ],
   "source": [
    "internal_bus_station_ids_fact_agg = internal_bus_station_ids.groupBy('tripkey').agg(F.collect_list(F.struct(\"id\", \"public_bus_station\")).alias(\"public_bus_unordered\")).orderBy(\"tripkey\")\n",
    "internal_bus_station_ids_fact_agg = internal_bus_station_ids_fact_agg.withColumn(\"public_bus_station\", sort_udf(F.col(\"public_bus_unordered\"))).drop(\"public_bus_unordered\")\n",
    "trips_table_fact = trips_table.join(internal_bus_station_ids_fact_agg.select(\"public_bus_station\", \"tripkey\"), internal_bus_station_ids_fact_agg.tripkey==trips_table.id, how=\"inner\") \n",
    "trips_table_fact = trips_table_fact.withColumn(\"default_value\",F.lit(\"ABC\")) #default value only to generate row_number\n",
    "w = Window().partitionBy('default_value').orderBy(F.lit('A'))\n",
    "trips_table_fact = trips_table_fact.withColumn(\"row\", F.row_number().over(w)).drop(\"default_value\")\n",
    "trips_table_fact = trips_table_fact.select(\"row\", \"origin\", \"destination\", \"public_bus_station\", F.col(\"min\").alias(\"duration\"))"
   ]
  },
  {
   "cell_type": "code",
   "execution_count": 986,
   "id": "combined-square",
   "metadata": {},
   "outputs": [
    {
     "data": {
      "application/vnd.jupyter.widget-view+json": {
       "model_id": "35c7a43c72c24895aefc6810823ef465",
       "version_major": 2,
       "version_minor": 0
      },
      "text/plain": [
       "VBox()"
      ]
     },
     "metadata": {},
     "output_type": "display_data"
    },
    {
     "data": {
      "application/vnd.jupyter.widget-view+json": {
       "model_id": "",
       "version_major": 2,
       "version_minor": 0
      },
      "text/plain": [
       "FloatProgress(value=0.0, bar_style='info', description='Progress:', layout=Layout(height='25px', width='50%'),…"
      ]
     },
     "metadata": {},
     "output_type": "display_data"
    },
    {
     "name": "stdout",
     "output_type": "stream",
     "text": [
      "+---+------+-----------+------------------------------------+--------+\n",
      "|row|origin|destination|public_bus_station                  |duration|\n",
      "+---+------+-----------+------------------------------------+--------+\n",
      "|1  |B     |MM         |[BAutogara, SBAutogara, MMAutogara] |300     |\n",
      "|2  |BV    |IS         |[BVAutogara, BCAutogara, ISAutogara]|300     |\n",
      "|3  |TM    |CT         |[TMAutogara, SBAutogara, CTAutogara]|300     |\n",
      "|4  |CJ    |BC         |[CJAutogara, MSAutogara, BCAutogara]|300     |\n",
      "+---+------+-----------+------------------------------------+--------+"
     ]
    }
   ],
   "source": [
    "trips_table_fact.show(truncate=False)"
   ]
  },
  {
   "cell_type": "markdown",
   "id": "moral-likelihood",
   "metadata": {},
   "source": [
    "# Conclusions"
   ]
  },
  {
   "cell_type": "markdown",
   "id": "exterior-courage",
   "metadata": {},
   "source": [
    "1. Station Dimension Table in tabular format "
   ]
  },
  {
   "cell_type": "code",
   "execution_count": 987,
   "id": "fuzzy-subject",
   "metadata": {},
   "outputs": [
    {
     "data": {
      "application/vnd.jupyter.widget-view+json": {
       "model_id": "4b37772d404f4122abe4fc994f160320",
       "version_major": 2,
       "version_minor": 0
      },
      "text/plain": [
       "VBox()"
      ]
     },
     "metadata": {},
     "output_type": "display_data"
    },
    {
     "data": {
      "application/vnd.jupyter.widget-view+json": {
       "model_id": "",
       "version_major": 2,
       "version_minor": 0
      },
      "text/plain": [
       "FloatProgress(value=0.0, bar_style='info', description='Progress:', layout=Layout(height='25px', width='50%'),…"
      ]
     },
     "metadata": {},
     "output_type": "display_data"
    },
    {
     "name": "stdout",
     "output_type": "stream",
     "text": [
      "+---+-----------------------+------------------+\n",
      "|row|internal_bus_station_id|public_bus_station|\n",
      "+---+-----------------------+------------------+\n",
      "|  1|                      7|        TMAutogara|\n",
      "|  2|                      3|        CJAutogara|\n",
      "|  3|                      8|        BCAutogara|\n",
      "|  4|                      0|         BAutogara|\n",
      "|  5|                      5|        ISAutogara|\n",
      "|  6|                      6|        CTAutogara|\n",
      "|  7|                      9|        MSAutogara|\n",
      "|  8|                      1|        BVAutogara|\n",
      "|  9|                      4|        MMAutogara|\n",
      "| 10|                      2|        SBAutogara|\n",
      "+---+-----------------------+------------------+"
     ]
    }
   ],
   "source": [
    "station_staging_table.show()"
   ]
  },
  {
   "cell_type": "markdown",
   "id": "labeled-majority",
   "metadata": {},
   "source": [
    "2. Trips Dimension Tables Origin and Destination"
   ]
  },
  {
   "cell_type": "code",
   "execution_count": 988,
   "id": "strong-sodium",
   "metadata": {},
   "outputs": [
    {
     "data": {
      "application/vnd.jupyter.widget-view+json": {
       "model_id": "2b30e653f91a4987be88bc2d2c5b15e6",
       "version_major": 2,
       "version_minor": 0
      },
      "text/plain": [
       "VBox()"
      ]
     },
     "metadata": {},
     "output_type": "display_data"
    },
    {
     "data": {
      "application/vnd.jupyter.widget-view+json": {
       "model_id": "",
       "version_major": 2,
       "version_minor": 0
      },
      "text/plain": [
       "FloatProgress(value=0.0, bar_style='info', description='Progress:', layout=Layout(height='25px', width='50%'),…"
      ]
     },
     "metadata": {},
     "output_type": "display_data"
    },
    {
     "name": "stdout",
     "output_type": "stream",
     "text": [
      "+---+------+-----------+\n",
      "|id |origin|destination|\n",
      "+---+------+-----------+\n",
      "|0  |B     |MM         |\n",
      "|1  |BV    |IS         |\n",
      "|2  |TM    |CT         |\n",
      "|3  |CJ    |BC         |\n",
      "+---+------+-----------+"
     ]
    }
   ],
   "source": [
    "trips_table.select(\"id\",  \"origin\", \"destination\").show(truncate=False)"
   ]
  },
  {
   "cell_type": "markdown",
   "id": "valued-clarity",
   "metadata": {},
   "source": [
    "3. Trips Dimension Tables Triptimes and internal bus stations ids"
   ]
  },
  {
   "cell_type": "code",
   "execution_count": 989,
   "id": "allied-mayor",
   "metadata": {},
   "outputs": [
    {
     "data": {
      "application/vnd.jupyter.widget-view+json": {
       "model_id": "d55b2e447fc743d89da9dffc1d4fa321",
       "version_major": 2,
       "version_minor": 0
      },
      "text/plain": [
       "VBox()"
      ]
     },
     "metadata": {},
     "output_type": "display_data"
    },
    {
     "data": {
      "application/vnd.jupyter.widget-view+json": {
       "model_id": "",
       "version_major": 2,
       "version_minor": 0
      },
      "text/plain": [
       "FloatProgress(value=0.0, bar_style='info', description='Progress:', layout=Layout(height='25px', width='50%'),…"
      ]
     },
     "metadata": {},
     "output_type": "display_data"
    },
    {
     "name": "stdout",
     "output_type": "stream",
     "text": [
      "+---+-------+-------------------+\n",
      "| id|tripkey|                 dt|\n",
      "+---+-------+-------------------+\n",
      "|  3|      1|2020-03-01 10:10:00|\n",
      "|  0|      0|2020-03-01 10:10:00|\n",
      "|  1|      0|2020-03-01 12:20:10|\n",
      "|  4|      1|2020-03-01 12:20:10|\n",
      "|  2|      0|2020-03-01 15:10:00|\n",
      "|  5|      1|2020-03-01 15:10:00|\n",
      "|  6|      2|2020-04-01 10:10:00|\n",
      "|  7|      2|2020-04-01 12:20:10|\n",
      "|  8|      2|2020-04-01 15:10:00|\n",
      "|  9|      3|2020-05-01 10:10:00|\n",
      "| 10|      3|2020-05-01 12:20:10|\n",
      "| 11|      3|2020-05-01 15:10:00|\n",
      "+---+-------+-------------------+"
     ]
    }
   ],
   "source": [
    "triptimes_table.show()"
   ]
  },
  {
   "cell_type": "code",
   "execution_count": 990,
   "id": "attractive-valuation",
   "metadata": {},
   "outputs": [
    {
     "data": {
      "application/vnd.jupyter.widget-view+json": {
       "model_id": "5ac42e7e82cc435a977606305fa3dfa7",
       "version_major": 2,
       "version_minor": 0
      },
      "text/plain": [
       "VBox()"
      ]
     },
     "metadata": {},
     "output_type": "display_data"
    },
    {
     "data": {
      "application/vnd.jupyter.widget-view+json": {
       "model_id": "",
       "version_major": 2,
       "version_minor": 0
      },
      "text/plain": [
       "FloatProgress(value=0.0, bar_style='info', description='Progress:', layout=Layout(height='25px', width='50%'),…"
      ]
     },
     "metadata": {},
     "output_type": "display_data"
    },
    {
     "name": "stdout",
     "output_type": "stream",
     "text": [
      "+---+-------+------------+------------------+\n",
      "|id |tripkey|bus_stations|public_bus_station|\n",
      "+---+-------+------------+------------------+\n",
      "|0  |0      |0           |BAutogara         |\n",
      "|1  |0      |2           |SBAutogara        |\n",
      "|2  |0      |4           |MMAutogara        |\n",
      "|3  |1      |1           |BVAutogara        |\n",
      "|5  |1      |5           |ISAutogara        |\n",
      "|4  |1      |8           |BCAutogara        |\n",
      "|6  |2      |7           |TMAutogara        |\n",
      "|7  |2      |2           |SBAutogara        |\n",
      "|8  |2      |6           |CTAutogara        |\n",
      "|9  |3      |3           |CJAutogara        |\n",
      "|11 |3      |8           |BCAutogara        |\n",
      "|10 |3      |9           |MSAutogara        |\n",
      "+---+-------+------------+------------------+"
     ]
    }
   ],
   "source": [
    "internal_bus_station_ids.show(truncate=False)"
   ]
  },
  {
   "cell_type": "markdown",
   "id": "younger-brazilian",
   "metadata": {},
   "source": [
    "4. Fact Duration Table"
   ]
  },
  {
   "cell_type": "code",
   "execution_count": 991,
   "id": "located-voltage",
   "metadata": {},
   "outputs": [
    {
     "data": {
      "application/vnd.jupyter.widget-view+json": {
       "model_id": "796484b853e74183b70dcb7a9fdb7bc1",
       "version_major": 2,
       "version_minor": 0
      },
      "text/plain": [
       "VBox()"
      ]
     },
     "metadata": {},
     "output_type": "display_data"
    },
    {
     "data": {
      "application/vnd.jupyter.widget-view+json": {
       "model_id": "",
       "version_major": 2,
       "version_minor": 0
      },
      "text/plain": [
       "FloatProgress(value=0.0, bar_style='info', description='Progress:', layout=Layout(height='25px', width='50%'),…"
      ]
     },
     "metadata": {},
     "output_type": "display_data"
    },
    {
     "name": "stdout",
     "output_type": "stream",
     "text": [
      "+-------+------------------------------------+---+\n",
      "|tripkey|triptimes                           |min|\n",
      "+-------+------------------------------------+---+\n",
      "|0      |[2020-03-01, 2020-03-01, 2020-03-01]|300|\n",
      "|1      |[2020-03-01, 2020-03-01, 2020-03-01]|300|\n",
      "|2      |[2020-04-01, 2020-04-01, 2020-04-01]|300|\n",
      "|3      |[2020-05-01, 2020-05-01, 2020-05-01]|300|\n",
      "+-------+------------------------------------+---+"
     ]
    }
   ],
   "source": [
    "triptimes_table_agg.show(truncate=False)"
   ]
  },
  {
   "cell_type": "markdown",
   "id": "durable-croatia",
   "metadata": {},
   "source": [
    "5. Initial Fact Table"
   ]
  },
  {
   "cell_type": "code",
   "execution_count": 992,
   "id": "finite-invasion",
   "metadata": {},
   "outputs": [
    {
     "data": {
      "application/vnd.jupyter.widget-view+json": {
       "model_id": "e3dd523cb7cd49efaf235f3761936bc0",
       "version_major": 2,
       "version_minor": 0
      },
      "text/plain": [
       "VBox()"
      ]
     },
     "metadata": {},
     "output_type": "display_data"
    },
    {
     "data": {
      "application/vnd.jupyter.widget-view+json": {
       "model_id": "",
       "version_major": 2,
       "version_minor": 0
      },
      "text/plain": [
       "FloatProgress(value=0.0, bar_style='info', description='Progress:', layout=Layout(height='25px', width='50%'),…"
      ]
     },
     "metadata": {},
     "output_type": "display_data"
    },
    {
     "name": "stdout",
     "output_type": "stream",
     "text": [
      "+---+------+-----------+------------+------------------------------------+\n",
      "|row|origin|destination|bus_stations|triptimes                           |\n",
      "+---+------+-----------+------------+------------------------------------+\n",
      "|1  |B     |MM         |[0, 2, 4]   |[2020-03-01, 2020-03-01, 2020-03-01]|\n",
      "|2  |BV    |IS         |[1, 8, 5]   |[2020-03-01, 2020-03-01, 2020-03-01]|\n",
      "|3  |TM    |CT         |[7, 2, 6]   |[2020-04-01, 2020-04-01, 2020-04-01]|\n",
      "|4  |CJ    |BC         |[3, 9, 8]   |[2020-05-01, 2020-05-01, 2020-05-01]|\n",
      "+---+------+-----------+------------+------------------------------------+"
     ]
    }
   ],
   "source": [
    "trips_table_initial.show(truncate=False)"
   ]
  },
  {
   "cell_type": "markdown",
   "id": "efficient-cuisine",
   "metadata": {},
   "source": [
    "6. Final Fact Table"
   ]
  },
  {
   "cell_type": "code",
   "execution_count": 993,
   "id": "graduate-intelligence",
   "metadata": {},
   "outputs": [
    {
     "data": {
      "application/vnd.jupyter.widget-view+json": {
       "model_id": "61d864a68b98460f9a171b6046d91939",
       "version_major": 2,
       "version_minor": 0
      },
      "text/plain": [
       "VBox()"
      ]
     },
     "metadata": {},
     "output_type": "display_data"
    },
    {
     "data": {
      "application/vnd.jupyter.widget-view+json": {
       "model_id": "",
       "version_major": 2,
       "version_minor": 0
      },
      "text/plain": [
       "FloatProgress(value=0.0, bar_style='info', description='Progress:', layout=Layout(height='25px', width='50%'),…"
      ]
     },
     "metadata": {},
     "output_type": "display_data"
    },
    {
     "name": "stdout",
     "output_type": "stream",
     "text": [
      "+---+------+-----------+------------------------------------+--------+\n",
      "|row|origin|destination|public_bus_station                  |duration|\n",
      "+---+------+-----------+------------------------------------+--------+\n",
      "|1  |B     |MM         |[BAutogara, SBAutogara, MMAutogara] |300     |\n",
      "|2  |BV    |IS         |[BVAutogara, BCAutogara, ISAutogara]|300     |\n",
      "|3  |TM    |CT         |[TMAutogara, SBAutogara, CTAutogara]|300     |\n",
      "|4  |CJ    |BC         |[CJAutogara, MSAutogara, BCAutogara]|300     |\n",
      "+---+------+-----------+------------------------------------+--------+"
     ]
    }
   ],
   "source": [
    "trips_table_fact.show(truncate=False)"
   ]
  },
  {
   "cell_type": "code",
   "execution_count": null,
   "id": "upper-butter",
   "metadata": {},
   "outputs": [],
   "source": []
  },
  {
   "cell_type": "code",
   "execution_count": null,
   "id": "statistical-gathering",
   "metadata": {},
   "outputs": [],
   "source": []
  }
 ],
 "metadata": {
  "kernelspec": {
   "display_name": "PySpark",
   "language": "",
   "name": "pysparkkernel"
  },
  "language_info": {
   "codemirror_mode": {
    "name": "python",
    "version": 2
   },
   "mimetype": "text/x-python",
   "name": "pyspark",
   "pygments_lexer": "python2"
  }
 },
 "nbformat": 4,
 "nbformat_minor": 5
}
