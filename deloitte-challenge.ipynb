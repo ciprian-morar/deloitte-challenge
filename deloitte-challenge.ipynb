{
 "cells": [
  {
   "cell_type": "code",
   "execution_count": 54,
   "id": "baking-biodiversity",
   "metadata": {},
   "outputs": [
    {
     "data": {
      "application/vnd.jupyter.widget-view+json": {
       "model_id": "903d00a90502451f9e40d59676857bd2",
       "version_major": 2,
       "version_minor": 0
      },
      "text/plain": [
       "VBox()"
      ]
     },
     "metadata": {},
     "output_type": "display_data"
    },
    {
     "data": {
      "application/vnd.jupyter.widget-view+json": {
       "model_id": "",
       "version_major": 2,
       "version_minor": 0
      },
      "text/plain": [
       "FloatProgress(value=0.0, bar_style='info', description='Progress:', layout=Layout(height='25px', width='50%'),…"
      ]
     },
     "metadata": {},
     "output_type": "display_data"
    }
   ],
   "source": [
    "import os\n",
    "import pyspark.sql.functions as F\n",
    "import pyspark.sql.types as T\n",
    "from pyspark.sql import SparkSession\n",
    "import json\n",
    "import re\n",
    "import logging\n",
    "from pyspark.sql.window import Window\n",
    "import operator"
   ]
  },
  {
   "cell_type": "code",
   "execution_count": 55,
   "id": "adapted-kingdom",
   "metadata": {},
   "outputs": [
    {
     "data": {
      "application/vnd.jupyter.widget-view+json": {
       "model_id": "f89bd93a26094376932f0a67ffa2d8cd",
       "version_major": 2,
       "version_minor": 0
      },
      "text/plain": [
       "VBox()"
      ]
     },
     "metadata": {},
     "output_type": "display_data"
    },
    {
     "data": {
      "application/vnd.jupyter.widget-view+json": {
       "model_id": "",
       "version_major": 2,
       "version_minor": 0
      },
      "text/plain": [
       "FloatProgress(value=0.0, bar_style='info', description='Progress:', layout=Layout(height='25px', width='50%'),…"
      ]
     },
     "metadata": {},
     "output_type": "display_data"
    }
   ],
   "source": [
    "spark = SparkSession.builder.appName(\"Deloitte Challenge Test\").config(\"spark.jars.packages\",\"org.apache.hadoop:hadoop-aws:2.7.0\").getOrCreate()"
   ]
  },
  {
   "cell_type": "code",
   "execution_count": 56,
   "id": "extensive-argument",
   "metadata": {},
   "outputs": [
    {
     "data": {
      "application/vnd.jupyter.widget-view+json": {
       "model_id": "e00215d04e3f46debe57739156b12dd3",
       "version_major": 2,
       "version_minor": 0
      },
      "text/plain": [
       "VBox()"
      ]
     },
     "metadata": {},
     "output_type": "display_data"
    },
    {
     "data": {
      "application/vnd.jupyter.widget-view+json": {
       "model_id": "",
       "version_major": 2,
       "version_minor": 0
      },
      "text/plain": [
       "FloatProgress(value=0.0, bar_style='info', description='Progress:', layout=Layout(height='25px', width='50%'),…"
      ]
     },
     "metadata": {},
     "output_type": "display_data"
    }
   ],
   "source": [
    "stations_data = \"s3a://deloitte-ciprian-test/data/source/stations.txt\"\n",
    "trips_data = \"s3a://deloitte-ciprian-test/data/source/trips.txt\""
   ]
  },
  {
   "cell_type": "markdown",
   "id": "disturbed-miniature",
   "metadata": {},
   "source": [
    "## Read Data From Files"
   ]
  },
  {
   "cell_type": "code",
   "execution_count": 57,
   "id": "touched-going",
   "metadata": {},
   "outputs": [
    {
     "data": {
      "application/vnd.jupyter.widget-view+json": {
       "model_id": "40f50b425da14e62976412acd6bfecac",
       "version_major": 2,
       "version_minor": 0
      },
      "text/plain": [
       "VBox()"
      ]
     },
     "metadata": {},
     "output_type": "display_data"
    },
    {
     "data": {
      "application/vnd.jupyter.widget-view+json": {
       "model_id": "",
       "version_major": 2,
       "version_minor": 0
      },
      "text/plain": [
       "FloatProgress(value=0.0, bar_style='info', description='Progress:', layout=Layout(height='25px', width='50%'),…"
      ]
     },
     "metadata": {},
     "output_type": "display_data"
    },
    {
     "name": "stdout",
     "output_type": "stream",
     "text": [
      "+--------------------+\n",
      "|               value|\n",
      "+--------------------+\n",
      "|                   {|\n",
      "|\"internal_bus_sta...|\n",
      "|\"public_bus_stati...|\n",
      "|                   }|\n",
      "+--------------------+"
     ]
    }
   ],
   "source": [
    "df_stations = spark.read.text(stations_data)\n",
    "df_stations.show()"
   ]
  },
  {
   "cell_type": "code",
   "execution_count": 58,
   "id": "dominant-charleston",
   "metadata": {},
   "outputs": [
    {
     "data": {
      "application/vnd.jupyter.widget-view+json": {
       "model_id": "8a6af4ffbd694c59a720e9b49b2c5a1a",
       "version_major": 2,
       "version_minor": 0
      },
      "text/plain": [
       "VBox()"
      ]
     },
     "metadata": {},
     "output_type": "display_data"
    },
    {
     "data": {
      "application/vnd.jupyter.widget-view+json": {
       "model_id": "",
       "version_major": 2,
       "version_minor": 0
      },
      "text/plain": [
       "FloatProgress(value=0.0, bar_style='info', description='Progress:', layout=Layout(height='25px', width='50%'),…"
      ]
     },
     "metadata": {},
     "output_type": "display_data"
    },
    {
     "name": "stdout",
     "output_type": "stream",
     "text": [
      "+--------------------+\n",
      "|               value|\n",
      "+--------------------+\n",
      "|                   {|\n",
      "|\"ORIGIN\": [\"B\",\"B...|\n",
      "|\"DESTINATION\": [\"...|\n",
      "|\"INTERNAL_BUS_STA...|\n",
      "|\" TRIPTIMES\": [[2...|\n",
      "|                   }|\n",
      "+--------------------+"
     ]
    }
   ],
   "source": [
    "df_trips = spark.read.text(trips_data)\n",
    "df_trips.show()"
   ]
  },
  {
   "cell_type": "markdown",
   "id": "incredible-intelligence",
   "metadata": {},
   "source": [
    "### Because is not possible to parse the data in JSON Format I clean a bit the data before I start to parse it"
   ]
  },
  {
   "cell_type": "code",
   "execution_count": 59,
   "id": "explicit-reynolds",
   "metadata": {},
   "outputs": [
    {
     "data": {
      "application/vnd.jupyter.widget-view+json": {
       "model_id": "7cad76d11e2a4bdb91a7333c0ada2374",
       "version_major": 2,
       "version_minor": 0
      },
      "text/plain": [
       "VBox()"
      ]
     },
     "metadata": {},
     "output_type": "display_data"
    },
    {
     "data": {
      "application/vnd.jupyter.widget-view+json": {
       "model_id": "",
       "version_major": 2,
       "version_minor": 0
      },
      "text/plain": [
       "FloatProgress(value=0.0, bar_style='info', description='Progress:', layout=Layout(height='25px', width='50%'),…"
      ]
     },
     "metadata": {},
     "output_type": "display_data"
    }
   ],
   "source": [
    "df_stations = df_stations.filter(df_stations.value!='{')"
   ]
  },
  {
   "cell_type": "code",
   "execution_count": 60,
   "id": "worldwide-intake",
   "metadata": {},
   "outputs": [
    {
     "data": {
      "application/vnd.jupyter.widget-view+json": {
       "model_id": "ff49da27fe994d91beefa6f9e23840b5",
       "version_major": 2,
       "version_minor": 0
      },
      "text/plain": [
       "VBox()"
      ]
     },
     "metadata": {},
     "output_type": "display_data"
    },
    {
     "data": {
      "application/vnd.jupyter.widget-view+json": {
       "model_id": "",
       "version_major": 2,
       "version_minor": 0
      },
      "text/plain": [
       "FloatProgress(value=0.0, bar_style='info', description='Progress:', layout=Layout(height='25px', width='50%'),…"
      ]
     },
     "metadata": {},
     "output_type": "display_data"
    }
   ],
   "source": [
    "df_stations = df_stations.filter(df_stations.value!='}')"
   ]
  },
  {
   "cell_type": "code",
   "execution_count": 61,
   "id": "excessive-farming",
   "metadata": {},
   "outputs": [
    {
     "data": {
      "application/vnd.jupyter.widget-view+json": {
       "model_id": "695119a1dff24a23854baca02525fb8b",
       "version_major": 2,
       "version_minor": 0
      },
      "text/plain": [
       "VBox()"
      ]
     },
     "metadata": {},
     "output_type": "display_data"
    },
    {
     "data": {
      "application/vnd.jupyter.widget-view+json": {
       "model_id": "",
       "version_major": 2,
       "version_minor": 0
      },
      "text/plain": [
       "FloatProgress(value=0.0, bar_style='info', description='Progress:', layout=Layout(height='25px', width='50%'),…"
      ]
     },
     "metadata": {},
     "output_type": "display_data"
    }
   ],
   "source": [
    "df_trips = df_trips.filter(df_trips.value!='{')"
   ]
  },
  {
   "cell_type": "code",
   "execution_count": 62,
   "id": "subsequent-mapping",
   "metadata": {},
   "outputs": [
    {
     "data": {
      "application/vnd.jupyter.widget-view+json": {
       "model_id": "1c2449fe32b345939f9daa1689980218",
       "version_major": 2,
       "version_minor": 0
      },
      "text/plain": [
       "VBox()"
      ]
     },
     "metadata": {},
     "output_type": "display_data"
    },
    {
     "data": {
      "application/vnd.jupyter.widget-view+json": {
       "model_id": "",
       "version_major": 2,
       "version_minor": 0
      },
      "text/plain": [
       "FloatProgress(value=0.0, bar_style='info', description='Progress:', layout=Layout(height='25px', width='50%'),…"
      ]
     },
     "metadata": {},
     "output_type": "display_data"
    }
   ],
   "source": [
    "df_trips = df_trips.filter(df_trips.value!='}')"
   ]
  },
  {
   "cell_type": "markdown",
   "id": "caring-right",
   "metadata": {},
   "source": [
    "### I visualize the rows of data I'm going to parse for both stations and trips tables"
   ]
  },
  {
   "cell_type": "code",
   "execution_count": 63,
   "id": "capable-campus",
   "metadata": {},
   "outputs": [
    {
     "data": {
      "application/vnd.jupyter.widget-view+json": {
       "model_id": "0b6fa2318c604975a908af34e175b378",
       "version_major": 2,
       "version_minor": 0
      },
      "text/plain": [
       "VBox()"
      ]
     },
     "metadata": {},
     "output_type": "display_data"
    },
    {
     "data": {
      "application/vnd.jupyter.widget-view+json": {
       "model_id": "",
       "version_major": 2,
       "version_minor": 0
      },
      "text/plain": [
       "FloatProgress(value=0.0, bar_style='info', description='Progress:', layout=Layout(height='25px', width='50%'),…"
      ]
     },
     "metadata": {},
     "output_type": "display_data"
    },
    {
     "name": "stdout",
     "output_type": "stream",
     "text": [
      "[Row(value='\"internal_bus_station_id\": [0, 1, 2, 3, 4, 5, 6, 7, 8, 9, 5],'), Row(value='\"public_bus_station\": [\"BAutogara\", \"BVAutogara\", \"SBAutogara\",\"CJAutogara\", \"MMAutogara\",\"ISAutogara\", \"CTAutogara\",\"TMAutogara\", \"BCAutogara\", \"MSAutogara\", \"ISAutogara\"]')]"
     ]
    }
   ],
   "source": [
    "df_stations.head(4)"
   ]
  },
  {
   "cell_type": "code",
   "execution_count": 64,
   "id": "sapphire-independence",
   "metadata": {},
   "outputs": [
    {
     "data": {
      "application/vnd.jupyter.widget-view+json": {
       "model_id": "18664734ddb944e5851457aa1779f546",
       "version_major": 2,
       "version_minor": 0
      },
      "text/plain": [
       "VBox()"
      ]
     },
     "metadata": {},
     "output_type": "display_data"
    },
    {
     "data": {
      "application/vnd.jupyter.widget-view+json": {
       "model_id": "",
       "version_major": 2,
       "version_minor": 0
      },
      "text/plain": [
       "FloatProgress(value=0.0, bar_style='info', description='Progress:', layout=Layout(height='25px', width='50%'),…"
      ]
     },
     "metadata": {},
     "output_type": "display_data"
    },
    {
     "name": "stdout",
     "output_type": "stream",
     "text": [
      "[Row(value='\"ORIGIN\": [\"B\",\"BV\",\"TM\",\"CJ\"],'), Row(value='\"DESTINATION\": [\"MM\",\"IS\",\"CT\",\"BC\"],'), Row(value='\"INTERNAL_BUS_STATION_IDS\": [[0,2,4],[1,8,5],[7,2,6],[3,9,8]],'), Row(value='\" TRIPTIMES\": [[2020-03-01 10:10:00 , 2020-03-01 12:20:10, 2020-03-01 15:10:00],[ 2020-03-01 10:10:00, 2020-03-01 12:20:10, 2020-03-01 15:10:00],[2020-04-01 10:10:00, 2020-04-01 12:20:10, 2020-04-01 15:10:00],[2020-05-01 10:10:00, 2020-05-01 12:20:10, 2020-05-01 15:10:00 ]]')]"
     ]
    }
   ],
   "source": [
    "df_trips.head(4)"
   ]
  },
  {
   "cell_type": "markdown",
   "id": "chemical-assessment",
   "metadata": {},
   "source": [
    "### Parse the Data in unidimensional Array Format and organize it in a tabular format"
   ]
  },
  {
   "cell_type": "code",
   "execution_count": 65,
   "id": "legendary-trance",
   "metadata": {},
   "outputs": [
    {
     "data": {
      "application/vnd.jupyter.widget-view+json": {
       "model_id": "36eb56545fa94863989e6d4d3e0e3874",
       "version_major": 2,
       "version_minor": 0
      },
      "text/plain": [
       "VBox()"
      ]
     },
     "metadata": {},
     "output_type": "display_data"
    },
    {
     "data": {
      "application/vnd.jupyter.widget-view+json": {
       "model_id": "",
       "version_major": 2,
       "version_minor": 0
      },
      "text/plain": [
       "FloatProgress(value=0.0, bar_style='info', description='Progress:', layout=Layout(height='25px', width='50%'),…"
      ]
     },
     "metadata": {},
     "output_type": "display_data"
    }
   ],
   "source": [
    "def last_index_right_brackets(string):\n",
    "    index_close_array = string.rfind(\"]\")\n",
    "    if index_close_array == len(string)-1:\n",
    "        index_close_array = -1\n",
    "    return index_close_array\n",
    "\n",
    "def convert_to_dict(column): \n",
    "    map_return = {}    \n",
    "    map_kv = column.split(':')\n",
    "    prop = map_kv[0].strip().lower()\n",
    "    prop = prop.replace('\"', '')\n",
    "    val = map_kv[1]\n",
    "    val = val.strip()\n",
    "    \n",
    "    #remove both comma if exists and the close square bracket\n",
    "    index_close_array = last_index_right_brackets(val)\n",
    "    val = val[1:index_close_array]\n",
    "    array_of_arr = val.split(',')\n",
    "    intermediary_array = []\n",
    "    for detail_item in array_of_arr:\n",
    "        detail_item = detail_item.strip()\n",
    "        detail_item = detail_item.replace('\"', '')\n",
    "        intermediary_array.append(detail_item)\n",
    "        val = intermediary_array \n",
    "    map_return[prop] = val\n",
    "    return map_return"
   ]
  },
  {
   "cell_type": "markdown",
   "id": "complete-malta",
   "metadata": {},
   "source": [
    "### UDF Function to read single dimensional Arrays"
   ]
  },
  {
   "cell_type": "code",
   "execution_count": 66,
   "id": "convenient-capacity",
   "metadata": {},
   "outputs": [
    {
     "data": {
      "application/vnd.jupyter.widget-view+json": {
       "model_id": "c774bb86fc4747d2ab80ccf01d5e7ff5",
       "version_major": 2,
       "version_minor": 0
      },
      "text/plain": [
       "VBox()"
      ]
     },
     "metadata": {},
     "output_type": "display_data"
    },
    {
     "data": {
      "application/vnd.jupyter.widget-view+json": {
       "model_id": "",
       "version_major": 2,
       "version_minor": 0
      },
      "text/plain": [
       "FloatProgress(value=0.0, bar_style='info', description='Progress:', layout=Layout(height='25px', width='50%'),…"
      ]
     },
     "metadata": {},
     "output_type": "display_data"
    }
   ],
   "source": [
    "string_to_dict_udf = F.udf(convert_to_dict, T.MapType(T.StringType(), T.ArrayType(T.StringType())))"
   ]
  },
  {
   "cell_type": "markdown",
   "id": "finnish-zoning",
   "metadata": {},
   "source": [
    "## Load unidimensional arrays first"
   ]
  },
  {
   "cell_type": "markdown",
   "id": "proof-appointment",
   "metadata": {},
   "source": [
    "### Load Stations data"
   ]
  },
  {
   "cell_type": "code",
   "execution_count": 67,
   "id": "fixed-employment",
   "metadata": {},
   "outputs": [
    {
     "data": {
      "application/vnd.jupyter.widget-view+json": {
       "model_id": "b0b591a422fb4171b1e05ee5b40bd0c2",
       "version_major": 2,
       "version_minor": 0
      },
      "text/plain": [
       "VBox()"
      ]
     },
     "metadata": {},
     "output_type": "display_data"
    },
    {
     "data": {
      "application/vnd.jupyter.widget-view+json": {
       "model_id": "",
       "version_major": 2,
       "version_minor": 0
      },
      "text/plain": [
       "FloatProgress(value=0.0, bar_style='info', description='Progress:', layout=Layout(height='25px', width='50%'),…"
      ]
     },
     "metadata": {},
     "output_type": "display_data"
    },
    {
     "name": "stdout",
     "output_type": "stream",
     "text": [
      "-RECORD 0----------------------------------------------------------------------------------------------------------------------------------------------------------------------------------------\n",
      " value            | \"internal_bus_station_id\": [0, 1, 2, 3, 4, 5, 6, 7, 8, 9, 5],                                                                                                                \n",
      " dict_from_string | [internal_bus_station_id -> [0, 1, 2, 3, 4, 5, 6, 7, 8, 9, 5]]                                                                                                               \n",
      "-RECORD 1----------------------------------------------------------------------------------------------------------------------------------------------------------------------------------------\n",
      " value            | \"public_bus_station\": [\"BAutogara\", \"BVAutogara\", \"SBAutogara\",\"CJAutogara\", \"MMAutogara\",\"ISAutogara\", \"CTAutogara\",\"TMAutogara\", \"BCAutogara\", \"MSAutogara\", \"ISAutogara\"] \n",
      " dict_from_string | [public_bus_station -> [BAutogara, BVAutogara, SBAutogara, CJAutogara, MMAutogara, ISAutogara, CTAutogara, TMAutogara, BCAutogara, MSAutogara, ISAutogara]]"
     ]
    }
   ],
   "source": [
    "df_stations = df_stations.withColumn(\"dict_from_string\", string_to_dict_udf(F.col(\"value\")))\n",
    "\n",
    "df_stations.show(truncate=False, vertical=True)"
   ]
  },
  {
   "cell_type": "markdown",
   "id": "dying-victor",
   "metadata": {},
   "source": [
    "### GET the data from the MAP Types and insert as their own rows "
   ]
  },
  {
   "cell_type": "code",
   "execution_count": 68,
   "id": "numerical-piece",
   "metadata": {},
   "outputs": [
    {
     "data": {
      "application/vnd.jupyter.widget-view+json": {
       "model_id": "0090bd3a8da84158b7fc5690e712e4dd",
       "version_major": 2,
       "version_minor": 0
      },
      "text/plain": [
       "VBox()"
      ]
     },
     "metadata": {},
     "output_type": "display_data"
    },
    {
     "data": {
      "application/vnd.jupyter.widget-view+json": {
       "model_id": "",
       "version_major": 2,
       "version_minor": 0
      },
      "text/plain": [
       "FloatProgress(value=0.0, bar_style='info', description='Progress:', layout=Layout(height='25px', width='50%'),…"
      ]
     },
     "metadata": {},
     "output_type": "display_data"
    }
   ],
   "source": [
    "data_public_bus = df_stations.select(F.explode(F.col(\"dict_from_string\")['public_bus_station']).alias(\"public_bus_station\"))\n",
    "df_ibsi = df_stations.select(F.explode(F.col(\"dict_from_string\")['internal_bus_station_id']).alias(\"internal_bus_station_id\"))"
   ]
  },
  {
   "cell_type": "markdown",
   "id": "above-paraguay",
   "metadata": {},
   "source": [
    "# Stations Table Initial"
   ]
  },
  {
   "cell_type": "code",
   "execution_count": 69,
   "id": "solar-stockholm",
   "metadata": {},
   "outputs": [
    {
     "data": {
      "application/vnd.jupyter.widget-view+json": {
       "model_id": "9afe2eb565a049b6be33029d402f9b32",
       "version_major": 2,
       "version_minor": 0
      },
      "text/plain": [
       "VBox()"
      ]
     },
     "metadata": {},
     "output_type": "display_data"
    },
    {
     "data": {
      "application/vnd.jupyter.widget-view+json": {
       "model_id": "",
       "version_major": 2,
       "version_minor": 0
      },
      "text/plain": [
       "FloatProgress(value=0.0, bar_style='info', description='Progress:', layout=Layout(height='25px', width='50%'),…"
      ]
     },
     "metadata": {},
     "output_type": "display_data"
    },
    {
     "name": "stdout",
     "output_type": "stream",
     "text": [
      "+---+-----------------------+------------------+\n",
      "|row|internal_bus_station_id|public_bus_station|\n",
      "+---+-----------------------+------------------+\n",
      "|  1|                      7|        TMAutogara|\n",
      "|  2|                      3|        CJAutogara|\n",
      "|  3|                      8|        BCAutogara|\n",
      "|  4|                      0|         BAutogara|\n",
      "|  5|                      5|        ISAutogara|\n",
      "|  6|                      6|        CTAutogara|\n",
      "|  7|                      9|        MSAutogara|\n",
      "|  8|                      1|        BVAutogara|\n",
      "|  9|                      4|        MMAutogara|\n",
      "| 10|                      2|        SBAutogara|\n",
      "+---+-----------------------+------------------+"
     ]
    }
   ],
   "source": [
    "#maintain the original order from original dataset\n",
    "data_public_bus = data_public_bus.withColumn(\"join_id_bus\", F.monotonically_increasing_id())\n",
    "df_ibsi = df_ibsi.withColumn(\"join_id_ibsi\", F.monotonically_increasing_id())\n",
    "\n",
    "inner_join = data_public_bus.join(df_ibsi,data_public_bus.join_id_bus == df_ibsi.join_id_ibsi, how='inner')\n",
    "\n",
    "station_staging_table = inner_join.select([\"internal_bus_station_id\", \"public_bus_station\"])\n",
    "\n",
    "station_staging_table = station_staging_table.drop_duplicates(subset=['internal_bus_station_id'])\n",
    "\n",
    "station_staging_table = station_staging_table.withColumn(\"default_value\",F.lit(\"ABC\")) #default value only to generate row_number\n",
    "w = Window().partitionBy('default_value').orderBy(F.lit('A'))\n",
    "station_staging_table = station_staging_table.withColumn(\"row\", F.row_number().over(w)).drop(\"default_value\")\n",
    "\n",
    "station_staging_table = station_staging_table.select([\"row\", \"internal_bus_station_id\", \"public_bus_station\"])\n",
    "station_staging_table.show()"
   ]
  },
  {
   "cell_type": "markdown",
   "id": "medium-abortion",
   "metadata": {},
   "source": [
    "### Load Trips Table columns origin and destination"
   ]
  },
  {
   "cell_type": "code",
   "execution_count": 70,
   "id": "entertaining-exclusion",
   "metadata": {},
   "outputs": [
    {
     "data": {
      "application/vnd.jupyter.widget-view+json": {
       "model_id": "60c3ca0a06c3476f9b4d34d3dbf3d32a",
       "version_major": 2,
       "version_minor": 0
      },
      "text/plain": [
       "VBox()"
      ]
     },
     "metadata": {},
     "output_type": "display_data"
    },
    {
     "data": {
      "application/vnd.jupyter.widget-view+json": {
       "model_id": "",
       "version_major": 2,
       "version_minor": 0
      },
      "text/plain": [
       "FloatProgress(value=0.0, bar_style='info', description='Progress:', layout=Layout(height='25px', width='50%'),…"
      ]
     },
     "metadata": {},
     "output_type": "display_data"
    },
    {
     "name": "stdout",
     "output_type": "stream",
     "text": [
      "-RECORD 0----------------------------------------------------------------------------------------------------------------------------------------------------------------------------------------------------------------------------------------------------------------------------------------------\n",
      " value            | \"ORIGIN\": [\"B\",\"BV\",\"TM\",\"CJ\"],                                                                                                                                                                                                                                                    \n",
      " dict_from_string | [origin -> [B, BV, TM, CJ]]                                                                                                                                                                                                                                                        \n",
      "-RECORD 1----------------------------------------------------------------------------------------------------------------------------------------------------------------------------------------------------------------------------------------------------------------------------------------------\n",
      " value            | \"DESTINATION\": [\"MM\",\"IS\",\"CT\",\"BC\"],                                                                                                                                                                                                                                              \n",
      " dict_from_string | [destination -> [MM, IS, CT, BC]]                                                                                                                                                                                                                                                  \n",
      "-RECORD 2----------------------------------------------------------------------------------------------------------------------------------------------------------------------------------------------------------------------------------------------------------------------------------------------\n",
      " value            | \"INTERNAL_BUS_STATION_IDS\": [[0,2,4],[1,8,5],[7,2,6],[3,9,8]],                                                                                                                                                                                                                     \n",
      " dict_from_string | [internal_bus_station_ids -> [[0, 2, 4], [1, 8, 5], [7, 2, 6], [3, 9, 8]]]                                                                                                                                                                                                         \n",
      "-RECORD 3----------------------------------------------------------------------------------------------------------------------------------------------------------------------------------------------------------------------------------------------------------------------------------------------\n",
      " value            | \" TRIPTIMES\": [[2020-03-01 10:10:00 , 2020-03-01 12:20:10, 2020-03-01 15:10:00],[ 2020-03-01 10:10:00, 2020-03-01 12:20:10, 2020-03-01 15:10:00],[2020-04-01 10:10:00, 2020-04-01 12:20:10, 2020-04-01 15:10:00],[2020-05-01 10:10:00, 2020-05-01 12:20:10, 2020-05-01 15:10:00 ]] \n",
      " dict_from_string | [ triptimes -> [[2020-03-01 1]]"
     ]
    }
   ],
   "source": [
    "df_trips = df_trips.withColumn(\"dict_from_string\", string_to_dict_udf(F.col(\"value\")))\n",
    "df_trips.show(truncate=False, vertical=True)"
   ]
  },
  {
   "cell_type": "code",
   "execution_count": 71,
   "id": "alike-walter",
   "metadata": {},
   "outputs": [
    {
     "data": {
      "application/vnd.jupyter.widget-view+json": {
       "model_id": "c5993f2efa2b4c75a08f442957e1238b",
       "version_major": 2,
       "version_minor": 0
      },
      "text/plain": [
       "VBox()"
      ]
     },
     "metadata": {},
     "output_type": "display_data"
    },
    {
     "data": {
      "application/vnd.jupyter.widget-view+json": {
       "model_id": "",
       "version_major": 2,
       "version_minor": 0
      },
      "text/plain": [
       "FloatProgress(value=0.0, bar_style='info', description='Progress:', layout=Layout(height='25px', width='50%'),…"
      ]
     },
     "metadata": {},
     "output_type": "display_data"
    }
   ],
   "source": [
    "data_origin = df_trips.select(F.explode(F.col(\"dict_from_string\")['origin']).alias(\"origin\"))\n",
    "data_origin = data_origin.withColumn(\"id\", F.monotonically_increasing_id())\n",
    "data_origin = data_origin.select([\"id\", \"origin\"])"
   ]
  },
  {
   "cell_type": "code",
   "execution_count": 72,
   "id": "representative-physiology",
   "metadata": {},
   "outputs": [
    {
     "data": {
      "application/vnd.jupyter.widget-view+json": {
       "model_id": "0fa6337f893d4c7e838bca419c05d8aa",
       "version_major": 2,
       "version_minor": 0
      },
      "text/plain": [
       "VBox()"
      ]
     },
     "metadata": {},
     "output_type": "display_data"
    },
    {
     "data": {
      "application/vnd.jupyter.widget-view+json": {
       "model_id": "",
       "version_major": 2,
       "version_minor": 0
      },
      "text/plain": [
       "FloatProgress(value=0.0, bar_style='info', description='Progress:', layout=Layout(height='25px', width='50%'),…"
      ]
     },
     "metadata": {},
     "output_type": "display_data"
    },
    {
     "name": "stdout",
     "output_type": "stream",
     "text": [
      "+---+------+\n",
      "|id |origin|\n",
      "+---+------+\n",
      "|0  |B     |\n",
      "|1  |BV    |\n",
      "|2  |TM    |\n",
      "|3  |CJ    |\n",
      "+---+------+"
     ]
    }
   ],
   "source": [
    "data_origin.show(truncate=False)"
   ]
  },
  {
   "cell_type": "code",
   "execution_count": 73,
   "id": "seventh-traffic",
   "metadata": {},
   "outputs": [
    {
     "data": {
      "application/vnd.jupyter.widget-view+json": {
       "model_id": "c129b88925f04342b08c789c7030cf94",
       "version_major": 2,
       "version_minor": 0
      },
      "text/plain": [
       "VBox()"
      ]
     },
     "metadata": {},
     "output_type": "display_data"
    },
    {
     "data": {
      "application/vnd.jupyter.widget-view+json": {
       "model_id": "",
       "version_major": 2,
       "version_minor": 0
      },
      "text/plain": [
       "FloatProgress(value=0.0, bar_style='info', description='Progress:', layout=Layout(height='25px', width='50%'),…"
      ]
     },
     "metadata": {},
     "output_type": "display_data"
    }
   ],
   "source": [
    "data_dest = df_trips.select(F.explode(F.col(\"dict_from_string\")['destination']).alias(\"destination\"))\n",
    "data_dest = data_dest.withColumn(\"id_dest\", F.monotonically_increasing_id())"
   ]
  },
  {
   "cell_type": "code",
   "execution_count": 74,
   "id": "opponent-conditioning",
   "metadata": {},
   "outputs": [
    {
     "data": {
      "application/vnd.jupyter.widget-view+json": {
       "model_id": "95851b901db94d1888e4c21aed6554ba",
       "version_major": 2,
       "version_minor": 0
      },
      "text/plain": [
       "VBox()"
      ]
     },
     "metadata": {},
     "output_type": "display_data"
    },
    {
     "data": {
      "application/vnd.jupyter.widget-view+json": {
       "model_id": "",
       "version_major": 2,
       "version_minor": 0
      },
      "text/plain": [
       "FloatProgress(value=0.0, bar_style='info', description='Progress:', layout=Layout(height='25px', width='50%'),…"
      ]
     },
     "metadata": {},
     "output_type": "display_data"
    },
    {
     "name": "stdout",
     "output_type": "stream",
     "text": [
      "+-----------+-------+\n",
      "|destination|id_dest|\n",
      "+-----------+-------+\n",
      "|         MM|      0|\n",
      "|         IS|      1|\n",
      "|         CT|      2|\n",
      "|         BC|      3|\n",
      "+-----------+-------+"
     ]
    }
   ],
   "source": [
    "data_dest.show()"
   ]
  },
  {
   "cell_type": "markdown",
   "id": "promotional-dream",
   "metadata": {},
   "source": [
    "### Intermediary Join origin with destination"
   ]
  },
  {
   "cell_type": "code",
   "execution_count": 75,
   "id": "floppy-delight",
   "metadata": {},
   "outputs": [
    {
     "data": {
      "application/vnd.jupyter.widget-view+json": {
       "model_id": "1557fba73ee947f09cb78775b818243e",
       "version_major": 2,
       "version_minor": 0
      },
      "text/plain": [
       "VBox()"
      ]
     },
     "metadata": {},
     "output_type": "display_data"
    },
    {
     "data": {
      "application/vnd.jupyter.widget-view+json": {
       "model_id": "",
       "version_major": 2,
       "version_minor": 0
      },
      "text/plain": [
       "FloatProgress(value=0.0, bar_style='info', description='Progress:', layout=Layout(height='25px', width='50%'),…"
      ]
     },
     "metadata": {},
     "output_type": "display_data"
    }
   ],
   "source": [
    "inner_join = data_origin.join(data_dest,data_origin.id == data_dest.id_dest, how='inner')\n",
    "trips_table = inner_join.select(\"id\",  \"origin\", \"destination\")"
   ]
  },
  {
   "cell_type": "code",
   "execution_count": 76,
   "id": "extensive-movie",
   "metadata": {},
   "outputs": [
    {
     "data": {
      "application/vnd.jupyter.widget-view+json": {
       "model_id": "fd78f6b530894e8ba890f0a08bb8dcbd",
       "version_major": 2,
       "version_minor": 0
      },
      "text/plain": [
       "VBox()"
      ]
     },
     "metadata": {},
     "output_type": "display_data"
    },
    {
     "data": {
      "application/vnd.jupyter.widget-view+json": {
       "model_id": "",
       "version_major": 2,
       "version_minor": 0
      },
      "text/plain": [
       "FloatProgress(value=0.0, bar_style='info', description='Progress:', layout=Layout(height='25px', width='50%'),…"
      ]
     },
     "metadata": {},
     "output_type": "display_data"
    },
    {
     "name": "stdout",
     "output_type": "stream",
     "text": [
      "+---+------+-----------+\n",
      "| id|origin|destination|\n",
      "+---+------+-----------+\n",
      "|  0|     B|         MM|\n",
      "|  1|    BV|         IS|\n",
      "|  2|    TM|         CT|\n",
      "|  3|    CJ|         BC|\n",
      "+---+------+-----------+"
     ]
    }
   ],
   "source": [
    "trips_table.show()"
   ]
  },
  {
   "cell_type": "markdown",
   "id": "behavioral-legislature",
   "metadata": {},
   "source": [
    "### Parse the Data in Multidimensional Array Format and organize it in a tabular format"
   ]
  },
  {
   "cell_type": "code",
   "execution_count": 77,
   "id": "brilliant-tradition",
   "metadata": {},
   "outputs": [
    {
     "data": {
      "application/vnd.jupyter.widget-view+json": {
       "model_id": "9b74cfc6e7b94fa7bd7fb94d139e0cef",
       "version_major": 2,
       "version_minor": 0
      },
      "text/plain": [
       "VBox()"
      ]
     },
     "metadata": {},
     "output_type": "display_data"
    },
    {
     "data": {
      "application/vnd.jupyter.widget-view+json": {
       "model_id": "",
       "version_major": 2,
       "version_minor": 0
      },
      "text/plain": [
       "FloatProgress(value=0.0, bar_style='info', description='Progress:', layout=Layout(height='25px', width='50%'),…"
      ]
     },
     "metadata": {},
     "output_type": "display_data"
    }
   ],
   "source": [
    "def convert_to_map(column):\n",
    "    map_return = \"\"\n",
    "    start_column_index = column.find(\"[[\")\n",
    "    end_column_index = column.find(\"]]\")\n",
    "    slice_column_string = column[start_column_index : end_column_index]\n",
    "    slice_column_string = slice_column_string.replace(\"[\", \"\")\n",
    "    slice_column_string = slice_column_string.replace(\"]\", \"\")\n",
    "    arr_column_strings = slice_column_string.split(',')\n",
    "    #add variable to identify the trip\n",
    "    trip_index = 0\n",
    "    trip_array = []\n",
    "    trips_dict = {}\n",
    "    counter = 1\n",
    "    for index, item in enumerate(arr_column_strings):\n",
    "        #cleaning dates by spaces and quotes\n",
    "        item = item.strip()\n",
    "        item = item.replace('\"', '')\n",
    "        trip_array.append(item)\n",
    "        if counter%3 == 0:\n",
    "            trips_dict[trip_index] = trip_array\n",
    "            trip_index = trip_index + 1\n",
    "            trip_array = []\n",
    "        counter = counter + 1\n",
    "    return trips_dict\n",
    "            \n",
    "    \n",
    "    \n",
    "string_to_map_udf = F.udf(convert_to_map, T.MapType(T.IntegerType(), T.ArrayType(T.StringType())))"
   ]
  },
  {
   "cell_type": "code",
   "execution_count": 78,
   "id": "monetary-boards",
   "metadata": {},
   "outputs": [
    {
     "data": {
      "application/vnd.jupyter.widget-view+json": {
       "model_id": "e05d56300033487e964768ea957b6b81",
       "version_major": 2,
       "version_minor": 0
      },
      "text/plain": [
       "VBox()"
      ]
     },
     "metadata": {},
     "output_type": "display_data"
    },
    {
     "data": {
      "application/vnd.jupyter.widget-view+json": {
       "model_id": "",
       "version_major": 2,
       "version_minor": 0
      },
      "text/plain": [
       "FloatProgress(value=0.0, bar_style='info', description='Progress:', layout=Layout(height='25px', width='50%'),…"
      ]
     },
     "metadata": {},
     "output_type": "display_data"
    }
   ],
   "source": [
    "df_triptimes = df_trips.select('value')\n",
    "# Filter only for triptimes\n",
    "df_triptimes = df_triptimes.filter(F.lower(df_triptimes.value).contains('triptimes'))"
   ]
  },
  {
   "cell_type": "code",
   "execution_count": 79,
   "id": "excessive-orange",
   "metadata": {},
   "outputs": [
    {
     "data": {
      "application/vnd.jupyter.widget-view+json": {
       "model_id": "bbb10348e2894a8aa1362aa005489217",
       "version_major": 2,
       "version_minor": 0
      },
      "text/plain": [
       "VBox()"
      ]
     },
     "metadata": {},
     "output_type": "display_data"
    },
    {
     "data": {
      "application/vnd.jupyter.widget-view+json": {
       "model_id": "",
       "version_major": 2,
       "version_minor": 0
      },
      "text/plain": [
       "FloatProgress(value=0.0, bar_style='info', description='Progress:', layout=Layout(height='25px', width='50%'),…"
      ]
     },
     "metadata": {},
     "output_type": "display_data"
    }
   ],
   "source": [
    "df_triptimes = df_triptimes.withColumn(\"map_column\", string_to_map_udf(F.col(\"value\")))"
   ]
  },
  {
   "cell_type": "code",
   "execution_count": 80,
   "id": "compatible-guidance",
   "metadata": {},
   "outputs": [
    {
     "data": {
      "application/vnd.jupyter.widget-view+json": {
       "model_id": "ffb0bb44e2714368bd191e80c8af42f9",
       "version_major": 2,
       "version_minor": 0
      },
      "text/plain": [
       "VBox()"
      ]
     },
     "metadata": {},
     "output_type": "display_data"
    },
    {
     "data": {
      "application/vnd.jupyter.widget-view+json": {
       "model_id": "",
       "version_major": 2,
       "version_minor": 0
      },
      "text/plain": [
       "FloatProgress(value=0.0, bar_style='info', description='Progress:', layout=Layout(height='25px', width='50%'),…"
      ]
     },
     "metadata": {},
     "output_type": "display_data"
    }
   ],
   "source": [
    "exploded_triptimes = df_triptimes.select(F.explode(F.col(\"map_column\")))\n",
    "exploded_triptimes = exploded_triptimes.select(F.col(\"key\"), F.explode(F.col(\"value\")))\n",
    "exploded_triptimes = exploded_triptimes.withColumn(\"id\", F.monotonically_increasing_id())"
   ]
  },
  {
   "cell_type": "markdown",
   "id": "multiple-georgia",
   "metadata": {},
   "source": [
    "## TripTimes Dimension table"
   ]
  },
  {
   "cell_type": "code",
   "execution_count": 81,
   "id": "determined-conservative",
   "metadata": {},
   "outputs": [
    {
     "data": {
      "application/vnd.jupyter.widget-view+json": {
       "model_id": "8867bace841a406b84ee33e48f507402",
       "version_major": 2,
       "version_minor": 0
      },
      "text/plain": [
       "VBox()"
      ]
     },
     "metadata": {},
     "output_type": "display_data"
    },
    {
     "data": {
      "application/vnd.jupyter.widget-view+json": {
       "model_id": "",
       "version_major": 2,
       "version_minor": 0
      },
      "text/plain": [
       "FloatProgress(value=0.0, bar_style='info', description='Progress:', layout=Layout(height='25px', width='50%'),…"
      ]
     },
     "metadata": {},
     "output_type": "display_data"
    },
    {
     "name": "stdout",
     "output_type": "stream",
     "text": [
      "+---+-------------------+-------+\n",
      "| id|          triptimes|tripkey|\n",
      "+---+-------------------+-------+\n",
      "|  0|2020-03-01 10:10:00|      0|\n",
      "|  1|2020-03-01 12:20:10|      0|\n",
      "|  2|2020-03-01 15:10:00|      0|\n",
      "|  3|2020-03-01 10:10:00|      1|\n",
      "|  4|2020-03-01 12:20:10|      1|\n",
      "|  5|2020-03-01 15:10:00|      1|\n",
      "|  6|2020-04-01 10:10:00|      2|\n",
      "|  7|2020-04-01 12:20:10|      2|\n",
      "|  8|2020-04-01 15:10:00|      2|\n",
      "|  9|2020-05-01 10:10:00|      3|\n",
      "| 10|2020-05-01 12:20:10|      3|\n",
      "| 11|2020-05-01 15:10:00|      3|\n",
      "+---+-------------------+-------+"
     ]
    }
   ],
   "source": [
    "triptimes_table = exploded_triptimes.select(\"id\",  F.col(\"col\").alias(\"triptimes\"), F.col(\"key\").alias(\"tripkey\"))\n",
    "triptimes_table.show()"
   ]
  },
  {
   "cell_type": "code",
   "execution_count": 82,
   "id": "entitled-explanation",
   "metadata": {},
   "outputs": [
    {
     "data": {
      "application/vnd.jupyter.widget-view+json": {
       "model_id": "a8c1fff1848b490f9e3f71c395850c8e",
       "version_major": 2,
       "version_minor": 0
      },
      "text/plain": [
       "VBox()"
      ]
     },
     "metadata": {},
     "output_type": "display_data"
    },
    {
     "data": {
      "application/vnd.jupyter.widget-view+json": {
       "model_id": "",
       "version_major": 2,
       "version_minor": 0
      },
      "text/plain": [
       "FloatProgress(value=0.0, bar_style='info', description='Progress:', layout=Layout(height='25px', width='50%'),…"
      ]
     },
     "metadata": {},
     "output_type": "display_data"
    }
   ],
   "source": [
    "df_internal_bus_station_ids = df_trips.select('value')\n",
    "\n",
    "df_internal_bus_station_ids = df_internal_bus_station_ids.filter(F.lower(df_internal_bus_station_ids.value).contains('internal_bus_station_ids'))"
   ]
  },
  {
   "cell_type": "code",
   "execution_count": 83,
   "id": "infrared-uncle",
   "metadata": {},
   "outputs": [
    {
     "data": {
      "application/vnd.jupyter.widget-view+json": {
       "model_id": "94cec4097f6f4d76a1b904ccbd6f8571",
       "version_major": 2,
       "version_minor": 0
      },
      "text/plain": [
       "VBox()"
      ]
     },
     "metadata": {},
     "output_type": "display_data"
    },
    {
     "data": {
      "application/vnd.jupyter.widget-view+json": {
       "model_id": "",
       "version_major": 2,
       "version_minor": 0
      },
      "text/plain": [
       "FloatProgress(value=0.0, bar_style='info', description='Progress:', layout=Layout(height='25px', width='50%'),…"
      ]
     },
     "metadata": {},
     "output_type": "display_data"
    }
   ],
   "source": [
    "df_internal_bus_station_ids = df_internal_bus_station_ids.withColumn(\"map_column\", string_to_map_udf(F.col(\"value\")))"
   ]
  },
  {
   "cell_type": "code",
   "execution_count": 84,
   "id": "supported-survivor",
   "metadata": {},
   "outputs": [
    {
     "data": {
      "application/vnd.jupyter.widget-view+json": {
       "model_id": "2ffd002e88be4ab7a2913ae580472448",
       "version_major": 2,
       "version_minor": 0
      },
      "text/plain": [
       "VBox()"
      ]
     },
     "metadata": {},
     "output_type": "display_data"
    },
    {
     "data": {
      "application/vnd.jupyter.widget-view+json": {
       "model_id": "",
       "version_major": 2,
       "version_minor": 0
      },
      "text/plain": [
       "FloatProgress(value=0.0, bar_style='info', description='Progress:', layout=Layout(height='25px', width='50%'),…"
      ]
     },
     "metadata": {},
     "output_type": "display_data"
    },
    {
     "name": "stdout",
     "output_type": "stream",
     "text": [
      "+--------------------------------------------------------------+----------------------------------------------------------------+\n",
      "|value                                                         |map_column                                                      |\n",
      "+--------------------------------------------------------------+----------------------------------------------------------------+\n",
      "|\"INTERNAL_BUS_STATION_IDS\": [[0,2,4],[1,8,5],[7,2,6],[3,9,8]],|[0 -> [0, 2, 4], 1 -> [1, 8, 5], 2 -> [7, 2, 6], 3 -> [3, 9, 8]]|\n",
      "+--------------------------------------------------------------+----------------------------------------------------------------+"
     ]
    }
   ],
   "source": [
    "df_internal_bus_station_ids.show(truncate=False)"
   ]
  },
  {
   "cell_type": "code",
   "execution_count": 85,
   "id": "immediate-approval",
   "metadata": {},
   "outputs": [
    {
     "data": {
      "application/vnd.jupyter.widget-view+json": {
       "model_id": "0526806811d745969494110fd80ded11",
       "version_major": 2,
       "version_minor": 0
      },
      "text/plain": [
       "VBox()"
      ]
     },
     "metadata": {},
     "output_type": "display_data"
    },
    {
     "data": {
      "application/vnd.jupyter.widget-view+json": {
       "model_id": "",
       "version_major": 2,
       "version_minor": 0
      },
      "text/plain": [
       "FloatProgress(value=0.0, bar_style='info', description='Progress:', layout=Layout(height='25px', width='50%'),…"
      ]
     },
     "metadata": {},
     "output_type": "display_data"
    },
    {
     "name": "stdout",
     "output_type": "stream",
     "text": [
      "+---+---+---+\n",
      "|key|col|id |\n",
      "+---+---+---+\n",
      "|0  |0  |0  |\n",
      "|0  |2  |1  |\n",
      "|0  |4  |2  |\n",
      "|1  |1  |3  |\n",
      "|1  |8  |4  |\n",
      "|1  |5  |5  |\n",
      "|2  |7  |6  |\n",
      "|2  |2  |7  |\n",
      "|2  |6  |8  |\n",
      "|3  |3  |9  |\n",
      "|3  |9  |10 |\n",
      "|3  |8  |11 |\n",
      "+---+---+---+"
     ]
    }
   ],
   "source": [
    "exploded_internal_bus_station_ids = df_internal_bus_station_ids.select(F.explode(F.col(\"map_column\")))\n",
    "exploded_internal_bus_station_ids = exploded_internal_bus_station_ids.select(F.col(\"key\"), F.explode(F.col(\"value\")))\n",
    "exploded_internal_bus_station_ids = exploded_internal_bus_station_ids.withColumn(\"id\", F.monotonically_increasing_id())\n",
    "exploded_internal_bus_station_ids.show(truncate=False)"
   ]
  },
  {
   "cell_type": "markdown",
   "id": "instrumental-lithuania",
   "metadata": {},
   "source": [
    "## Bus Stations Dimension table"
   ]
  },
  {
   "cell_type": "code",
   "execution_count": 86,
   "id": "binding-rotation",
   "metadata": {},
   "outputs": [
    {
     "data": {
      "application/vnd.jupyter.widget-view+json": {
       "model_id": "c8d70fa36e8d47d098a5f4e53a876d1f",
       "version_major": 2,
       "version_minor": 0
      },
      "text/plain": [
       "VBox()"
      ]
     },
     "metadata": {},
     "output_type": "display_data"
    },
    {
     "data": {
      "application/vnd.jupyter.widget-view+json": {
       "model_id": "",
       "version_major": 2,
       "version_minor": 0
      },
      "text/plain": [
       "FloatProgress(value=0.0, bar_style='info', description='Progress:', layout=Layout(height='25px', width='50%'),…"
      ]
     },
     "metadata": {},
     "output_type": "display_data"
    },
    {
     "name": "stdout",
     "output_type": "stream",
     "text": [
      "+---+-------+------------+------------------+\n",
      "| id|tripkey|bus_stations|public_bus_station|\n",
      "+---+-------+------------+------------------+\n",
      "|  0|      0|           0|         BAutogara|\n",
      "|  2|      0|           4|        MMAutogara|\n",
      "|  1|      0|           2|        SBAutogara|\n",
      "|  5|      1|           5|        ISAutogara|\n",
      "|  4|      1|           8|        BCAutogara|\n",
      "|  3|      1|           1|        BVAutogara|\n",
      "|  8|      2|           6|        CTAutogara|\n",
      "|  6|      2|           7|        TMAutogara|\n",
      "|  7|      2|           2|        SBAutogara|\n",
      "| 11|      3|           8|        BCAutogara|\n",
      "|  9|      3|           3|        CJAutogara|\n",
      "| 10|      3|           9|        MSAutogara|\n",
      "+---+-------+------------+------------------+"
     ]
    }
   ],
   "source": [
    "internal_bus_station_ids = exploded_internal_bus_station_ids.select(\"id\",  F.col(\"col\").alias(\"bus_stations\"), F.col(\"key\").alias(\"tripkey\"))\n",
    "internal_bus_station_ids = internal_bus_station_ids.join(station_staging_table, internal_bus_station_ids.bus_stations==station_staging_table.internal_bus_station_id, how=\"inner\")\n",
    "internal_bus_station_ids = internal_bus_station_ids.select(\"id\", \"tripkey\", \"bus_stations\", \"public_bus_station\").orderBy(\"tripkey\")\n",
    "internal_bus_station_ids.show()"
   ]
  },
  {
   "cell_type": "markdown",
   "id": "smoking-newsletter",
   "metadata": {},
   "source": [
    "### Transform triptimes column from staging triptimes_table in time format from String and add a new column min"
   ]
  },
  {
   "cell_type": "code",
   "execution_count": 87,
   "id": "descending-animation",
   "metadata": {},
   "outputs": [
    {
     "data": {
      "application/vnd.jupyter.widget-view+json": {
       "model_id": "6ddfe378d2db49c59f71bdd488d60922",
       "version_major": 2,
       "version_minor": 0
      },
      "text/plain": [
       "VBox()"
      ]
     },
     "metadata": {},
     "output_type": "display_data"
    },
    {
     "data": {
      "application/vnd.jupyter.widget-view+json": {
       "model_id": "",
       "version_major": 2,
       "version_minor": 0
      },
      "text/plain": [
       "FloatProgress(value=0.0, bar_style='info', description='Progress:', layout=Layout(height='25px', width='50%'),…"
      ]
     },
     "metadata": {},
     "output_type": "display_data"
    },
    {
     "name": "stdout",
     "output_type": "stream",
     "text": [
      "+---+-------+-------------------+\n",
      "| id|tripkey|                 dt|\n",
      "+---+-------+-------------------+\n",
      "|  3|      1|2020-03-01 10:10:00|\n",
      "|  0|      0|2020-03-01 10:10:00|\n",
      "|  1|      0|2020-03-01 12:20:10|\n",
      "|  4|      1|2020-03-01 12:20:10|\n",
      "|  2|      0|2020-03-01 15:10:00|\n",
      "|  5|      1|2020-03-01 15:10:00|\n",
      "|  6|      2|2020-04-01 10:10:00|\n",
      "|  7|      2|2020-04-01 12:20:10|\n",
      "|  8|      2|2020-04-01 15:10:00|\n",
      "|  9|      3|2020-05-01 10:10:00|\n",
      "| 10|      3|2020-05-01 12:20:10|\n",
      "| 11|      3|2020-05-01 15:10:00|\n",
      "+---+-------+-------------------+"
     ]
    }
   ],
   "source": [
    "triptimes_table = triptimes_table.select('id', 'tripkey', F.to_timestamp(triptimes_table.triptimes, 'yyyy-MM-dd HH:mm:ss').alias('dt')).orderBy(\"dt\")\n",
    "triptimes_table.show()"
   ]
  },
  {
   "cell_type": "markdown",
   "id": "entire-style",
   "metadata": {},
   "source": [
    "### Calculate journey time duration"
   ]
  },
  {
   "cell_type": "code",
   "execution_count": 88,
   "id": "rapid-robin",
   "metadata": {},
   "outputs": [
    {
     "data": {
      "application/vnd.jupyter.widget-view+json": {
       "model_id": "68d9a49b74514a5a8b39f371d92c7882",
       "version_major": 2,
       "version_minor": 0
      },
      "text/plain": [
       "VBox()"
      ]
     },
     "metadata": {},
     "output_type": "display_data"
    },
    {
     "data": {
      "application/vnd.jupyter.widget-view+json": {
       "model_id": "",
       "version_major": 2,
       "version_minor": 0
      },
      "text/plain": [
       "FloatProgress(value=0.0, bar_style='info', description='Progress:', layout=Layout(height='25px', width='50%'),…"
      ]
     },
     "metadata": {},
     "output_type": "display_data"
    }
   ],
   "source": [
    "def calculate_journey_duration(column):\n",
    "    dif_result =  column[len(column) - 1] - column[0]\n",
    "    journey_time_minutes = int(dif_result.seconds / 60)\n",
    "    return journey_time_minutes  \n",
    "    \n",
    "calculate_journey_udf = F.udf(calculate_journey_duration, T.IntegerType())"
   ]
  },
  {
   "cell_type": "code",
   "execution_count": 89,
   "id": "pending-keeping",
   "metadata": {},
   "outputs": [
    {
     "data": {
      "application/vnd.jupyter.widget-view+json": {
       "model_id": "c1471a09dca84d1385068dfab53bba0b",
       "version_major": 2,
       "version_minor": 0
      },
      "text/plain": [
       "VBox()"
      ]
     },
     "metadata": {},
     "output_type": "display_data"
    },
    {
     "data": {
      "application/vnd.jupyter.widget-view+json": {
       "model_id": "",
       "version_major": 2,
       "version_minor": 0
      },
      "text/plain": [
       "FloatProgress(value=0.0, bar_style='info', description='Progress:', layout=Layout(height='25px', width='50%'),…"
      ]
     },
     "metadata": {},
     "output_type": "display_data"
    },
    {
     "name": "stdout",
     "output_type": "stream",
     "text": [
      "+---+-------+-------------------+\n",
      "| id|tripkey|                 dt|\n",
      "+---+-------+-------------------+\n",
      "|  3|      1|2020-03-01 10:10:00|\n",
      "|  0|      0|2020-03-01 10:10:00|\n",
      "|  1|      0|2020-03-01 12:20:10|\n",
      "|  4|      1|2020-03-01 12:20:10|\n",
      "|  2|      0|2020-03-01 15:10:00|\n",
      "|  5|      1|2020-03-01 15:10:00|\n",
      "|  6|      2|2020-04-01 10:10:00|\n",
      "|  7|      2|2020-04-01 12:20:10|\n",
      "|  8|      2|2020-04-01 15:10:00|\n",
      "|  9|      3|2020-05-01 10:10:00|\n",
      "| 10|      3|2020-05-01 12:20:10|\n",
      "| 11|      3|2020-05-01 15:10:00|\n",
      "+---+-------+-------------------+"
     ]
    }
   ],
   "source": [
    "triptimes_table.show()"
   ]
  },
  {
   "cell_type": "code",
   "execution_count": 90,
   "id": "photographic-emphasis",
   "metadata": {},
   "outputs": [
    {
     "data": {
      "application/vnd.jupyter.widget-view+json": {
       "model_id": "b199b586eb5d417d9ca61eb1715e970b",
       "version_major": 2,
       "version_minor": 0
      },
      "text/plain": [
       "VBox()"
      ]
     },
     "metadata": {},
     "output_type": "display_data"
    },
    {
     "data": {
      "application/vnd.jupyter.widget-view+json": {
       "model_id": "",
       "version_major": 2,
       "version_minor": 0
      },
      "text/plain": [
       "FloatProgress(value=0.0, bar_style='info', description='Progress:', layout=Layout(height='25px', width='50%'),…"
      ]
     },
     "metadata": {},
     "output_type": "display_data"
    }
   ],
   "source": [
    "def sorter(l):\n",
    "  res = sorted(l, key=operator.itemgetter(0))\n",
    "  return [item[1] for item in res]\n",
    "\n",
    "sort_udf = F.udf(sorter, T.ArrayType(T.DateType()))"
   ]
  },
  {
   "cell_type": "code",
   "execution_count": 91,
   "id": "congressional-probe",
   "metadata": {},
   "outputs": [
    {
     "data": {
      "application/vnd.jupyter.widget-view+json": {
       "model_id": "d912bdfe35db4e4e9f36de518e3038d6",
       "version_major": 2,
       "version_minor": 0
      },
      "text/plain": [
       "VBox()"
      ]
     },
     "metadata": {},
     "output_type": "display_data"
    },
    {
     "data": {
      "application/vnd.jupyter.widget-view+json": {
       "model_id": "",
       "version_major": 2,
       "version_minor": 0
      },
      "text/plain": [
       "FloatProgress(value=0.0, bar_style='info', description='Progress:', layout=Layout(height='25px', width='50%'),…"
      ]
     },
     "metadata": {},
     "output_type": "display_data"
    },
    {
     "name": "stdout",
     "output_type": "stream",
     "text": [
      "+-------+------------------------------------+---+\n",
      "|tripkey|triptimes                           |min|\n",
      "+-------+------------------------------------+---+\n",
      "|0      |[2020-03-01, 2020-03-01, 2020-03-01]|300|\n",
      "|1      |[2020-03-01, 2020-03-01, 2020-03-01]|300|\n",
      "|2      |[2020-04-01, 2020-04-01, 2020-04-01]|300|\n",
      "|3      |[2020-05-01, 2020-05-01, 2020-05-01]|300|\n",
      "+-------+------------------------------------+---+"
     ]
    }
   ],
   "source": [
    "# w = Window.partitionBy('tripkey').orderBy('id')\n",
    "triptimes_table_agg = triptimes_table.groupBy('tripkey').agg(F.collect_list(F.struct(\"id\", \"dt\")).alias(\"triptimes_unordered\")).orderBy(\"tripkey\")\n",
    "triptimes_table_agg = triptimes_table_agg.withColumn(\"triptimes\", sort_udf(F.col(\"triptimes_unordered\"))).drop(\"triptimes_unordered\")\n",
    "triptimes_table_agg = triptimes_table_agg.withColumn(\"min\", calculate_journey_udf(F.col('triptimes')).cast(\"integer\"))\n",
    "triptimes_table_agg.show(truncate=False)"
   ]
  },
  {
   "cell_type": "markdown",
   "id": "ancient-landing",
   "metadata": {},
   "source": [
    "### Intermediary join origin with destination and duration"
   ]
  },
  {
   "cell_type": "code",
   "execution_count": 92,
   "id": "excess-glance",
   "metadata": {},
   "outputs": [
    {
     "data": {
      "application/vnd.jupyter.widget-view+json": {
       "model_id": "d2ef7d507f354ed3a6933184a8c06847",
       "version_major": 2,
       "version_minor": 0
      },
      "text/plain": [
       "VBox()"
      ]
     },
     "metadata": {},
     "output_type": "display_data"
    },
    {
     "data": {
      "application/vnd.jupyter.widget-view+json": {
       "model_id": "",
       "version_major": 2,
       "version_minor": 0
      },
      "text/plain": [
       "FloatProgress(value=0.0, bar_style='info', description='Progress:', layout=Layout(height='25px', width='50%'),…"
      ]
     },
     "metadata": {},
     "output_type": "display_data"
    }
   ],
   "source": [
    "trips_table = trips_table.join(triptimes_table_agg, trips_table.id==triptimes_table_agg.tripkey, how=\"inner\")"
   ]
  },
  {
   "cell_type": "code",
   "execution_count": 93,
   "id": "fantastic-prophet",
   "metadata": {},
   "outputs": [
    {
     "data": {
      "application/vnd.jupyter.widget-view+json": {
       "model_id": "99b7c1c26cb64237bc11d191dd94e1a7",
       "version_major": 2,
       "version_minor": 0
      },
      "text/plain": [
       "VBox()"
      ]
     },
     "metadata": {},
     "output_type": "display_data"
    },
    {
     "data": {
      "application/vnd.jupyter.widget-view+json": {
       "model_id": "",
       "version_major": 2,
       "version_minor": 0
      },
      "text/plain": [
       "FloatProgress(value=0.0, bar_style='info', description='Progress:', layout=Layout(height='25px', width='50%'),…"
      ]
     },
     "metadata": {},
     "output_type": "display_data"
    },
    {
     "name": "stdout",
     "output_type": "stream",
     "text": [
      "+---+------+-----------+---+\n",
      "| id|origin|destination|min|\n",
      "+---+------+-----------+---+\n",
      "|  0|     B|         MM|300|\n",
      "|  1|    BV|         IS|300|\n",
      "|  2|    TM|         CT|300|\n",
      "|  3|    CJ|         BC|300|\n",
      "+---+------+-----------+---+"
     ]
    }
   ],
   "source": [
    "trips_table = trips_table.select(\"id\",  \"origin\", \"destination\", \"min\")\n",
    "trips_table.show()"
   ]
  },
  {
   "cell_type": "markdown",
   "id": "defined-brick",
   "metadata": {},
   "source": [
    "## UDF to accomodate collect_list aggregated columns in the right order "
   ]
  },
  {
   "cell_type": "code",
   "execution_count": 94,
   "id": "twenty-reservation",
   "metadata": {},
   "outputs": [
    {
     "data": {
      "application/vnd.jupyter.widget-view+json": {
       "model_id": "357bebda1724459688558e07b7d7d3fa",
       "version_major": 2,
       "version_minor": 0
      },
      "text/plain": [
       "VBox()"
      ]
     },
     "metadata": {},
     "output_type": "display_data"
    },
    {
     "data": {
      "application/vnd.jupyter.widget-view+json": {
       "model_id": "",
       "version_major": 2,
       "version_minor": 0
      },
      "text/plain": [
       "FloatProgress(value=0.0, bar_style='info', description='Progress:', layout=Layout(height='25px', width='50%'),…"
      ]
     },
     "metadata": {},
     "output_type": "display_data"
    }
   ],
   "source": [
    "def sorter(l):\n",
    "  res = sorted(l, key=operator.itemgetter(0))\n",
    "  return [item[1] for item in res]\n",
    "\n",
    "sort_udf = F.udf(sorter)"
   ]
  },
  {
   "cell_type": "markdown",
   "id": "dominican-group",
   "metadata": {},
   "source": [
    "# Trips Table Initial"
   ]
  },
  {
   "cell_type": "code",
   "execution_count": 95,
   "id": "generic-oxford",
   "metadata": {},
   "outputs": [
    {
     "data": {
      "application/vnd.jupyter.widget-view+json": {
       "model_id": "f8b5eef595294a19925cf1a0b2a6307b",
       "version_major": 2,
       "version_minor": 0
      },
      "text/plain": [
       "VBox()"
      ]
     },
     "metadata": {},
     "output_type": "display_data"
    },
    {
     "data": {
      "application/vnd.jupyter.widget-view+json": {
       "model_id": "",
       "version_major": 2,
       "version_minor": 0
      },
      "text/plain": [
       "FloatProgress(value=0.0, bar_style='info', description='Progress:', layout=Layout(height='25px', width='50%'),…"
      ]
     },
     "metadata": {},
     "output_type": "display_data"
    },
    {
     "name": "stdout",
     "output_type": "stream",
     "text": [
      "+---+------+-----------+------------+------------------------------------+\n",
      "|row|origin|destination|bus_stations|triptimes                           |\n",
      "+---+------+-----------+------------+------------------------------------+\n",
      "|1  |B     |MM         |[0, 2, 4]   |[2020-03-01, 2020-03-01, 2020-03-01]|\n",
      "|2  |BV    |IS         |[1, 8, 5]   |[2020-03-01, 2020-03-01, 2020-03-01]|\n",
      "|3  |TM    |CT         |[7, 2, 6]   |[2020-04-01, 2020-04-01, 2020-04-01]|\n",
      "|4  |CJ    |BC         |[3, 9, 8]   |[2020-05-01, 2020-05-01, 2020-05-01]|\n",
      "+---+------+-----------+------------+------------------------------------+"
     ]
    }
   ],
   "source": [
    "internal_bus_station_ids_agg = internal_bus_station_ids.groupBy('tripkey').agg(F.collect_list(F.struct(\"id\", \"bus_stations\")).alias(\"bus_unordered\")).orderBy(\"tripkey\")\n",
    "internal_bus_station_ids_agg = internal_bus_station_ids_agg.withColumn(\"bus_stations\", sort_udf(F.col(\"bus_unordered\"))).drop(\"bus_unordered\")\n",
    "trips_table_initial = trips_table.join(internal_bus_station_ids_agg.select(\"bus_stations\", \"tripkey\"), internal_bus_station_ids_agg.tripkey==trips_table.id, how=\"inner\").drop(\"tripkey\") \n",
    "\n",
    "trips_table_initial= trips_table_initial.join(triptimes_table_agg, triptimes_table_agg.tripkey==trips_table_initial.id, how=\"inner\")\n",
    "trips_table_initial = trips_table_initial.withColumn(\"default_value\",F.lit(\"ABC\")) #default value only to generate row_number\n",
    "w = Window().partitionBy('default_value').orderBy(F.lit('A'))\n",
    "trips_table_initial = trips_table_initial.withColumn(\"row\", F.row_number().over(w)).drop(\"default_value\")\n",
    "trips_table_initial = trips_table_initial.select(\"row\", \"origin\", \"destination\", \"bus_stations\", \"triptimes\")\n",
    "trips_table_initial.show(truncate=False)"
   ]
  },
  {
   "cell_type": "markdown",
   "id": "guided-communication",
   "metadata": {},
   "source": [
    "# Trips Fact Table"
   ]
  },
  {
   "cell_type": "code",
   "execution_count": 96,
   "id": "herbal-pendant",
   "metadata": {},
   "outputs": [
    {
     "data": {
      "application/vnd.jupyter.widget-view+json": {
       "model_id": "351e7375d1e148da80c811496572ba5a",
       "version_major": 2,
       "version_minor": 0
      },
      "text/plain": [
       "VBox()"
      ]
     },
     "metadata": {},
     "output_type": "display_data"
    },
    {
     "data": {
      "application/vnd.jupyter.widget-view+json": {
       "model_id": "",
       "version_major": 2,
       "version_minor": 0
      },
      "text/plain": [
       "FloatProgress(value=0.0, bar_style='info', description='Progress:', layout=Layout(height='25px', width='50%'),…"
      ]
     },
     "metadata": {},
     "output_type": "display_data"
    }
   ],
   "source": [
    "internal_bus_station_ids_fact_agg = internal_bus_station_ids.groupBy('tripkey').agg(F.collect_list(F.struct(\"id\", \"public_bus_station\")).alias(\"public_bus_unordered\")).orderBy(\"tripkey\")\n",
    "internal_bus_station_ids_fact_agg = internal_bus_station_ids_fact_agg.withColumn(\"public_bus_station\", sort_udf(F.col(\"public_bus_unordered\"))).drop(\"public_bus_unordered\")\n",
    "trips_table_fact = trips_table.join(internal_bus_station_ids_fact_agg.select(\"public_bus_station\", \"tripkey\"), internal_bus_station_ids_fact_agg.tripkey==trips_table.id, how=\"inner\") \n",
    "trips_table_fact = trips_table_fact.withColumn(\"default_value\",F.lit(\"ABC\")) #default value only to generate row_number\n",
    "w = Window().partitionBy('default_value').orderBy(F.lit('A'))\n",
    "trips_table_fact = trips_table_fact.withColumn(\"row\", F.row_number().over(w)).drop(\"default_value\")\n",
    "trips_table_fact = trips_table_fact.select(\"row\", \"origin\", \"destination\", \"public_bus_station\", F.col(\"min\").alias(\"duration\"))"
   ]
  },
  {
   "cell_type": "code",
   "execution_count": 97,
   "id": "fourth-thing",
   "metadata": {},
   "outputs": [
    {
     "data": {
      "application/vnd.jupyter.widget-view+json": {
       "model_id": "2882e0400115455fb38fe1f85f235870",
       "version_major": 2,
       "version_minor": 0
      },
      "text/plain": [
       "VBox()"
      ]
     },
     "metadata": {},
     "output_type": "display_data"
    },
    {
     "data": {
      "application/vnd.jupyter.widget-view+json": {
       "model_id": "",
       "version_major": 2,
       "version_minor": 0
      },
      "text/plain": [
       "FloatProgress(value=0.0, bar_style='info', description='Progress:', layout=Layout(height='25px', width='50%'),…"
      ]
     },
     "metadata": {},
     "output_type": "display_data"
    },
    {
     "name": "stdout",
     "output_type": "stream",
     "text": [
      "+---+------+-----------+------------------------------------+--------+\n",
      "|row|origin|destination|public_bus_station                  |duration|\n",
      "+---+------+-----------+------------------------------------+--------+\n",
      "|1  |B     |MM         |[BAutogara, SBAutogara, MMAutogara] |300     |\n",
      "|2  |BV    |IS         |[BVAutogara, BCAutogara, ISAutogara]|300     |\n",
      "|3  |TM    |CT         |[TMAutogara, SBAutogara, CTAutogara]|300     |\n",
      "|4  |CJ    |BC         |[CJAutogara, MSAutogara, BCAutogara]|300     |\n",
      "+---+------+-----------+------------------------------------+--------+"
     ]
    }
   ],
   "source": [
    "trips_table_fact.show(truncate=False)"
   ]
  },
  {
   "cell_type": "markdown",
   "id": "outer-relief",
   "metadata": {},
   "source": [
    "# Conclusions"
   ]
  },
  {
   "cell_type": "markdown",
   "id": "nearby-appointment",
   "metadata": {},
   "source": [
    "In Conclusion the final table is an OLAP Cube formed by aggregation from duration Fact table on the dimension columns (origin, destination, bus_station names)"
   ]
  },
  {
   "cell_type": "markdown",
   "id": "sexual-rescue",
   "metadata": {},
   "source": [
    "1. Station Dimension Table in tabular format "
   ]
  },
  {
   "cell_type": "code",
   "execution_count": 98,
   "id": "smoking-emphasis",
   "metadata": {},
   "outputs": [
    {
     "data": {
      "application/vnd.jupyter.widget-view+json": {
       "model_id": "eaebcad4356c4d298fc5723991a3d664",
       "version_major": 2,
       "version_minor": 0
      },
      "text/plain": [
       "VBox()"
      ]
     },
     "metadata": {},
     "output_type": "display_data"
    },
    {
     "data": {
      "application/vnd.jupyter.widget-view+json": {
       "model_id": "",
       "version_major": 2,
       "version_minor": 0
      },
      "text/plain": [
       "FloatProgress(value=0.0, bar_style='info', description='Progress:', layout=Layout(height='25px', width='50%'),…"
      ]
     },
     "metadata": {},
     "output_type": "display_data"
    },
    {
     "name": "stdout",
     "output_type": "stream",
     "text": [
      "+---+-------+------------+------------------+\n",
      "|id |tripkey|bus_stations|public_bus_station|\n",
      "+---+-------+------------+------------------+\n",
      "|0  |0      |0           |BAutogara         |\n",
      "|1  |0      |2           |SBAutogara        |\n",
      "|2  |0      |4           |MMAutogara        |\n",
      "|5  |1      |5           |ISAutogara        |\n",
      "|3  |1      |1           |BVAutogara        |\n",
      "|4  |1      |8           |BCAutogara        |\n",
      "|6  |2      |7           |TMAutogara        |\n",
      "|7  |2      |2           |SBAutogara        |\n",
      "|8  |2      |6           |CTAutogara        |\n",
      "|9  |3      |3           |CJAutogara        |\n",
      "|10 |3      |9           |MSAutogara        |\n",
      "|11 |3      |8           |BCAutogara        |\n",
      "+---+-------+------------+------------------+"
     ]
    }
   ],
   "source": [
    "internal_bus_station_ids.show(truncate=False)"
   ]
  },
  {
   "cell_type": "markdown",
   "id": "hired-allen",
   "metadata": {},
   "source": [
    "2. Trips Dimension Tables Origin and Destination"
   ]
  },
  {
   "cell_type": "code",
   "execution_count": 99,
   "id": "demanding-substitute",
   "metadata": {},
   "outputs": [
    {
     "data": {
      "application/vnd.jupyter.widget-view+json": {
       "model_id": "cd30414af0e54a438394056434d42819",
       "version_major": 2,
       "version_minor": 0
      },
      "text/plain": [
       "VBox()"
      ]
     },
     "metadata": {},
     "output_type": "display_data"
    },
    {
     "data": {
      "application/vnd.jupyter.widget-view+json": {
       "model_id": "",
       "version_major": 2,
       "version_minor": 0
      },
      "text/plain": [
       "FloatProgress(value=0.0, bar_style='info', description='Progress:', layout=Layout(height='25px', width='50%'),…"
      ]
     },
     "metadata": {},
     "output_type": "display_data"
    },
    {
     "name": "stdout",
     "output_type": "stream",
     "text": [
      "+---+------+-----------+\n",
      "|id |origin|destination|\n",
      "+---+------+-----------+\n",
      "|0  |B     |MM         |\n",
      "|1  |BV    |IS         |\n",
      "|2  |TM    |CT         |\n",
      "|3  |CJ    |BC         |\n",
      "+---+------+-----------+"
     ]
    }
   ],
   "source": [
    "trips_table.select(\"id\",  \"origin\", \"destination\").show(truncate=False)"
   ]
  },
  {
   "cell_type": "markdown",
   "id": "current-senegal",
   "metadata": {},
   "source": [
    "3. Trips Dimension Tables Triptimes"
   ]
  },
  {
   "cell_type": "code",
   "execution_count": 100,
   "id": "balanced-brooks",
   "metadata": {},
   "outputs": [
    {
     "data": {
      "application/vnd.jupyter.widget-view+json": {
       "model_id": "c8af6cb9931e4c17a3165f7123fec768",
       "version_major": 2,
       "version_minor": 0
      },
      "text/plain": [
       "VBox()"
      ]
     },
     "metadata": {},
     "output_type": "display_data"
    },
    {
     "data": {
      "application/vnd.jupyter.widget-view+json": {
       "model_id": "",
       "version_major": 2,
       "version_minor": 0
      },
      "text/plain": [
       "FloatProgress(value=0.0, bar_style='info', description='Progress:', layout=Layout(height='25px', width='50%'),…"
      ]
     },
     "metadata": {},
     "output_type": "display_data"
    },
    {
     "name": "stdout",
     "output_type": "stream",
     "text": [
      "+---+-------+-------------------+\n",
      "| id|tripkey|                 dt|\n",
      "+---+-------+-------------------+\n",
      "|  3|      1|2020-03-01 10:10:00|\n",
      "|  0|      0|2020-03-01 10:10:00|\n",
      "|  1|      0|2020-03-01 12:20:10|\n",
      "|  4|      1|2020-03-01 12:20:10|\n",
      "|  2|      0|2020-03-01 15:10:00|\n",
      "|  5|      1|2020-03-01 15:10:00|\n",
      "|  6|      2|2020-04-01 10:10:00|\n",
      "|  7|      2|2020-04-01 12:20:10|\n",
      "|  8|      2|2020-04-01 15:10:00|\n",
      "|  9|      3|2020-05-01 10:10:00|\n",
      "| 10|      3|2020-05-01 12:20:10|\n",
      "| 11|      3|2020-05-01 15:10:00|\n",
      "+---+-------+-------------------+"
     ]
    }
   ],
   "source": [
    "triptimes_table.show()"
   ]
  },
  {
   "cell_type": "markdown",
   "id": "norman-teaching",
   "metadata": {},
   "source": [
    "4. Fact Duration Table"
   ]
  },
  {
   "cell_type": "code",
   "execution_count": 101,
   "id": "bizarre-statistics",
   "metadata": {},
   "outputs": [
    {
     "data": {
      "application/vnd.jupyter.widget-view+json": {
       "model_id": "bedae366d96345d98c77175274dcb904",
       "version_major": 2,
       "version_minor": 0
      },
      "text/plain": [
       "VBox()"
      ]
     },
     "metadata": {},
     "output_type": "display_data"
    },
    {
     "data": {
      "application/vnd.jupyter.widget-view+json": {
       "model_id": "",
       "version_major": 2,
       "version_minor": 0
      },
      "text/plain": [
       "FloatProgress(value=0.0, bar_style='info', description='Progress:', layout=Layout(height='25px', width='50%'),…"
      ]
     },
     "metadata": {},
     "output_type": "display_data"
    },
    {
     "name": "stdout",
     "output_type": "stream",
     "text": [
      "+-------+------------------------------------+---+\n",
      "|tripkey|triptimes                           |min|\n",
      "+-------+------------------------------------+---+\n",
      "|0      |[2020-03-01, 2020-03-01, 2020-03-01]|300|\n",
      "|1      |[2020-03-01, 2020-03-01, 2020-03-01]|300|\n",
      "|2      |[2020-04-01, 2020-04-01, 2020-04-01]|300|\n",
      "|3      |[2020-05-01, 2020-05-01, 2020-05-01]|300|\n",
      "+-------+------------------------------------+---+"
     ]
    }
   ],
   "source": [
    "triptimes_table_agg.show(truncate=False)"
   ]
  },
  {
   "cell_type": "markdown",
   "id": "religious-february",
   "metadata": {},
   "source": [
    "5. Initial Table"
   ]
  },
  {
   "cell_type": "code",
   "execution_count": 102,
   "id": "automated-anniversary",
   "metadata": {},
   "outputs": [
    {
     "data": {
      "application/vnd.jupyter.widget-view+json": {
       "model_id": "0f1e3cb1cd4a4546b2edfbd018b60953",
       "version_major": 2,
       "version_minor": 0
      },
      "text/plain": [
       "VBox()"
      ]
     },
     "metadata": {},
     "output_type": "display_data"
    },
    {
     "data": {
      "application/vnd.jupyter.widget-view+json": {
       "model_id": "",
       "version_major": 2,
       "version_minor": 0
      },
      "text/plain": [
       "FloatProgress(value=0.0, bar_style='info', description='Progress:', layout=Layout(height='25px', width='50%'),…"
      ]
     },
     "metadata": {},
     "output_type": "display_data"
    },
    {
     "name": "stdout",
     "output_type": "stream",
     "text": [
      "+---+------+-----------+------------+------------------------------------+\n",
      "|row|origin|destination|bus_stations|triptimes                           |\n",
      "+---+------+-----------+------------+------------------------------------+\n",
      "|1  |B     |MM         |[0, 2, 4]   |[2020-03-01, 2020-03-01, 2020-03-01]|\n",
      "|2  |BV    |IS         |[1, 8, 5]   |[2020-03-01, 2020-03-01, 2020-03-01]|\n",
      "|3  |TM    |CT         |[7, 2, 6]   |[2020-04-01, 2020-04-01, 2020-04-01]|\n",
      "|4  |CJ    |BC         |[3, 9, 8]   |[2020-05-01, 2020-05-01, 2020-05-01]|\n",
      "+---+------+-----------+------------+------------------------------------+"
     ]
    }
   ],
   "source": [
    "trips_table_initial.show(truncate=False)"
   ]
  },
  {
   "cell_type": "markdown",
   "id": "packed-devil",
   "metadata": {},
   "source": [
    "6. Final Fact Table aggregated(OLAP Cube) on dimensions"
   ]
  },
  {
   "cell_type": "code",
   "execution_count": 103,
   "id": "stable-panama",
   "metadata": {},
   "outputs": [
    {
     "data": {
      "application/vnd.jupyter.widget-view+json": {
       "model_id": "8c1a081398ca412d8638315fece8078b",
       "version_major": 2,
       "version_minor": 0
      },
      "text/plain": [
       "VBox()"
      ]
     },
     "metadata": {},
     "output_type": "display_data"
    },
    {
     "data": {
      "application/vnd.jupyter.widget-view+json": {
       "model_id": "",
       "version_major": 2,
       "version_minor": 0
      },
      "text/plain": [
       "FloatProgress(value=0.0, bar_style='info', description='Progress:', layout=Layout(height='25px', width='50%'),…"
      ]
     },
     "metadata": {},
     "output_type": "display_data"
    },
    {
     "name": "stdout",
     "output_type": "stream",
     "text": [
      "+---+------+-----------+------------------------------------+--------+\n",
      "|row|origin|destination|public_bus_station                  |duration|\n",
      "+---+------+-----------+------------------------------------+--------+\n",
      "|1  |B     |MM         |[BAutogara, SBAutogara, MMAutogara] |300     |\n",
      "|2  |BV    |IS         |[BVAutogara, BCAutogara, ISAutogara]|300     |\n",
      "|3  |TM    |CT         |[TMAutogara, SBAutogara, CTAutogara]|300     |\n",
      "|4  |CJ    |BC         |[CJAutogara, MSAutogara, BCAutogara]|300     |\n",
      "+---+------+-----------+------------------------------------+--------+"
     ]
    }
   ],
   "source": [
    "trips_table_fact.show(truncate=False)"
   ]
  }
 ],
 "metadata": {
  "kernelspec": {
   "display_name": "PySpark",
   "language": "",
   "name": "pysparkkernel"
  },
  "language_info": {
   "codemirror_mode": {
    "name": "python",
    "version": 2
   },
   "mimetype": "text/x-python",
   "name": "pyspark",
   "pygments_lexer": "python2"
  }
 },
 "nbformat": 4,
 "nbformat_minor": 5
}
