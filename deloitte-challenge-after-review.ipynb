{
 "cells": [
  {
   "cell_type": "code",
   "execution_count": 1,
   "id": "7f12a6f9",
   "metadata": {},
   "outputs": [
    {
     "data": {
      "application/vnd.jupyter.widget-view+json": {
       "model_id": "1c274b5bd9e54487b63dbb0ad32453fb",
       "version_major": 2,
       "version_minor": 0
      },
      "text/plain": [
       "VBox()"
      ]
     },
     "metadata": {},
     "output_type": "display_data"
    },
    {
     "name": "stdout",
     "output_type": "stream",
     "text": [
      "Starting Spark application\n"
     ]
    },
    {
     "data": {
      "text/html": [
       "<table>\n",
       "<tr><th>ID</th><th>YARN Application ID</th><th>Kind</th><th>State</th><th>Spark UI</th><th>Driver log</th><th>Current session?</th></tr><tr><td>1</td><td>application_1619342430964_0002</td><td>pyspark</td><td>idle</td><td><a target=\"_blank\" href=\"http://ip-172-31-47-89.us-west-2.compute.internal:20888/proxy/application_1619342430964_0002/\">Link</a></td><td><a target=\"_blank\" href=\"http://ip-172-31-32-38.us-west-2.compute.internal:8042/node/containerlogs/container_1619342430964_0002_01_000001/livy\">Link</a></td><td>✔</td></tr></table>"
      ],
      "text/plain": [
       "<IPython.core.display.HTML object>"
      ]
     },
     "metadata": {},
     "output_type": "display_data"
    },
    {
     "data": {
      "application/vnd.jupyter.widget-view+json": {
       "model_id": "",
       "version_major": 2,
       "version_minor": 0
      },
      "text/plain": [
       "FloatProgress(value=0.0, bar_style='info', description='Progress:', layout=Layout(height='25px', width='50%'),…"
      ]
     },
     "metadata": {},
     "output_type": "display_data"
    },
    {
     "name": "stdout",
     "output_type": "stream",
     "text": [
      "SparkSession available as 'spark'.\n"
     ]
    },
    {
     "data": {
      "application/vnd.jupyter.widget-view+json": {
       "model_id": "",
       "version_major": 2,
       "version_minor": 0
      },
      "text/plain": [
       "FloatProgress(value=0.0, bar_style='info', description='Progress:', layout=Layout(height='25px', width='50%'),…"
      ]
     },
     "metadata": {},
     "output_type": "display_data"
    }
   ],
   "source": [
    "import os\n",
    "import pyspark.sql.functions as F\n",
    "import pyspark.sql.types as T\n",
    "from pyspark.sql import SparkSession\n",
    "import json\n",
    "import re\n",
    "import logging\n",
    "from pyspark.sql.window import Window\n",
    "import operator"
   ]
  },
  {
   "cell_type": "code",
   "execution_count": 2,
   "id": "8dbbf559",
   "metadata": {},
   "outputs": [
    {
     "data": {
      "application/vnd.jupyter.widget-view+json": {
       "model_id": "5e8fc731407a46ca89b5b85634fefd13",
       "version_major": 2,
       "version_minor": 0
      },
      "text/plain": [
       "VBox()"
      ]
     },
     "metadata": {},
     "output_type": "display_data"
    },
    {
     "data": {
      "application/vnd.jupyter.widget-view+json": {
       "model_id": "",
       "version_major": 2,
       "version_minor": 0
      },
      "text/plain": [
       "FloatProgress(value=0.0, bar_style='info', description='Progress:', layout=Layout(height='25px', width='50%'),…"
      ]
     },
     "metadata": {},
     "output_type": "display_data"
    }
   ],
   "source": [
    "spark = SparkSession.builder.appName(\"Deloitte Challenge Test\").config(\"spark.jars.packages\",\"org.apache.hadoop:hadoop-aws:2.7.0\").getOrCreate()"
   ]
  },
  {
   "cell_type": "markdown",
   "id": "3f97140d",
   "metadata": {},
   "source": [
    "## JSON FILES PATHS"
   ]
  },
  {
   "cell_type": "code",
   "execution_count": 3,
   "id": "2d614e56",
   "metadata": {},
   "outputs": [
    {
     "data": {
      "application/vnd.jupyter.widget-view+json": {
       "model_id": "79043269342b4a9bad9382bd885136c7",
       "version_major": 2,
       "version_minor": 0
      },
      "text/plain": [
       "VBox()"
      ]
     },
     "metadata": {},
     "output_type": "display_data"
    },
    {
     "data": {
      "application/vnd.jupyter.widget-view+json": {
       "model_id": "",
       "version_major": 2,
       "version_minor": 0
      },
      "text/plain": [
       "FloatProgress(value=0.0, bar_style='info', description='Progress:', layout=Layout(height='25px', width='50%'),…"
      ]
     },
     "metadata": {},
     "output_type": "display_data"
    }
   ],
   "source": [
    "stations_data = \"s3a://deloitte-ciprian-test/data/source/stations.json\"\n",
    "trips_data = \"s3a://deloitte-ciprian-test/data/source/trips.json\""
   ]
  },
  {
   "cell_type": "markdown",
   "id": "e6bd10b7",
   "metadata": {},
   "source": [
    "## Read Data From Files"
   ]
  },
  {
   "cell_type": "code",
   "execution_count": 7,
   "id": "37205c8e",
   "metadata": {},
   "outputs": [
    {
     "data": {
      "application/vnd.jupyter.widget-view+json": {
       "model_id": "1235e5c2d1054504bac7de51a5174fe2",
       "version_major": 2,
       "version_minor": 0
      },
      "text/plain": [
       "VBox()"
      ]
     },
     "metadata": {},
     "output_type": "display_data"
    },
    {
     "data": {
      "application/vnd.jupyter.widget-view+json": {
       "model_id": "",
       "version_major": 2,
       "version_minor": 0
      },
      "text/plain": [
       "FloatProgress(value=0.0, bar_style='info', description='Progress:', layout=Layout(height='25px', width='50%'),…"
      ]
     },
     "metadata": {},
     "output_type": "display_data"
    },
    {
     "name": "stdout",
     "output_type": "stream",
     "text": [
      "-RECORD 0------------------------------------------------------------------------------------------------------------------------------------------------------\n",
      " internal_bus_station_id | [0, 1, 2, 3, 4, 5, 6, 7, 8, 9, 5]                                                                                                   \n",
      " public_bus_station      | [BAutogara, BVAutogara, SBAutogara, CJAutogara, MMAutogara, ISAutogara, CTAutogara, TMAutogara, BCAutogara, MSAutogara, ISAutogara]"
     ]
    }
   ],
   "source": [
    "df_stations = spark.read.option(\"multiline\", \"true\").json(stations_data)\n",
    "df_stations.show(truncate=False, vertical=True)"
   ]
  },
  {
   "cell_type": "markdown",
   "id": "361881bd",
   "metadata": {},
   "source": [
    "### Read data from Trips File using Schema"
   ]
  },
  {
   "cell_type": "code",
   "execution_count": 9,
   "id": "6ffc7716",
   "metadata": {},
   "outputs": [
    {
     "data": {
      "application/vnd.jupyter.widget-view+json": {
       "model_id": "8f868078ed4145a68aa80d4f7b362a7b",
       "version_major": 2,
       "version_minor": 0
      },
      "text/plain": [
       "VBox()"
      ]
     },
     "metadata": {},
     "output_type": "display_data"
    },
    {
     "data": {
      "application/vnd.jupyter.widget-view+json": {
       "model_id": "",
       "version_major": 2,
       "version_minor": 0
      },
      "text/plain": [
       "FloatProgress(value=0.0, bar_style='info', description='Progress:', layout=Layout(height='25px', width='50%'),…"
      ]
     },
     "metadata": {},
     "output_type": "display_data"
    },
    {
     "name": "stdout",
     "output_type": "stream",
     "text": [
      "-RECORD 0----------------------------------------------------------------------------------------------------------------------------------------------------------------------------------------------------------------------------------------------------------------------------------------\n",
      " ORIGIN                   | [B, BV, TM, CJ]                                                                                                                                                                                                                                                      \n",
      " DESTINATION              | [MM, IS, CT, BC]                                                                                                                                                                                                                                                     \n",
      " INTERNAL_BUS_STATION_IDS | [[0, 2, 4], [1, 8, 5], [7, 2, 6], [3, 9, 8]]                                                                                                                                                                                                                         \n",
      " TRIPTIMES                | [[2020-03-01 10:10:00, 2020-03-01 12:20:10, 2020-03-01 15:10:00], [2020-03-01 10:10:00, 2020-03-01 12:20:10, 2020-03-01 15:10:00], [2020-04-01 10:10:00, 2020-04-01 12:20:10, 2020-04-01 15:10:00], [2020-05-01 10:10:00, 2020-05-01 12:20:10, 2020-05-01 15:10:00]] \n",
      "\n",
      "root\n",
      " |-- ORIGIN: array (nullable = true)\n",
      " |    |-- element: string (containsNull = true)\n",
      " |-- DESTINATION: array (nullable = true)\n",
      " |    |-- element: string (containsNull = true)\n",
      " |-- INTERNAL_BUS_STATION_IDS: array (nullable = true)\n",
      " |    |-- element: array (containsNull = true)\n",
      " |    |    |-- element: integer (containsNull = true)\n",
      " |-- TRIPTIMES: array (nullable = true)\n",
      " |    |-- element: array (containsNull = true)\n",
      " |    |    |-- element: string (containsNull = true)"
     ]
    }
   ],
   "source": [
    "schema = T.StructType([\n",
    "    T.StructField(\"ORIGIN\", T.ArrayType(T.StringType(), True), True),\n",
    "    T.StructField(\"DESTINATION\", T.ArrayType(T.StringType(), True), True),\n",
    "    T.StructField(\"INTERNAL_BUS_STATION_IDS\", T.ArrayType(T.ArrayType(T.IntegerType())), True),\n",
    "    T.StructField(\"TRIPTIMES\", T.ArrayType(T.ArrayType(T.StringType(), True), True), True),\n",
    "])\n",
    "\n",
    "df_trips = spark.read.schema(schema).option(\"multiline\", \"true\")\\\n",
    ".option(\"mode\", \"PERMISSIVE\")\\\n",
    ".option(\"columnNameOfCorruptRecord\", \"_corrupt_record\").json(trips_data)\n",
    "df_trips.show(truncate=False, vertical=True)\n",
    "df_trips.printSchema()"
   ]
  },
  {
   "cell_type": "markdown",
   "id": "fcbb9b4d",
   "metadata": {},
   "source": [
    "### EXPLODE the arrays from station File coresponding to id and name station columns"
   ]
  },
  {
   "cell_type": "code",
   "execution_count": 10,
   "id": "6b147ca7",
   "metadata": {},
   "outputs": [
    {
     "data": {
      "application/vnd.jupyter.widget-view+json": {
       "model_id": "75bd689bb4514d9fa08bdc758c3ca9a3",
       "version_major": 2,
       "version_minor": 0
      },
      "text/plain": [
       "VBox()"
      ]
     },
     "metadata": {},
     "output_type": "display_data"
    },
    {
     "data": {
      "application/vnd.jupyter.widget-view+json": {
       "model_id": "",
       "version_major": 2,
       "version_minor": 0
      },
      "text/plain": [
       "FloatProgress(value=0.0, bar_style='info', description='Progress:', layout=Layout(height='25px', width='50%'),…"
      ]
     },
     "metadata": {},
     "output_type": "display_data"
    }
   ],
   "source": [
    "df_internal_bus_station_id_exploded = df_stations.select(F.posexplode(F.col('internal_bus_station_id')))\n",
    "df_bus_station_exploded = df_stations.select(F.posexplode(F.col('public_bus_station')))"
   ]
  },
  {
   "cell_type": "code",
   "execution_count": 11,
   "id": "7ca30784",
   "metadata": {},
   "outputs": [
    {
     "data": {
      "application/vnd.jupyter.widget-view+json": {
       "model_id": "fb844effc65b4d6da31842e7b62ed431",
       "version_major": 2,
       "version_minor": 0
      },
      "text/plain": [
       "VBox()"
      ]
     },
     "metadata": {},
     "output_type": "display_data"
    },
    {
     "data": {
      "application/vnd.jupyter.widget-view+json": {
       "model_id": "",
       "version_major": 2,
       "version_minor": 0
      },
      "text/plain": [
       "FloatProgress(value=0.0, bar_style='info', description='Progress:', layout=Layout(height='25px', width='50%'),…"
      ]
     },
     "metadata": {},
     "output_type": "display_data"
    }
   ],
   "source": [
    "inner_stations_join = df_internal_bus_station_id_exploded.select(F.col('col').alias('internal_bus_station_id'), F.col('pos')).join(df_bus_station_exploded.select(F.col('col').alias('public_bus_station'), F.col('pos')), df_internal_bus_station_id_exploded.pos == df_bus_station_exploded.pos, how='inner')"
   ]
  },
  {
   "cell_type": "markdown",
   "id": "29b1f497",
   "metadata": {},
   "source": [
    "## STATIONS TABLE"
   ]
  },
  {
   "cell_type": "code",
   "execution_count": 12,
   "id": "77996393",
   "metadata": {},
   "outputs": [
    {
     "data": {
      "application/vnd.jupyter.widget-view+json": {
       "model_id": "a389183294a740dcb60bba23d6f78eea",
       "version_major": 2,
       "version_minor": 0
      },
      "text/plain": [
       "VBox()"
      ]
     },
     "metadata": {},
     "output_type": "display_data"
    },
    {
     "data": {
      "application/vnd.jupyter.widget-view+json": {
       "model_id": "",
       "version_major": 2,
       "version_minor": 0
      },
      "text/plain": [
       "FloatProgress(value=0.0, bar_style='info', description='Progress:', layout=Layout(height='25px', width='50%'),…"
      ]
     },
     "metadata": {},
     "output_type": "display_data"
    }
   ],
   "source": [
    "inner_stations_join = inner_stations_join.select(\"internal_bus_station_id\", \"public_bus_station\")\n",
    "inner_stations_distinct_join = inner_stations_join.drop_duplicates(subset=['internal_bus_station_id'])\n",
    "inner_stations_distinct_join.show()"
   ]
  },
  {
   "cell_type": "markdown",
   "id": "0b2c58c8",
   "metadata": {},
   "source": [
    "### EXPLODE the External Array from Trips File coresponding to INTERNAL_BUS_STATION_IDS column"
   ]
  },
  {
   "cell_type": "code",
   "execution_count": 34,
   "id": "e96a3275",
   "metadata": {},
   "outputs": [
    {
     "data": {
      "application/vnd.jupyter.widget-view+json": {
       "model_id": "b36b15d756974a909a83ccf679e8b148",
       "version_major": 2,
       "version_minor": 0
      },
      "text/plain": [
       "VBox()"
      ]
     },
     "metadata": {},
     "output_type": "display_data"
    },
    {
     "data": {
      "application/vnd.jupyter.widget-view+json": {
       "model_id": "",
       "version_major": 2,
       "version_minor": 0
      },
      "text/plain": [
       "FloatProgress(value=0.0, bar_style='info', description='Progress:', layout=Layout(height='25px', width='50%'),…"
      ]
     },
     "metadata": {},
     "output_type": "display_data"
    },
    {
     "name": "stdout",
     "output_type": "stream",
     "text": [
      "+-------+------------+\n",
      "|tripkey|bus_stations|\n",
      "+-------+------------+\n",
      "|      0|   [0, 2, 4]|\n",
      "|      1|   [1, 8, 5]|\n",
      "|      2|   [7, 2, 6]|\n",
      "|      3|   [3, 9, 8]|\n",
      "+-------+------------+"
     ]
    }
   ],
   "source": [
    "df_trips_internal_bus_station_ids_exploded = df_trips.select(F.posexplode(F.col('INTERNAL_BUS_STATION_IDS')))\n",
    "df_trips_internal_bus_station_ids_exploded = df_trips_internal_bus_station_ids_exploded.select(F.col(\"pos\").alias(\"tripkey\"), F.col(\"col\").alias(\"bus_stations\"))\n",
    "df_trips_internal_bus_station_ids_exploded.show()"
   ]
  },
  {
   "cell_type": "markdown",
   "id": "b2595fe2",
   "metadata": {},
   "source": [
    "### EXPLODE the Arrays from Trips File coresponding to ORIGIN, DESTINATION and TRIPTIMES columns"
   ]
  },
  {
   "cell_type": "code",
   "execution_count": 28,
   "id": "6364fa7e",
   "metadata": {},
   "outputs": [
    {
     "data": {
      "application/vnd.jupyter.widget-view+json": {
       "model_id": "8d92c9382e7a4b7db4c2b602e1af5b3e",
       "version_major": 2,
       "version_minor": 0
      },
      "text/plain": [
       "VBox()"
      ]
     },
     "metadata": {},
     "output_type": "display_data"
    },
    {
     "data": {
      "application/vnd.jupyter.widget-view+json": {
       "model_id": "",
       "version_major": 2,
       "version_minor": 0
      },
      "text/plain": [
       "FloatProgress(value=0.0, bar_style='info', description='Progress:', layout=Layout(height='25px', width='50%'),…"
      ]
     },
     "metadata": {},
     "output_type": "display_data"
    }
   ],
   "source": [
    "df_trips_origin = df_trips.select(F.posexplode(F.col('ORIGIN')))\n",
    "df_trips_dest = df_trips.select(F.posexplode(F.col('DESTINATION')))\n",
    "df_trips_triptimes = df_trips.select(F.posexplode(F.col('TRIPTIMES')))"
   ]
  },
  {
   "cell_type": "markdown",
   "id": "b6b1a164",
   "metadata": {},
   "source": [
    "## JOIN TABLES to create the INITIAL Table"
   ]
  },
  {
   "cell_type": "code",
   "execution_count": 29,
   "id": "10d07fa5",
   "metadata": {},
   "outputs": [
    {
     "data": {
      "application/vnd.jupyter.widget-view+json": {
       "model_id": "ae3b53bdc34744bc95ae19e858982a5e",
       "version_major": 2,
       "version_minor": 0
      },
      "text/plain": [
       "VBox()"
      ]
     },
     "metadata": {},
     "output_type": "display_data"
    },
    {
     "data": {
      "application/vnd.jupyter.widget-view+json": {
       "model_id": "",
       "version_major": 2,
       "version_minor": 0
      },
      "text/plain": [
       "FloatProgress(value=0.0, bar_style='info', description='Progress:', layout=Layout(height='25px', width='50%'),…"
      ]
     },
     "metadata": {},
     "output_type": "display_data"
    }
   ],
   "source": [
    "df_trips_origin.createOrReplaceTempView(\"origin_table\")\n",
    "df_trips_dest.createOrReplaceTempView(\"dest_table\")\n",
    "df_trips_triptimes.createOrReplaceTempView(\"triptimes_table\")\n",
    "df_trips_internal_bus_station_ids_exploded.createOrReplaceTempView(\"bus_stations_table\")"
   ]
  },
  {
   "cell_type": "markdown",
   "id": "0b9bab1c",
   "metadata": {},
   "source": [
    "# INITIAL TABLE"
   ]
  },
  {
   "cell_type": "code",
   "execution_count": 30,
   "id": "8ebede8f",
   "metadata": {},
   "outputs": [
    {
     "data": {
      "application/vnd.jupyter.widget-view+json": {
       "model_id": "8cb22180af35422eb51fe68ed89bebd7",
       "version_major": 2,
       "version_minor": 0
      },
      "text/plain": [
       "VBox()"
      ]
     },
     "metadata": {},
     "output_type": "display_data"
    },
    {
     "data": {
      "application/vnd.jupyter.widget-view+json": {
       "model_id": "",
       "version_major": 2,
       "version_minor": 0
      },
      "text/plain": [
       "FloatProgress(value=0.0, bar_style='info', description='Progress:', layout=Layout(height='25px', width='50%'),…"
      ]
     },
     "metadata": {},
     "output_type": "display_data"
    },
    {
     "name": "stdout",
     "output_type": "stream",
     "text": [
      "+-------+------+-----------+------------+---------------------------------------------------------------+\n",
      "|row_num|origin|destination|bus_stations|triptimes                                                      |\n",
      "+-------+------+-----------+------------+---------------------------------------------------------------+\n",
      "|1      |B     |MM         |[0, 2, 4]   |[2020-03-01 10:10:00, 2020-03-01 12:20:10, 2020-03-01 15:10:00]|\n",
      "|2      |BV    |IS         |[1, 8, 5]   |[2020-03-01 10:10:00, 2020-03-01 12:20:10, 2020-03-01 15:10:00]|\n",
      "|3      |TM    |CT         |[7, 2, 6]   |[2020-04-01 10:10:00, 2020-04-01 12:20:10, 2020-04-01 15:10:00]|\n",
      "|4      |CJ    |BC         |[3, 9, 8]   |[2020-05-01 10:10:00, 2020-05-01 12:20:10, 2020-05-01 15:10:00]|\n",
      "+-------+------+-----------+------------+---------------------------------------------------------------+"
     ]
    }
   ],
   "source": [
    "initial_table = spark.sql(\"\"\"\n",
    "        SELECT \n",
    "        ROW_NUMBER() OVER(ORDER BY a.tripkey ASC) AS row_num,\n",
    "        b.col as origin, \n",
    "        c.col as destination, \n",
    "        a.bus_stations as bus_stations,\n",
    "        d.col as triptimes\n",
    "        FROM bus_stations_table as a\n",
    "        JOIN origin_table as b ON a.tripkey = b.pos\n",
    "        JOIN dest_table as c ON b.pos=c.pos\n",
    "        JOIN triptimes_table as d ON a.tripkey=d.pos\n",
    "        ORDER BY a.tripkey\n",
    "        \"\"\")\n",
    "initial_table.show(truncate=False)"
   ]
  },
  {
   "cell_type": "markdown",
   "id": "b5045fad",
   "metadata": {},
   "source": [
    "### EXPLODE the Internal Array from Trips File coresponding to INTERNAL_BUS_STATION_IDS column"
   ]
  },
  {
   "cell_type": "code",
   "execution_count": 35,
   "id": "945975b5",
   "metadata": {},
   "outputs": [
    {
     "data": {
      "application/vnd.jupyter.widget-view+json": {
       "model_id": "b5a1dcc05df64ecdb20771b4827aa713",
       "version_major": 2,
       "version_minor": 0
      },
      "text/plain": [
       "VBox()"
      ]
     },
     "metadata": {},
     "output_type": "display_data"
    },
    {
     "data": {
      "application/vnd.jupyter.widget-view+json": {
       "model_id": "",
       "version_major": 2,
       "version_minor": 0
      },
      "text/plain": [
       "FloatProgress(value=0.0, bar_style='info', description='Progress:', layout=Layout(height='25px', width='50%'),…"
      ]
     },
     "metadata": {},
     "output_type": "display_data"
    },
    {
     "name": "stdout",
     "output_type": "stream",
     "text": [
      "+-------+---+---+\n",
      "|tripkey|pos|col|\n",
      "+-------+---+---+\n",
      "|      0|  0|  0|\n",
      "|      0|  1|  2|\n",
      "|      0|  2|  4|\n",
      "|      1|  0|  1|\n",
      "|      1|  1|  8|\n",
      "|      1|  2|  5|\n",
      "|      2|  0|  7|\n",
      "|      2|  1|  2|\n",
      "|      2|  2|  6|\n",
      "|      3|  0|  3|\n",
      "|      3|  1|  9|\n",
      "|      3|  2|  8|\n",
      "+-------+---+---+"
     ]
    }
   ],
   "source": [
    "df_trips_internal_bus_station_ids_exploded = df_trips_internal_bus_station_ids_exploded.select(F.col('tripkey'), F.posexplode(F.col('bus_stations')))\n",
    "df_trips_internal_bus_station_ids_exploded.show()"
   ]
  },
  {
   "cell_type": "markdown",
   "id": "5c60107f",
   "metadata": {},
   "source": [
    "### Merge the bus stations Id columns with names grouped and ordered for each trip"
   ]
  },
  {
   "cell_type": "code",
   "execution_count": 37,
   "id": "4666325c",
   "metadata": {},
   "outputs": [
    {
     "data": {
      "application/vnd.jupyter.widget-view+json": {
       "model_id": "e37c6dcd4701470cb8c73d3a9c0b84b4",
       "version_major": 2,
       "version_minor": 0
      },
      "text/plain": [
       "VBox()"
      ]
     },
     "metadata": {},
     "output_type": "display_data"
    },
    {
     "data": {
      "application/vnd.jupyter.widget-view+json": {
       "model_id": "",
       "version_major": 2,
       "version_minor": 0
      },
      "text/plain": [
       "FloatProgress(value=0.0, bar_style='info', description='Progress:', layout=Layout(height='25px', width='50%'),…"
      ]
     },
     "metadata": {},
     "output_type": "display_data"
    },
    {
     "name": "stdout",
     "output_type": "stream",
     "text": [
      "+-------+---+---+-----------------------+------------------+\n",
      "|tripkey|pos|col|internal_bus_station_id|public_bus_station|\n",
      "+-------+---+---+-----------------------+------------------+\n",
      "|      0|  0|  0|                      0|         BAutogara|\n",
      "|      2|  0|  7|                      7|        TMAutogara|\n",
      "|      2|  2|  6|                      6|        CTAutogara|\n",
      "|      3|  1|  9|                      9|        MSAutogara|\n",
      "|      1|  2|  5|                      5|        ISAutogara|\n",
      "|      1|  0|  1|                      1|        BVAutogara|\n",
      "|      3|  0|  3|                      3|        CJAutogara|\n",
      "|      3|  2|  8|                      8|        BCAutogara|\n",
      "|      1|  1|  8|                      8|        BCAutogara|\n",
      "|      2|  1|  2|                      2|        SBAutogara|\n",
      "|      0|  1|  2|                      2|        SBAutogara|\n",
      "|      0|  2|  4|                      4|        MMAutogara|\n",
      "+-------+---+---+-----------------------+------------------+"
     ]
    }
   ],
   "source": [
    "df_stations_ids_names = df_trips_internal_bus_station_ids_exploded.join(inner_stations_distinct_join, inner_stations_distinct_join.internal_bus_station_id==df_trips_internal_bus_station_ids_exploded.col, how=\"inner\")\n",
    "df_stations_ids_names.show()"
   ]
  },
  {
   "cell_type": "markdown",
   "id": "a7f16bf4",
   "metadata": {},
   "source": [
    "### Order data in each array after apply collect list"
   ]
  },
  {
   "cell_type": "code",
   "execution_count": 40,
   "id": "14f85743",
   "metadata": {},
   "outputs": [
    {
     "data": {
      "application/vnd.jupyter.widget-view+json": {
       "model_id": "95419ba68cf949e0a40e8d849167c42a",
       "version_major": 2,
       "version_minor": 0
      },
      "text/plain": [
       "VBox()"
      ]
     },
     "metadata": {},
     "output_type": "display_data"
    },
    {
     "data": {
      "application/vnd.jupyter.widget-view+json": {
       "model_id": "",
       "version_major": 2,
       "version_minor": 0
      },
      "text/plain": [
       "FloatProgress(value=0.0, bar_style='info', description='Progress:', layout=Layout(height='25px', width='50%'),…"
      ]
     },
     "metadata": {},
     "output_type": "display_data"
    }
   ],
   "source": [
    "def sorter(l):\n",
    "  res = sorted(l, key=operator.itemgetter(0))\n",
    "  return [item[1] for item in res]\n",
    "\n",
    "sort_udf = F.udf(sorter, T.ArrayType(T.StringType()))"
   ]
  },
  {
   "cell_type": "markdown",
   "id": "ffdb5cba",
   "metadata": {},
   "source": [
    "## Bus Stations Names for Final Table"
   ]
  },
  {
   "cell_type": "code",
   "execution_count": 41,
   "id": "0c0ed288",
   "metadata": {},
   "outputs": [
    {
     "data": {
      "application/vnd.jupyter.widget-view+json": {
       "model_id": "f1a98d89c3064008905b1d34cc4af717",
       "version_major": 2,
       "version_minor": 0
      },
      "text/plain": [
       "VBox()"
      ]
     },
     "metadata": {},
     "output_type": "display_data"
    },
    {
     "data": {
      "application/vnd.jupyter.widget-view+json": {
       "model_id": "",
       "version_major": 2,
       "version_minor": 0
      },
      "text/plain": [
       "FloatProgress(value=0.0, bar_style='info', description='Progress:', layout=Layout(height='25px', width='50%'),…"
      ]
     },
     "metadata": {},
     "output_type": "display_data"
    },
    {
     "name": "stdout",
     "output_type": "stream",
     "text": [
      "+-------+------------------------------------+\n",
      "|tripkey|bus_stations                        |\n",
      "+-------+------------------------------------+\n",
      "|1      |[BVAutogara, BCAutogara, ISAutogara]|\n",
      "|3      |[CJAutogara, MSAutogara, BCAutogara]|\n",
      "|2      |[TMAutogara, SBAutogara, CTAutogara]|\n",
      "|0      |[BAutogara, SBAutogara, MMAutogara] |\n",
      "+-------+------------------------------------+"
     ]
    }
   ],
   "source": [
    "df_stations_ids_names_agg = df_stations_ids_names.groupBy('tripkey').agg(F.collect_list(F.struct(\"pos\", \"public_bus_station\")).alias(\"bus_unordered\"))\n",
    "df_stations_ids_names_agg = df_stations_ids_names_agg.withColumn(\"bus_stations\", sort_udf(F.col(\"bus_unordered\"))).drop(\"bus_unordered\")\n",
    "df_stations_ids_names_agg.show(truncate=False)"
   ]
  },
  {
   "cell_type": "markdown",
   "id": "cf38c2f2",
   "metadata": {},
   "source": [
    "### UDF function to calculate the duration of each trip"
   ]
  },
  {
   "cell_type": "code",
   "execution_count": 42,
   "id": "dcef35eb",
   "metadata": {},
   "outputs": [
    {
     "data": {
      "application/vnd.jupyter.widget-view+json": {
       "model_id": "7ee9444d1b0244d69049e05e303635ad",
       "version_major": 2,
       "version_minor": 0
      },
      "text/plain": [
       "VBox()"
      ]
     },
     "metadata": {},
     "output_type": "display_data"
    },
    {
     "data": {
      "application/vnd.jupyter.widget-view+json": {
       "model_id": "",
       "version_major": 2,
       "version_minor": 0
      },
      "text/plain": [
       "FloatProgress(value=0.0, bar_style='info', description='Progress:', layout=Layout(height='25px', width='50%'),…"
      ]
     },
     "metadata": {},
     "output_type": "display_data"
    }
   ],
   "source": [
    "import datetime\n",
    "def calculate_journey_duration(column):\n",
    "    last_date = datetime.datetime.strptime(column[len(column) - 1], '%Y-%m-%d %H:%M:%S')\n",
    "    first_date = datetime.datetime.strptime(column[0], '%Y-%m-%d %H:%M:%S')\n",
    "    dif_result =  last_date - first_date\n",
    "    journey_time_minutes = int(dif_result.seconds / 60)\n",
    "    return journey_time_minutes  \n",
    "    \n",
    "calculate_journey_udf = F.udf(calculate_journey_duration, T.IntegerType())"
   ]
  },
  {
   "cell_type": "code",
   "execution_count": 45,
   "id": "188fba13",
   "metadata": {},
   "outputs": [
    {
     "data": {
      "application/vnd.jupyter.widget-view+json": {
       "model_id": "bbb1060eee414a4395e67a076604684a",
       "version_major": 2,
       "version_minor": 0
      },
      "text/plain": [
       "VBox()"
      ]
     },
     "metadata": {},
     "output_type": "display_data"
    },
    {
     "data": {
      "application/vnd.jupyter.widget-view+json": {
       "model_id": "",
       "version_major": 2,
       "version_minor": 0
      },
      "text/plain": [
       "FloatProgress(value=0.0, bar_style='info', description='Progress:', layout=Layout(height='25px', width='50%'),…"
      ]
     },
     "metadata": {},
     "output_type": "display_data"
    },
    {
     "name": "stdout",
     "output_type": "stream",
     "text": [
      "+---+---------------------------------------------------------------+---+\n",
      "|pos|col                                                            |min|\n",
      "+---+---------------------------------------------------------------+---+\n",
      "|0  |[2020-03-01 10:10:00, 2020-03-01 12:20:10, 2020-03-01 15:10:00]|300|\n",
      "|1  |[2020-03-01 10:10:00, 2020-03-01 12:20:10, 2020-03-01 15:10:00]|300|\n",
      "|2  |[2020-04-01 10:10:00, 2020-04-01 12:20:10, 2020-04-01 15:10:00]|300|\n",
      "|3  |[2020-05-01 10:10:00, 2020-05-01 12:20:10, 2020-05-01 15:10:00]|300|\n",
      "+---+---------------------------------------------------------------+---+"
     ]
    }
   ],
   "source": [
    "df_trips_triptimes_agg = df_trips_triptimes.withColumn(\"min\", calculate_journey_udf(F.col('col')).cast(\"integer\"))\n",
    "df_trips_triptimes_agg.show(truncate=False)"
   ]
  },
  {
   "cell_type": "markdown",
   "id": "cb76df29",
   "metadata": {},
   "source": [
    "## JOIN TABLES to create the FINAL Table"
   ]
  },
  {
   "cell_type": "code",
   "execution_count": 47,
   "id": "5abef72e",
   "metadata": {},
   "outputs": [
    {
     "data": {
      "application/vnd.jupyter.widget-view+json": {
       "model_id": "2024c2aa801849dea532eb823b851739",
       "version_major": 2,
       "version_minor": 0
      },
      "text/plain": [
       "VBox()"
      ]
     },
     "metadata": {},
     "output_type": "display_data"
    },
    {
     "data": {
      "application/vnd.jupyter.widget-view+json": {
       "model_id": "",
       "version_major": 2,
       "version_minor": 0
      },
      "text/plain": [
       "FloatProgress(value=0.0, bar_style='info', description='Progress:', layout=Layout(height='25px', width='50%'),…"
      ]
     },
     "metadata": {},
     "output_type": "display_data"
    }
   ],
   "source": [
    "df_stations_ids_names_agg.createOrReplaceTempView(\"final_bus_stations_table\")\n",
    "df_trips_triptimes_agg.createOrReplaceTempView(\"final_duration_table\")\n",
    "final_table = spark.sql(\"\"\"\n",
    "        SELECT \n",
    "        ROW_NUMBER() OVER(ORDER BY a.tripkey ASC) AS row_num,\n",
    "        b.col as origin, \n",
    "        c.col as destination, \n",
    "        a.bus_stations as bus_stations,\n",
    "        d.min as duration\n",
    "        FROM final_bus_stations_table as a\n",
    "        JOIN origin_table as b ON a.tripkey = b.pos\n",
    "        JOIN dest_table as c ON b.pos=c.pos\n",
    "        JOIN final_duration_table as d ON a.tripkey=d.pos\n",
    "        ORDER BY a.tripkey\n",
    "        \"\"\")\n"
   ]
  },
  {
   "cell_type": "markdown",
   "id": "9aef56f1",
   "metadata": {},
   "source": [
    "# FINAL TABLE"
   ]
  },
  {
   "cell_type": "code",
   "execution_count": 48,
   "id": "a058eec7",
   "metadata": {},
   "outputs": [
    {
     "data": {
      "application/vnd.jupyter.widget-view+json": {
       "model_id": "444daeaa3d404d5995764500d00a0a60",
       "version_major": 2,
       "version_minor": 0
      },
      "text/plain": [
       "VBox()"
      ]
     },
     "metadata": {},
     "output_type": "display_data"
    },
    {
     "data": {
      "application/vnd.jupyter.widget-view+json": {
       "model_id": "",
       "version_major": 2,
       "version_minor": 0
      },
      "text/plain": [
       "FloatProgress(value=0.0, bar_style='info', description='Progress:', layout=Layout(height='25px', width='50%'),…"
      ]
     },
     "metadata": {},
     "output_type": "display_data"
    },
    {
     "name": "stdout",
     "output_type": "stream",
     "text": [
      "+-------+------+-----------+------------------------------------+--------+\n",
      "|row_num|origin|destination|bus_stations                        |duration|\n",
      "+-------+------+-----------+------------------------------------+--------+\n",
      "|1      |B     |MM         |[BAutogara, SBAutogara, MMAutogara] |300     |\n",
      "|2      |BV    |IS         |[BVAutogara, BCAutogara, ISAutogara]|300     |\n",
      "|3      |TM    |CT         |[TMAutogara, SBAutogara, CTAutogara]|300     |\n",
      "|4      |CJ    |BC         |[CJAutogara, MSAutogara, BCAutogara]|300     |\n",
      "+-------+------+-----------+------------------------------------+--------+"
     ]
    }
   ],
   "source": [
    "final_table.show(truncate=False)"
   ]
  },
  {
   "cell_type": "code",
   "execution_count": null,
   "id": "931a4181",
   "metadata": {},
   "outputs": [],
   "source": []
  }
 ],
 "metadata": {
  "kernelspec": {
   "display_name": "PySpark",
   "language": "",
   "name": "pysparkkernel"
  },
  "language_info": {
   "codemirror_mode": {
    "name": "python",
    "version": 2
   },
   "mimetype": "text/x-python",
   "name": "pyspark",
   "pygments_lexer": "python2"
  }
 },
 "nbformat": 4,
 "nbformat_minor": 5
}
